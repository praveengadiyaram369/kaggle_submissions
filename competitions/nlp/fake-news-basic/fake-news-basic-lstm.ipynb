{
 "cells": [
  {
   "cell_type": "code",
   "execution_count": 1,
   "metadata": {
    "_cell_guid": "b1076dfc-b9ad-4769-8c92-a6c4dae69d19",
    "_uuid": "8f2839f25d086af736a60e9eeb907d3b93b6e0e5",
    "execution": {
     "iopub.execute_input": "2021-03-04T22:10:36.614184Z",
     "iopub.status.busy": "2021-03-04T22:10:36.613160Z",
     "iopub.status.idle": "2021-03-04T22:10:36.619312Z",
     "shell.execute_reply": "2021-03-04T22:10:36.618570Z"
    },
    "papermill": {
     "duration": 0.022976,
     "end_time": "2021-03-04T22:10:36.619516",
     "exception": false,
     "start_time": "2021-03-04T22:10:36.596540",
     "status": "completed"
    },
    "tags": []
   },
   "outputs": [
    {
     "name": "stdout",
     "output_type": "stream",
     "text": [
      "/kaggle/input/fake-news/submit.csv\n",
      "/kaggle/input/fake-news/train.csv\n",
      "/kaggle/input/fake-news/test.csv\n"
     ]
    }
   ],
   "source": [
    "# This Python 3 environment comes with many helpful analytics libraries installed\n",
    "# It is defined by the kaggle/python Docker image: https://github.com/kaggle/docker-python\n",
    "# For example, here's several helpful packages to load\n",
    "\n",
    "import numpy as np # linear algebra\n",
    "import pandas as pd # data processing, CSV file I/O (e.g. pd.read_csv)\n",
    "\n",
    "# Input data files are available in the read-only \"../input/\" directory\n",
    "# For example, running this (by clicking run or pressing Shift+Enter) will list all files under the input directory\n",
    "\n",
    "import os\n",
    "for dirname, _, filenames in os.walk('/kaggle/input'):\n",
    "    for filename in filenames:\n",
    "        print(os.path.join(dirname, filename))\n",
    "\n",
    "# You can write up to 20GB to the current directory (/kaggle/working/) that gets preserved as output when you create a version using \"Save & Run All\" \n",
    "# You can also write temporary files to /kaggle/temp/, but they won't be saved outside of the current session"
   ]
  },
  {
   "cell_type": "code",
   "execution_count": 2,
   "metadata": {
    "execution": {
     "iopub.execute_input": "2021-03-04T22:10:36.645365Z",
     "iopub.status.busy": "2021-03-04T22:10:36.644628Z",
     "iopub.status.idle": "2021-03-04T22:10:40.597735Z",
     "shell.execute_reply": "2021-03-04T22:10:40.597100Z"
    },
    "papermill": {
     "duration": 3.967902,
     "end_time": "2021-03-04T22:10:40.597872",
     "exception": false,
     "start_time": "2021-03-04T22:10:36.629970",
     "status": "completed"
    },
    "tags": []
   },
   "outputs": [
    {
     "data": {
      "text/html": [
       "<div>\n",
       "<style scoped>\n",
       "    .dataframe tbody tr th:only-of-type {\n",
       "        vertical-align: middle;\n",
       "    }\n",
       "\n",
       "    .dataframe tbody tr th {\n",
       "        vertical-align: top;\n",
       "    }\n",
       "\n",
       "    .dataframe thead th {\n",
       "        text-align: right;\n",
       "    }\n",
       "</style>\n",
       "<table border=\"1\" class=\"dataframe\">\n",
       "  <thead>\n",
       "    <tr style=\"text-align: right;\">\n",
       "      <th></th>\n",
       "      <th>id</th>\n",
       "      <th>title</th>\n",
       "      <th>author</th>\n",
       "      <th>text</th>\n",
       "      <th>label</th>\n",
       "    </tr>\n",
       "  </thead>\n",
       "  <tbody>\n",
       "    <tr>\n",
       "      <th>0</th>\n",
       "      <td>0</td>\n",
       "      <td>House Dem Aide: We Didn’t Even See Comey’s Let...</td>\n",
       "      <td>Darrell Lucus</td>\n",
       "      <td>House Dem Aide: We Didn’t Even See Comey’s Let...</td>\n",
       "      <td>1</td>\n",
       "    </tr>\n",
       "    <tr>\n",
       "      <th>1</th>\n",
       "      <td>1</td>\n",
       "      <td>FLYNN: Hillary Clinton, Big Woman on Campus - ...</td>\n",
       "      <td>Daniel J. Flynn</td>\n",
       "      <td>Ever get the feeling your life circles the rou...</td>\n",
       "      <td>0</td>\n",
       "    </tr>\n",
       "  </tbody>\n",
       "</table>\n",
       "</div>"
      ],
      "text/plain": [
       "   id                                              title           author  \\\n",
       "0   0  House Dem Aide: We Didn’t Even See Comey’s Let...    Darrell Lucus   \n",
       "1   1  FLYNN: Hillary Clinton, Big Woman on Campus - ...  Daniel J. Flynn   \n",
       "\n",
       "                                                text  label  \n",
       "0  House Dem Aide: We Didn’t Even See Comey’s Let...      1  \n",
       "1  Ever get the feeling your life circles the rou...      0  "
      ]
     },
     "execution_count": 2,
     "metadata": {},
     "output_type": "execute_result"
    }
   ],
   "source": [
    "train_df = pd.read_csv('../input/fake-news/train.csv')\n",
    "test_df = pd.read_csv('../input/fake-news/test.csv')\n",
    "\n",
    "train_df.head(2)"
   ]
  },
  {
   "cell_type": "code",
   "execution_count": 3,
   "metadata": {
    "execution": {
     "iopub.execute_input": "2021-03-04T22:10:40.623050Z",
     "iopub.status.busy": "2021-03-04T22:10:40.622092Z",
     "iopub.status.idle": "2021-03-04T22:10:40.626422Z",
     "shell.execute_reply": "2021-03-04T22:10:40.626863Z"
    },
    "papermill": {
     "duration": 0.019451,
     "end_time": "2021-03-04T22:10:40.627054",
     "exception": false,
     "start_time": "2021-03-04T22:10:40.607603",
     "status": "completed"
    },
    "tags": []
   },
   "outputs": [
    {
     "data": {
      "text/plain": [
       "(20800, 5)"
      ]
     },
     "execution_count": 3,
     "metadata": {},
     "output_type": "execute_result"
    }
   ],
   "source": [
    "train_df.shape"
   ]
  },
  {
   "cell_type": "code",
   "execution_count": 4,
   "metadata": {
    "execution": {
     "iopub.execute_input": "2021-03-04T22:10:40.651083Z",
     "iopub.status.busy": "2021-03-04T22:10:40.650158Z",
     "iopub.status.idle": "2021-03-04T22:10:40.675075Z",
     "shell.execute_reply": "2021-03-04T22:10:40.674400Z"
    },
    "papermill": {
     "duration": 0.038363,
     "end_time": "2021-03-04T22:10:40.675276",
     "exception": false,
     "start_time": "2021-03-04T22:10:40.636913",
     "status": "completed"
    },
    "tags": []
   },
   "outputs": [
    {
     "name": "stdout",
     "output_type": "stream",
     "text": [
      "<class 'pandas.core.frame.DataFrame'>\n",
      "RangeIndex: 20800 entries, 0 to 20799\n",
      "Data columns (total 5 columns):\n",
      " #   Column  Non-Null Count  Dtype \n",
      "---  ------  --------------  ----- \n",
      " 0   id      20800 non-null  int64 \n",
      " 1   title   20242 non-null  object\n",
      " 2   author  18843 non-null  object\n",
      " 3   text    20761 non-null  object\n",
      " 4   label   20800 non-null  int64 \n",
      "dtypes: int64(2), object(3)\n",
      "memory usage: 812.6+ KB\n"
     ]
    }
   ],
   "source": [
    "train_df.info()"
   ]
  },
  {
   "cell_type": "code",
   "execution_count": 5,
   "metadata": {
    "execution": {
     "iopub.execute_input": "2021-03-04T22:10:40.707455Z",
     "iopub.status.busy": "2021-03-04T22:10:40.706860Z",
     "iopub.status.idle": "2021-03-04T22:10:40.750610Z",
     "shell.execute_reply": "2021-03-04T22:10:40.749759Z"
    },
    "papermill": {
     "duration": 0.064819,
     "end_time": "2021-03-04T22:10:40.750800",
     "exception": false,
     "start_time": "2021-03-04T22:10:40.685981",
     "status": "completed"
    },
    "tags": []
   },
   "outputs": [
    {
     "name": "stdout",
     "output_type": "stream",
     "text": [
      "<class 'pandas.core.frame.DataFrame'>\n",
      "Int64Index: 18285 entries, 0 to 20799\n",
      "Data columns (total 5 columns):\n",
      " #   Column  Non-Null Count  Dtype \n",
      "---  ------  --------------  ----- \n",
      " 0   id      18285 non-null  int64 \n",
      " 1   title   18285 non-null  object\n",
      " 2   author  18285 non-null  object\n",
      " 3   text    18285 non-null  object\n",
      " 4   label   18285 non-null  int64 \n",
      "dtypes: int64(2), object(3)\n",
      "memory usage: 857.1+ KB\n"
     ]
    }
   ],
   "source": [
    "train_df.dropna(inplace=True)\n",
    "train_df.info()"
   ]
  },
  {
   "cell_type": "code",
   "execution_count": 6,
   "metadata": {
    "execution": {
     "iopub.execute_input": "2021-03-04T22:10:40.781405Z",
     "iopub.status.busy": "2021-03-04T22:10:40.780081Z",
     "iopub.status.idle": "2021-03-04T22:10:40.782109Z",
     "shell.execute_reply": "2021-03-04T22:10:40.782530Z"
    },
    "papermill": {
     "duration": 0.020358,
     "end_time": "2021-03-04T22:10:40.782684",
     "exception": false,
     "start_time": "2021-03-04T22:10:40.762326",
     "status": "completed"
    },
    "tags": []
   },
   "outputs": [],
   "source": [
    "X = train_df.drop('label', axis=1)\n",
    "y = train_df.label\n",
    "\n",
    "assert X.shape[0] == y.shape[0]"
   ]
  },
  {
   "cell_type": "code",
   "execution_count": 7,
   "metadata": {
    "execution": {
     "iopub.execute_input": "2021-03-04T22:10:40.809142Z",
     "iopub.status.busy": "2021-03-04T22:10:40.808505Z",
     "iopub.status.idle": "2021-03-04T22:10:49.353723Z",
     "shell.execute_reply": "2021-03-04T22:10:49.352702Z"
    },
    "papermill": {
     "duration": 8.560309,
     "end_time": "2021-03-04T22:10:49.353891",
     "exception": false,
     "start_time": "2021-03-04T22:10:40.793582",
     "status": "completed"
    },
    "tags": []
   },
   "outputs": [],
   "source": [
    "import tensorflow as tf\n",
    "\n",
    "import re\n",
    "\n",
    "import nltk\n",
    "from nltk.corpus import stopwords\n",
    "from nltk.stem import PorterStemmer"
   ]
  },
  {
   "cell_type": "code",
   "execution_count": 8,
   "metadata": {
    "execution": {
     "iopub.execute_input": "2021-03-04T22:10:49.385399Z",
     "iopub.status.busy": "2021-03-04T22:10:49.384735Z",
     "iopub.status.idle": "2021-03-04T22:10:49.395065Z",
     "shell.execute_reply": "2021-03-04T22:10:49.394392Z"
    },
    "papermill": {
     "duration": 0.030075,
     "end_time": "2021-03-04T22:10:49.395220",
     "exception": false,
     "start_time": "2021-03-04T22:10:49.365145",
     "status": "completed"
    },
    "tags": []
   },
   "outputs": [],
   "source": [
    "vocab_size = 7000\n",
    "sentence_size = 20\n",
    "stemmer = PorterStemmer()\n",
    "stopwords_en = stopwords.words('english')"
   ]
  },
  {
   "cell_type": "code",
   "execution_count": 9,
   "metadata": {
    "execution": {
     "iopub.execute_input": "2021-03-04T22:10:49.424555Z",
     "iopub.status.busy": "2021-03-04T22:10:49.423893Z",
     "iopub.status.idle": "2021-03-04T22:10:49.427440Z",
     "shell.execute_reply": "2021-03-04T22:10:49.426960Z"
    },
    "papermill": {
     "duration": 0.020709,
     "end_time": "2021-03-04T22:10:49.427580",
     "exception": false,
     "start_time": "2021-03-04T22:10:49.406871",
     "status": "completed"
    },
    "tags": []
   },
   "outputs": [],
   "source": [
    "def pre_process_textdata(text):\n",
    "    \n",
    "    text = str(text)\n",
    "    re_out = re.sub(r'[^a-zA-Z]', ' ', text.strip())\n",
    "    lower_out = re_out.lower()\n",
    "    stop_words_out = [stemmer.stem(word) for word in lower_out.split() if word not in stopwords_en]\n",
    "    final_review = ' '.join(stop_words_out)\n",
    "    \n",
    "    return final_review"
   ]
  },
  {
   "cell_type": "code",
   "execution_count": 10,
   "metadata": {
    "execution": {
     "iopub.execute_input": "2021-03-04T22:10:49.453918Z",
     "iopub.status.busy": "2021-03-04T22:10:49.453207Z",
     "iopub.status.idle": "2021-03-04T22:10:53.074666Z",
     "shell.execute_reply": "2021-03-04T22:10:53.075109Z"
    },
    "papermill": {
     "duration": 3.635919,
     "end_time": "2021-03-04T22:10:53.075287",
     "exception": false,
     "start_time": "2021-03-04T22:10:49.439368",
     "status": "completed"
    },
    "tags": []
   },
   "outputs": [
    {
     "data": {
      "text/html": [
       "<div>\n",
       "<style scoped>\n",
       "    .dataframe tbody tr th:only-of-type {\n",
       "        vertical-align: middle;\n",
       "    }\n",
       "\n",
       "    .dataframe tbody tr th {\n",
       "        vertical-align: top;\n",
       "    }\n",
       "\n",
       "    .dataframe thead th {\n",
       "        text-align: right;\n",
       "    }\n",
       "</style>\n",
       "<table border=\"1\" class=\"dataframe\">\n",
       "  <thead>\n",
       "    <tr style=\"text-align: right;\">\n",
       "      <th></th>\n",
       "      <th>id</th>\n",
       "      <th>title</th>\n",
       "      <th>author</th>\n",
       "      <th>text</th>\n",
       "    </tr>\n",
       "  </thead>\n",
       "  <tbody>\n",
       "    <tr>\n",
       "      <th>0</th>\n",
       "      <td>0</td>\n",
       "      <td>hous dem aid even see comey letter jason chaff...</td>\n",
       "      <td>Darrell Lucus</td>\n",
       "      <td>House Dem Aide: We Didn’t Even See Comey’s Let...</td>\n",
       "    </tr>\n",
       "    <tr>\n",
       "      <th>1</th>\n",
       "      <td>1</td>\n",
       "      <td>flynn hillari clinton big woman campu breitbart</td>\n",
       "      <td>Daniel J. Flynn</td>\n",
       "      <td>Ever get the feeling your life circles the rou...</td>\n",
       "    </tr>\n",
       "    <tr>\n",
       "      <th>2</th>\n",
       "      <td>2</td>\n",
       "      <td>truth might get fire</td>\n",
       "      <td>Consortiumnews.com</td>\n",
       "      <td>Why the Truth Might Get You Fired October 29, ...</td>\n",
       "    </tr>\n",
       "  </tbody>\n",
       "</table>\n",
       "</div>"
      ],
      "text/plain": [
       "   id                                              title              author  \\\n",
       "0   0  hous dem aid even see comey letter jason chaff...       Darrell Lucus   \n",
       "1   1    flynn hillari clinton big woman campu breitbart     Daniel J. Flynn   \n",
       "2   2                               truth might get fire  Consortiumnews.com   \n",
       "\n",
       "                                                text  \n",
       "0  House Dem Aide: We Didn’t Even See Comey’s Let...  \n",
       "1  Ever get the feeling your life circles the rou...  \n",
       "2  Why the Truth Might Get You Fired October 29, ...  "
      ]
     },
     "execution_count": 10,
     "metadata": {},
     "output_type": "execute_result"
    }
   ],
   "source": [
    "X['title'] = X['title'].apply(lambda x: pre_process_textdata(x))\n",
    "X.head(3)"
   ]
  },
  {
   "cell_type": "code",
   "execution_count": 11,
   "metadata": {
    "execution": {
     "iopub.execute_input": "2021-03-04T22:10:53.108243Z",
     "iopub.status.busy": "2021-03-04T22:10:53.107195Z",
     "iopub.status.idle": "2021-03-04T22:10:53.111312Z",
     "shell.execute_reply": "2021-03-04T22:10:53.110767Z"
    },
    "papermill": {
     "duration": 0.022343,
     "end_time": "2021-03-04T22:10:53.111451",
     "exception": false,
     "start_time": "2021-03-04T22:10:53.089108",
     "status": "completed"
    },
    "tags": []
   },
   "outputs": [
    {
     "data": {
      "text/plain": [
       "0    hous dem aid even see comey letter jason chaff...\n",
       "1      flynn hillari clinton big woman campu breitbart\n",
       "2                                 truth might get fire\n",
       "Name: title, dtype: object"
      ]
     },
     "execution_count": 11,
     "metadata": {},
     "output_type": "execute_result"
    }
   ],
   "source": [
    "corpus = X.title\n",
    "corpus[0:3]"
   ]
  },
  {
   "cell_type": "code",
   "execution_count": 12,
   "metadata": {
    "execution": {
     "iopub.execute_input": "2021-03-04T22:10:53.160300Z",
     "iopub.status.busy": "2021-03-04T22:10:53.155099Z",
     "iopub.status.idle": "2021-03-04T22:10:53.369089Z",
     "shell.execute_reply": "2021-03-04T22:10:53.368428Z"
    },
    "papermill": {
     "duration": 0.245648,
     "end_time": "2021-03-04T22:10:53.369238",
     "exception": false,
     "start_time": "2021-03-04T22:10:53.123590",
     "status": "completed"
    },
    "tags": []
   },
   "outputs": [
    {
     "data": {
      "text/plain": [
       "[[5466, 5178, 6632, 1636, 3211, 2688, 2997, 2472, 3500, 5407],\n",
       " [745, 3186, 3113, 931, 3165, 3517, 714],\n",
       " [1543, 6941, 140, 5873]]"
      ]
     },
     "execution_count": 12,
     "metadata": {},
     "output_type": "execute_result"
    }
   ],
   "source": [
    "onehot_encoded_data = []\n",
    "for sentence in corpus:\n",
    "    onehot_encoded_data.append(tf.keras.preprocessing.text.one_hot(sentence, vocab_size))\n",
    "    \n",
    "onehot_encoded_data[0:3]"
   ]
  },
  {
   "cell_type": "code",
   "execution_count": 13,
   "metadata": {
    "execution": {
     "iopub.execute_input": "2021-03-04T22:10:53.401071Z",
     "iopub.status.busy": "2021-03-04T22:10:53.400443Z",
     "iopub.status.idle": "2021-03-04T22:10:53.477333Z",
     "shell.execute_reply": "2021-03-04T22:10:53.476778Z"
    },
    "papermill": {
     "duration": 0.095759,
     "end_time": "2021-03-04T22:10:53.477471",
     "exception": false,
     "start_time": "2021-03-04T22:10:53.381712",
     "status": "completed"
    },
    "tags": []
   },
   "outputs": [
    {
     "data": {
      "text/plain": [
       "array([[   0,    0,    0,    0,    0,    0,    0,    0,    0,    0, 5466,\n",
       "        5178, 6632, 1636, 3211, 2688, 2997, 2472, 3500, 5407],\n",
       "       [   0,    0,    0,    0,    0,    0,    0,    0,    0,    0,    0,\n",
       "           0,    0,  745, 3186, 3113,  931, 3165, 3517,  714],\n",
       "       [   0,    0,    0,    0,    0,    0,    0,    0,    0,    0,    0,\n",
       "           0,    0,    0,    0,    0, 1543, 6941,  140, 5873]],\n",
       "      dtype=int32)"
      ]
     },
     "execution_count": 13,
     "metadata": {},
     "output_type": "execute_result"
    }
   ],
   "source": [
    "padded_sentences = tf.keras.preprocessing.sequence.pad_sequences(onehot_encoded_data, maxlen=sentence_size, padding='pre')\n",
    "padded_sentences[0:3]"
   ]
  },
  {
   "cell_type": "code",
   "execution_count": 14,
   "metadata": {
    "execution": {
     "iopub.execute_input": "2021-03-04T22:10:53.506594Z",
     "iopub.status.busy": "2021-03-04T22:10:53.505679Z",
     "iopub.status.idle": "2021-03-04T22:10:54.090756Z",
     "shell.execute_reply": "2021-03-04T22:10:54.090260Z"
    },
    "papermill": {
     "duration": 0.600575,
     "end_time": "2021-03-04T22:10:54.090902",
     "exception": false,
     "start_time": "2021-03-04T22:10:53.490327",
     "status": "completed"
    },
    "tags": []
   },
   "outputs": [
    {
     "name": "stdout",
     "output_type": "stream",
     "text": [
      "Model: \"sequential\"\n",
      "_________________________________________________________________\n",
      "Layer (type)                 Output Shape              Param #   \n",
      "=================================================================\n",
      "embedding (Embedding)        (None, 20, 50)            350000    \n",
      "_________________________________________________________________\n",
      "dropout (Dropout)            (None, 20, 50)            0         \n",
      "_________________________________________________________________\n",
      "lstm (LSTM)                  (None, 128)               91648     \n",
      "_________________________________________________________________\n",
      "dropout_1 (Dropout)          (None, 128)               0         \n",
      "_________________________________________________________________\n",
      "dense (Dense)                (None, 1)                 129       \n",
      "=================================================================\n",
      "Total params: 441,777\n",
      "Trainable params: 441,777\n",
      "Non-trainable params: 0\n",
      "_________________________________________________________________\n"
     ]
    }
   ],
   "source": [
    "model = tf.keras.models.Sequential([\n",
    "    tf.keras.layers.Embedding(vocab_size, 50, input_length=sentence_size),\n",
    "    tf.keras.layers.Dropout(0.4),\n",
    "    tf.keras.layers.LSTM(128),\n",
    "    tf.keras.layers.Dropout(0.4),\n",
    "    tf.keras.layers.Dense(1, activation='sigmoid')\n",
    "])\n",
    "model.compile(loss='binary_crossentropy', optimizer='adam', metrics= ['accuracy'])\n",
    "model.summary()"
   ]
  },
  {
   "cell_type": "code",
   "execution_count": 15,
   "metadata": {
    "execution": {
     "iopub.execute_input": "2021-03-04T22:10:54.124349Z",
     "iopub.status.busy": "2021-03-04T22:10:54.123648Z",
     "iopub.status.idle": "2021-03-04T22:12:28.306768Z",
     "shell.execute_reply": "2021-03-04T22:12:28.306068Z"
    },
    "papermill": {
     "duration": 94.202748,
     "end_time": "2021-03-04T22:12:28.306926",
     "exception": false,
     "start_time": "2021-03-04T22:10:54.104178",
     "status": "completed"
    },
    "tags": []
   },
   "outputs": [
    {
     "name": "stdout",
     "output_type": "stream",
     "text": [
      "Epoch 1/50\n",
      "400/400 [==============================] - 16s 34ms/step - loss: 0.3963 - accuracy: 0.7981 - val_loss: 0.1952 - val_accuracy: 0.9180\n",
      "Epoch 2/50\n",
      "400/400 [==============================] - 13s 33ms/step - loss: 0.1330 - accuracy: 0.9498 - val_loss: 0.1918 - val_accuracy: 0.9229\n",
      "Epoch 3/50\n",
      "400/400 [==============================] - 13s 32ms/step - loss: 0.0922 - accuracy: 0.9669 - val_loss: 0.2020 - val_accuracy: 0.9194\n",
      "Epoch 4/50\n",
      "400/400 [==============================] - 13s 32ms/step - loss: 0.0676 - accuracy: 0.9780 - val_loss: 0.2273 - val_accuracy: 0.9120\n",
      "Epoch 5/50\n",
      "400/400 [==============================] - 13s 32ms/step - loss: 0.0483 - accuracy: 0.9842 - val_loss: 0.2615 - val_accuracy: 0.9176\n",
      "Epoch 6/50\n",
      "400/400 [==============================] - 13s 33ms/step - loss: 0.0351 - accuracy: 0.9878 - val_loss: 0.2972 - val_accuracy: 0.9191\n",
      "Epoch 7/50\n",
      "400/400 [==============================] - 13s 33ms/step - loss: 0.0268 - accuracy: 0.9915 - val_loss: 0.3223 - val_accuracy: 0.9172\n"
     ]
    }
   ],
   "source": [
    "early_stopping = tf.keras.callbacks.EarlyStopping(\n",
    "    min_delta=0.001, \n",
    "    patience=5, \n",
    "    restore_best_weights=True,\n",
    ")\n",
    "\n",
    "history = model.fit(padded_sentences, y, epochs=50, validation_split=0.3, callbacks=[early_stopping], batch_size=32)"
   ]
  },
  {
   "cell_type": "code",
   "execution_count": 16,
   "metadata": {
    "execution": {
     "iopub.execute_input": "2021-03-04T22:12:29.004492Z",
     "iopub.status.busy": "2021-03-04T22:12:29.003470Z",
     "iopub.status.idle": "2021-03-04T22:12:29.162881Z",
     "shell.execute_reply": "2021-03-04T22:12:29.163407Z"
    },
    "papermill": {
     "duration": 0.517757,
     "end_time": "2021-03-04T22:12:29.163583",
     "exception": false,
     "start_time": "2021-03-04T22:12:28.645826",
     "status": "completed"
    },
    "tags": []
   },
   "outputs": [
    {
     "data": {
      "image/png": "[encoded data removed]",
      "text/plain": [
       "<Figure size 432x288 with 1 Axes>"
      ]
     },
     "metadata": {
      "needs_background": "light"
     },
     "output_type": "display_data"
    }
   ],
   "source": [
    "import matplotlib.pyplot as plt\n",
    "\n",
    "plt.plot(history.history['loss'])\n",
    "plt.show()"
   ]
  },
  {
   "cell_type": "code",
   "execution_count": 17,
   "metadata": {
    "execution": {
     "iopub.execute_input": "2021-03-04T22:12:29.846339Z",
     "iopub.status.busy": "2021-03-04T22:12:29.845320Z",
     "iopub.status.idle": "2021-03-04T22:12:30.976848Z",
     "shell.execute_reply": "2021-03-04T22:12:30.976139Z"
    },
    "papermill": {
     "duration": 1.475202,
     "end_time": "2021-03-04T22:12:30.977028",
     "exception": false,
     "start_time": "2021-03-04T22:12:29.501826",
     "status": "completed"
    },
    "tags": []
   },
   "outputs": [],
   "source": [
    "test_df['title'] = test_df['title'].apply(lambda x: pre_process_textdata(x))\n",
    "onehot_encoded_data_test = []\n",
    "for sentence in test_df.title:\n",
    "    onehot_encoded_data_test.append(tf.keras.preprocessing.text.one_hot(sentence, vocab_size))\n",
    "    \n",
    "padded_sentences_test = tf.keras.preprocessing.sequence.pad_sequences(onehot_encoded_data_test, maxlen=sentence_size, padding='pre')    "
   ]
  },
  {
   "cell_type": "code",
   "execution_count": 18,
   "metadata": {
    "execution": {
     "iopub.execute_input": "2021-03-04T22:12:31.659284Z",
     "iopub.status.busy": "2021-03-04T22:12:31.658227Z",
     "iopub.status.idle": "2021-03-04T22:12:33.659583Z",
     "shell.execute_reply": "2021-03-04T22:12:33.660584Z"
    },
    "papermill": {
     "duration": 2.34307,
     "end_time": "2021-03-04T22:12:33.660770",
     "exception": false,
     "start_time": "2021-03-04T22:12:31.317700",
     "status": "completed"
    },
    "tags": []
   },
   "outputs": [
    {
     "name": "stderr",
     "output_type": "stream",
     "text": [
      "/opt/conda/lib/python3.7/site-packages/tensorflow/python/keras/engine/sequential.py:450: UserWarning: `model.predict_classes()` is deprecated and will be removed after 2021-01-01. Please use instead:* `np.argmax(model.predict(x), axis=-1)`,   if your model does multi-class classification   (e.g. if it uses a `softmax` last-layer activation).* `(model.predict(x) > 0.5).astype(\"int32\")`,   if your model does binary classification   (e.g. if it uses a `sigmoid` last-layer activation).\n",
      "  warnings.warn('`model.predict_classes()` is deprecated and '\n"
     ]
    },
    {
     "name": "stdout",
     "output_type": "stream",
     "text": [
      "(5200, 1)\n"
     ]
    }
   ],
   "source": [
    "result = model.predict_classes(padded_sentences_test)\n",
    "print(result.shape)\n",
    "\n",
    "output = pd.DataFrame( data={\"id\":test_df[\"id\"], \"label\":result.reshape(-1, )} )\n",
    "output.to_csv( \"submission.csv\", index=False, quoting=3 )"
   ]
  }
 ],
 "metadata": {
  "kernelspec": {
   "display_name": "Python 3",
   "language": "python",
   "name": "python3"
  },
  "language_info": {
   "codemirror_mode": {
    "name": "ipython",
    "version": 3
   },
   "file_extension": ".py",
   "mimetype": "text/x-python",
   "name": "python",
   "nbconvert_exporter": "python",
   "pygments_lexer": "ipython3",
   "version": "3.7.9"
  },
  "papermill": {
   "default_parameters": {},
   "duration": 124.490674,
   "end_time": "2021-03-04T22:12:35.414763",
   "environment_variables": {},
   "exception": null,
   "input_path": "__notebook__.ipynb",
   "output_path": "__notebook__.ipynb",
   "parameters": {},
   "start_time": "2021-03-04T22:10:30.924089",
   "version": "2.2.2"
  }
 },
 "nbformat": 4,
 "nbformat_minor": 4
}

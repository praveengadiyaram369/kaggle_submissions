{
 "cells": [
  {
   "cell_type": "code",
   "execution_count": 1,
   "metadata": {
    "_cell_guid": "b1076dfc-b9ad-4769-8c92-a6c4dae69d19",
    "_uuid": "8f2839f25d086af736a60e9eeb907d3b93b6e0e5",
    "execution": {
     "iopub.execute_input": "2021-03-04T15:19:49.277446Z",
     "iopub.status.busy": "2021-03-04T15:19:49.276641Z",
     "iopub.status.idle": "2021-03-04T15:19:49.282118Z",
     "shell.execute_reply": "2021-03-04T15:19:49.282615Z"
    },
    "papermill": {
     "duration": 0.026476,
     "end_time": "2021-03-04T15:19:49.282941",
     "exception": false,
     "start_time": "2021-03-04T15:19:49.256465",
     "status": "completed"
    },
    "tags": []
   },
   "outputs": [
    {
     "name": "stdout",
     "output_type": "stream",
     "text": [
      "/kaggle/input/word2vec-nlp-tutorial/testData.tsv.zip\n",
      "/kaggle/input/word2vec-nlp-tutorial/sampleSubmission.csv\n",
      "/kaggle/input/word2vec-nlp-tutorial/unlabeledTrainData.tsv.zip\n",
      "/kaggle/input/word2vec-nlp-tutorial/labeledTrainData.tsv.zip\n"
     ]
    }
   ],
   "source": [
    "# This Python 3 environment comes with many helpful analytics libraries installed\n",
    "# It is defined by the kaggle/python Docker image: https://github.com/kaggle/docker-python\n",
    "# For example, here's several helpful packages to load\n",
    "\n",
    "import numpy as np # linear algebra\n",
    "import pandas as pd # data processing, CSV file I/O (e.g. pd.read_csv)\n",
    "\n",
    "# Input data files are available in the read-only \"../input/\" directory\n",
    "# For example, running this (by clicking run or pressing Shift+Enter) will list all files under the input directory\n",
    "\n",
    "import os\n",
    "for dirname, _, filenames in os.walk('/kaggle/input'):\n",
    "    for filename in filenames:\n",
    "        print(os.path.join(dirname, filename))\n",
    "\n",
    "# You can write up to 20GB to the current directory (/kaggle/working/) that gets preserved as output when you create a version using \"Save & Run All\" \n",
    "# You can also write temporary files to /kaggle/temp/, but they won't be saved outside of the current session"
   ]
  },
  {
   "cell_type": "code",
   "execution_count": 2,
   "metadata": {
    "execution": {
     "iopub.execute_input": "2021-03-04T15:19:49.324386Z",
     "iopub.status.busy": "2021-03-04T15:19:49.312243Z",
     "iopub.status.idle": "2021-03-04T15:19:58.043776Z",
     "shell.execute_reply": "2021-03-04T15:19:58.041990Z"
    },
    "papermill": {
     "duration": 8.748455,
     "end_time": "2021-03-04T15:19:58.044210",
     "exception": false,
     "start_time": "2021-03-04T15:19:49.295755",
     "status": "completed"
    },
    "tags": []
   },
   "outputs": [
    {
     "name": "stdout",
     "output_type": "stream",
     "text": [
      "Collecting BeautifulSoup4\r\n",
      "  Downloading beautifulsoup4-4.9.3-py3-none-any.whl (115 kB)\r\n",
      "\u001b[K     |████████████████████████████████| 115 kB 894 kB/s \r\n",
      "\u001b[?25hCollecting soupsieve>1.2\r\n",
      "  Downloading soupsieve-2.2-py3-none-any.whl (33 kB)\r\n",
      "Installing collected packages: soupsieve, BeautifulSoup4\r\n",
      "Successfully installed BeautifulSoup4-4.9.3 soupsieve-2.2\r\n"
     ]
    }
   ],
   "source": [
    "!pip install BeautifulSoup4"
   ]
  },
  {
   "cell_type": "code",
   "execution_count": 3,
   "metadata": {
    "execution": {
     "iopub.execute_input": "2021-03-04T15:19:58.092930Z",
     "iopub.status.busy": "2021-03-04T15:19:58.092293Z",
     "iopub.status.idle": "2021-03-04T15:20:03.428699Z",
     "shell.execute_reply": "2021-03-04T15:20:03.430419Z"
    },
    "papermill": {
     "duration": 5.365622,
     "end_time": "2021-03-04T15:20:03.431541",
     "exception": false,
     "start_time": "2021-03-04T15:19:58.065919",
     "status": "completed"
    },
    "tags": []
   },
   "outputs": [],
   "source": [
    "train_df = pd.read_csv('../input/word2vec-nlp-tutorial/labeledTrainData.tsv.zip', delimiter='\\t', header=0, quoting=3)\n",
    "untrain_df = pd.read_csv('../input/word2vec-nlp-tutorial/unlabeledTrainData.tsv.zip', delimiter='\\t', header=0, quoting=3)\n",
    "test_df = pd.read_csv('../input/word2vec-nlp-tutorial/testData.tsv.zip', delimiter='\\t', header=0, quoting=3)"
   ]
  },
  {
   "cell_type": "code",
   "execution_count": 4,
   "metadata": {
    "execution": {
     "iopub.execute_input": "2021-03-04T15:20:03.499945Z",
     "iopub.status.busy": "2021-03-04T15:20:03.499018Z",
     "iopub.status.idle": "2021-03-04T15:20:03.540780Z",
     "shell.execute_reply": "2021-03-04T15:20:03.540115Z"
    },
    "papermill": {
     "duration": 0.060019,
     "end_time": "2021-03-04T15:20:03.540929",
     "exception": false,
     "start_time": "2021-03-04T15:20:03.480910",
     "status": "completed"
    },
    "tags": []
   },
   "outputs": [
    {
     "data": {
      "text/html": [
       "<div>\n",
       "<style scoped>\n",
       "    .dataframe tbody tr th:only-of-type {\n",
       "        vertical-align: middle;\n",
       "    }\n",
       "\n",
       "    .dataframe tbody tr th {\n",
       "        vertical-align: top;\n",
       "    }\n",
       "\n",
       "    .dataframe thead th {\n",
       "        text-align: right;\n",
       "    }\n",
       "</style>\n",
       "<table border=\"1\" class=\"dataframe\">\n",
       "  <thead>\n",
       "    <tr style=\"text-align: right;\">\n",
       "      <th></th>\n",
       "      <th>id</th>\n",
       "      <th>sentiment</th>\n",
       "      <th>review</th>\n",
       "    </tr>\n",
       "  </thead>\n",
       "  <tbody>\n",
       "    <tr>\n",
       "      <th>0</th>\n",
       "      <td>\"5814_8\"</td>\n",
       "      <td>1</td>\n",
       "      <td>\"With all this stuff going down at the moment ...</td>\n",
       "    </tr>\n",
       "    <tr>\n",
       "      <th>1</th>\n",
       "      <td>\"2381_9\"</td>\n",
       "      <td>1</td>\n",
       "      <td>\"\\\"The Classic War of the Worlds\\\" by Timothy ...</td>\n",
       "    </tr>\n",
       "    <tr>\n",
       "      <th>2</th>\n",
       "      <td>\"7759_3\"</td>\n",
       "      <td>0</td>\n",
       "      <td>\"The film starts with a manager (Nicholas Bell...</td>\n",
       "    </tr>\n",
       "  </tbody>\n",
       "</table>\n",
       "</div>"
      ],
      "text/plain": [
       "         id  sentiment                                             review\n",
       "0  \"5814_8\"          1  \"With all this stuff going down at the moment ...\n",
       "1  \"2381_9\"          1  \"\\\"The Classic War of the Worlds\\\" by Timothy ...\n",
       "2  \"7759_3\"          0  \"The film starts with a manager (Nicholas Bell..."
      ]
     },
     "execution_count": 4,
     "metadata": {},
     "output_type": "execute_result"
    }
   ],
   "source": [
    "train_df.head(3)"
   ]
  },
  {
   "cell_type": "code",
   "execution_count": 5,
   "metadata": {
    "execution": {
     "iopub.execute_input": "2021-03-04T15:20:03.576791Z",
     "iopub.status.busy": "2021-03-04T15:20:03.575852Z",
     "iopub.status.idle": "2021-03-04T15:20:06.160020Z",
     "shell.execute_reply": "2021-03-04T15:20:06.159076Z"
    },
    "papermill": {
     "duration": 2.604303,
     "end_time": "2021-03-04T15:20:06.160194",
     "exception": false,
     "start_time": "2021-03-04T15:20:03.555891",
     "status": "completed"
    },
    "tags": []
   },
   "outputs": [],
   "source": [
    "from bs4 import BeautifulSoup\n",
    "import re\n",
    "\n",
    "import nltk\n",
    "from nltk.corpus import stopwords"
   ]
  },
  {
   "cell_type": "code",
   "execution_count": 6,
   "metadata": {
    "execution": {
     "iopub.execute_input": "2021-03-04T15:20:06.201453Z",
     "iopub.status.busy": "2021-03-04T15:20:06.200183Z",
     "iopub.status.idle": "2021-03-04T15:20:06.209949Z",
     "shell.execute_reply": "2021-03-04T15:20:06.209433Z"
    },
    "papermill": {
     "duration": 0.034806,
     "end_time": "2021-03-04T15:20:06.210088",
     "exception": false,
     "start_time": "2021-03-04T15:20:06.175282",
     "status": "completed"
    },
    "tags": []
   },
   "outputs": [],
   "source": [
    "stopwords_en = stopwords.words('english')"
   ]
  },
  {
   "cell_type": "code",
   "execution_count": 7,
   "metadata": {
    "execution": {
     "iopub.execute_input": "2021-03-04T15:20:06.243537Z",
     "iopub.status.busy": "2021-03-04T15:20:06.242931Z",
     "iopub.status.idle": "2021-03-04T15:20:06.249580Z",
     "shell.execute_reply": "2021-03-04T15:20:06.250055Z"
    },
    "papermill": {
     "duration": 0.024904,
     "end_time": "2021-03-04T15:20:06.250246",
     "exception": false,
     "start_time": "2021-03-04T15:20:06.225342",
     "status": "completed"
    },
    "tags": []
   },
   "outputs": [],
   "source": [
    "def pre_process_textdata(text):\n",
    "    \n",
    "    sample_text = BeautifulSoup(text.strip())\n",
    "    bs_out = sample_text.get_text()\n",
    "    re_out = re.sub(r'[^a-zA-Z]', ' ', bs_out)\n",
    "    lower_out = re_out.lower()\n",
    "    stop_words_out = [word for word in lower_out.split() if word not in stopwords_en]\n",
    "    #final_review = ' '.join(stop_words_out)\n",
    "    \n",
    "    return stop_words_out"
   ]
  },
  {
   "cell_type": "code",
   "execution_count": 8,
   "metadata": {
    "execution": {
     "iopub.execute_input": "2021-03-04T15:20:06.286331Z",
     "iopub.status.busy": "2021-03-04T15:20:06.285765Z",
     "iopub.status.idle": "2021-03-04T15:20:06.311672Z",
     "shell.execute_reply": "2021-03-04T15:20:06.312303Z"
    },
    "papermill": {
     "duration": 0.04726,
     "end_time": "2021-03-04T15:20:06.312499",
     "exception": false,
     "start_time": "2021-03-04T15:20:06.265239",
     "status": "completed"
    },
    "tags": []
   },
   "outputs": [],
   "source": [
    "tokenizer = nltk.data.load('tokenizers/punkt/english.pickle')"
   ]
  },
  {
   "cell_type": "code",
   "execution_count": 9,
   "metadata": {
    "execution": {
     "iopub.execute_input": "2021-03-04T15:20:06.348254Z",
     "iopub.status.busy": "2021-03-04T15:20:06.347611Z",
     "iopub.status.idle": "2021-03-04T15:20:06.352414Z",
     "shell.execute_reply": "2021-03-04T15:20:06.352908Z"
    },
    "papermill": {
     "duration": 0.025445,
     "end_time": "2021-03-04T15:20:06.353079",
     "exception": false,
     "start_time": "2021-03-04T15:20:06.327634",
     "status": "completed"
    },
    "tags": []
   },
   "outputs": [
    {
     "name": "stdout",
     "output_type": "stream",
     "text": [
      "\"With all this stuff going down at the moment with MJ i've started listening to his music, watching the odd documentary here and there, watched The Wiz and watched Moonwalker again. Maybe i just want to get a certain insight into this guy who i thought was really cool in the eighties just to maybe make up my mind whether he is guilty or innocent. Moonwalker is part biography, part feature film which i remember going to see at the cinema when it was originally released. Some of it has subtle messages about MJ's feeling towards the press and also the obvious message of drugs are bad m'kay.<br /><br />Visually impressive but of course this is all about Michael Jackson so unless you remotely like MJ in anyway then you are going to hate this and find it boring. Some may call MJ an egotist for consenting to the making of this movie BUT MJ and most of his fans would say that he made it for the fans which if true is really nice of him.<br /><br />The actual feature film bit when it finally starts is only on for 20 minutes or so excluding the Smooth Criminal sequence and Joe Pesci is convincing as a psychopathic all powerful drug lord. Why he wants MJ dead so bad is beyond me. Because MJ overheard his plans? Nah, Joe Pesci's character ranted that he wanted people to know it is he who is supplying drugs etc so i dunno, maybe he just hates MJ's music.<br /><br />Lots of cool things in this like MJ turning into a car and a robot and the whole Speed Demon sequence. Also, the director must have had the patience of a saint when it came to filming the kiddy Bad sequence as usually directors hate working with one kid let alone a whole bunch of them performing a complex dance scene.<br /><br />Bottom line, this movie is for people who like MJ on one level or another (which i think is most people). If not, then stay away. It does try and give off a wholesome message and ironically MJ's bestest buddy in this movie is a girl! Michael Jackson is truly one of the most talented people ever to grace this planet but is he guilty? Well, with all the attention i've gave this subject....hmmm well i don't know because people can be different behind closed doors, i know this for a fact. He is either an extremely nice but stupid guy or one of the most sickest liars. I hope he is not the latter.\"\n"
     ]
    }
   ],
   "source": [
    "sample_text = train_df['review'][0]\n",
    "print(sample_text)"
   ]
  },
  {
   "cell_type": "code",
   "execution_count": 10,
   "metadata": {
    "execution": {
     "iopub.execute_input": "2021-03-04T15:20:06.387886Z",
     "iopub.status.busy": "2021-03-04T15:20:06.387249Z",
     "iopub.status.idle": "2021-03-04T15:20:06.395737Z",
     "shell.execute_reply": "2021-03-04T15:20:06.396390Z"
    },
    "papermill": {
     "duration": 0.02772,
     "end_time": "2021-03-04T15:20:06.396629",
     "exception": false,
     "start_time": "2021-03-04T15:20:06.368909",
     "status": "completed"
    },
    "tags": []
   },
   "outputs": [
    {
     "name": "stdout",
     "output_type": "stream",
     "text": [
      "['\"With all this stuff going down at the moment with MJ i\\'ve started listening to his music, watching the odd documentary here and there, watched The Wiz and watched Moonwalker again.', 'Maybe i just want to get a certain insight into this guy who i thought was really cool in the eighties just to maybe make up my mind whether he is guilty or innocent.', 'Moonwalker is part biography, part feature film which i remember going to see at the cinema when it was originally released.', \"Some of it has subtle messages about MJ's feeling towards the press and also the obvious message of drugs are bad m'kay.<br /><br />Visually impressive but of course this is all about Michael Jackson so unless you remotely like MJ in anyway then you are going to hate this and find it boring.\", 'Some may call MJ an egotist for consenting to the making of this movie BUT MJ and most of his fans would say that he made it for the fans which if true is really nice of him.<br /><br />The actual feature film bit when it finally starts is only on for 20 minutes or so excluding the Smooth Criminal sequence and Joe Pesci is convincing as a psychopathic all powerful drug lord.', 'Why he wants MJ dead so bad is beyond me.', 'Because MJ overheard his plans?', \"Nah, Joe Pesci's character ranted that he wanted people to know it is he who is supplying drugs etc so i dunno, maybe he just hates MJ's music.<br /><br />Lots of cool things in this like MJ turning into a car and a robot and the whole Speed Demon sequence.\", 'Also, the director must have had the patience of a saint when it came to filming the kiddy Bad sequence as usually directors hate working with one kid let alone a whole bunch of them performing a complex dance scene.<br /><br />Bottom line, this movie is for people who like MJ on one level or another (which i think is most people).', 'If not, then stay away.', \"It does try and give off a wholesome message and ironically MJ's bestest buddy in this movie is a girl!\", 'Michael Jackson is truly one of the most talented people ever to grace this planet but is he guilty?', \"Well, with all the attention i've gave this subject....hmmm well i don't know because people can be different behind closed doors, i know this for a fact.\", 'He is either an extremely nice but stupid guy or one of the most sickest liars.', 'I hope he is not the latter.\"']\n"
     ]
    }
   ],
   "source": [
    "sentences = tokenizer.tokenize(sample_text)\n",
    "print(sentences)"
   ]
  },
  {
   "cell_type": "code",
   "execution_count": 11,
   "metadata": {
    "execution": {
     "iopub.execute_input": "2021-03-04T15:20:06.435863Z",
     "iopub.status.busy": "2021-03-04T15:20:06.433583Z",
     "iopub.status.idle": "2021-03-04T15:20:06.452456Z",
     "shell.execute_reply": "2021-03-04T15:20:06.451924Z"
    },
    "papermill": {
     "duration": 0.039228,
     "end_time": "2021-03-04T15:20:06.452619",
     "exception": false,
     "start_time": "2021-03-04T15:20:06.413391",
     "status": "completed"
    },
    "tags": []
   },
   "outputs": [
    {
     "name": "stdout",
     "output_type": "stream",
     "text": [
      "[['stuff', 'going', 'moment', 'mj', 'started', 'listening', 'music', 'watching', 'odd', 'documentary', 'watched', 'wiz', 'watched', 'moonwalker'], ['maybe', 'want', 'get', 'certain', 'insight', 'guy', 'thought', 'really', 'cool', 'eighties', 'maybe', 'make', 'mind', 'whether', 'guilty', 'innocent'], ['moonwalker', 'part', 'biography', 'part', 'feature', 'film', 'remember', 'going', 'see', 'cinema', 'originally', 'released'], ['subtle', 'messages', 'mj', 'feeling', 'towards', 'press', 'also', 'obvious', 'message', 'drugs', 'bad', 'kay', 'visually', 'impressive', 'course', 'michael', 'jackson', 'unless', 'remotely', 'like', 'mj', 'anyway', 'going', 'hate', 'find', 'boring'], ['may', 'call', 'mj', 'egotist', 'consenting', 'making', 'movie', 'mj', 'fans', 'would', 'say', 'made', 'fans', 'true', 'really', 'nice', 'actual', 'feature', 'film', 'bit', 'finally', 'starts', 'minutes', 'excluding', 'smooth', 'criminal', 'sequence', 'joe', 'pesci', 'convincing', 'psychopathic', 'powerful', 'drug', 'lord'], ['wants', 'mj', 'dead', 'bad', 'beyond'], ['mj', 'overheard', 'plans'], ['nah', 'joe', 'pesci', 'character', 'ranted', 'wanted', 'people', 'know', 'supplying', 'drugs', 'etc', 'dunno', 'maybe', 'hates', 'mj', 'music', 'lots', 'cool', 'things', 'like', 'mj', 'turning', 'car', 'robot', 'whole', 'speed', 'demon', 'sequence'], ['also', 'director', 'must', 'patience', 'saint', 'came', 'filming', 'kiddy', 'bad', 'sequence', 'usually', 'directors', 'hate', 'working', 'one', 'kid', 'let', 'alone', 'whole', 'bunch', 'performing', 'complex', 'dance', 'scene', 'bottom', 'line', 'movie', 'people', 'like', 'mj', 'one', 'level', 'another', 'think', 'people'], ['stay', 'away'], ['try', 'give', 'wholesome', 'message', 'ironically', 'mj', 'bestest', 'buddy', 'movie', 'girl'], ['michael', 'jackson', 'truly', 'one', 'talented', 'people', 'ever', 'grace', 'planet', 'guilty'], ['well', 'attention', 'gave', 'subject', 'hmmm', 'well', 'know', 'people', 'different', 'behind', 'closed', 'doors', 'know', 'fact'], ['either', 'extremely', 'nice', 'stupid', 'guy', 'one', 'sickest', 'liars'], ['hope', 'latter']]\n"
     ]
    }
   ],
   "source": [
    "preprocessed_sentences = list(map(lambda x:pre_process_textdata(x), sentences))\n",
    "print(preprocessed_sentences)"
   ]
  },
  {
   "cell_type": "code",
   "execution_count": 12,
   "metadata": {
    "execution": {
     "iopub.execute_input": "2021-03-04T15:20:06.490051Z",
     "iopub.status.busy": "2021-03-04T15:20:06.489471Z",
     "iopub.status.idle": "2021-03-04T15:20:06.494911Z",
     "shell.execute_reply": "2021-03-04T15:20:06.495504Z"
    },
    "papermill": {
     "duration": 0.025939,
     "end_time": "2021-03-04T15:20:06.495681",
     "exception": false,
     "start_time": "2021-03-04T15:20:06.469742",
     "status": "completed"
    },
    "tags": []
   },
   "outputs": [],
   "source": [
    "def get_tokenized_sentences(input_text):\n",
    "    \n",
    "    sentences = tokenizer.tokenize(input_text)\n",
    "    preprocessed_sentences = list(map(lambda x:pre_process_textdata(x), sentences))\n",
    "    \n",
    "    return preprocessed_sentences"
   ]
  },
  {
   "cell_type": "code",
   "execution_count": 13,
   "metadata": {
    "execution": {
     "iopub.execute_input": "2021-03-04T15:20:06.531590Z",
     "iopub.status.busy": "2021-03-04T15:20:06.530998Z",
     "iopub.status.idle": "2021-03-04T15:24:41.741007Z",
     "shell.execute_reply": "2021-03-04T15:24:41.741521Z"
    },
    "papermill": {
     "duration": 275.229767,
     "end_time": "2021-03-04T15:24:41.741766",
     "exception": false,
     "start_time": "2021-03-04T15:20:06.511999",
     "status": "completed"
    },
    "tags": []
   },
   "outputs": [
    {
     "name": "stderr",
     "output_type": "stream",
     "text": [
      "/opt/conda/lib/python3.7/site-packages/bs4/__init__.py:336: MarkupResemblesLocatorWarning: \".\" looks like a filename, not markup. You should probably open this file and pass the filehandle into Beautiful Soup.\n",
      "  MarkupResemblesLocatorWarning\n",
      "/opt/conda/lib/python3.7/site-packages/bs4/__init__.py:424: MarkupResemblesLocatorWarning: \"http://www.happierabroad.com\"\" looks like a URL. Beautiful Soup is not an HTTP client. You should probably use an HTTP client like requests to get the document behind the URL, and feed that document to Beautiful Soup.\n",
      "  MarkupResemblesLocatorWarning\n",
      "/opt/conda/lib/python3.7/site-packages/bs4/__init__.py:424: MarkupResemblesLocatorWarning: \"http://www.archive.org/details/LovefromaStranger\"\" looks like a URL. Beautiful Soup is not an HTTP client. You should probably use an HTTP client like requests to get the document behind the URL, and feed that document to Beautiful Soup.\n",
      "  MarkupResemblesLocatorWarning\n",
      "/opt/conda/lib/python3.7/site-packages/bs4/__init__.py:424: MarkupResemblesLocatorWarning: \"http://www.loosechangeguide.com/LooseChangeGuide.html\"\" looks like a URL. Beautiful Soup is not an HTTP client. You should probably use an HTTP client like requests to get the document behind the URL, and feed that document to Beautiful Soup.\n",
      "  MarkupResemblesLocatorWarning\n",
      "/opt/conda/lib/python3.7/site-packages/bs4/__init__.py:424: MarkupResemblesLocatorWarning: \"http://www.msnbc.msn.com/id/4972055/site/newsweek/\"\" looks like a URL. Beautiful Soup is not an HTTP client. You should probably use an HTTP client like requests to get the document behind the URL, and feed that document to Beautiful Soup.\n",
      "  MarkupResemblesLocatorWarning\n",
      "/opt/conda/lib/python3.7/site-packages/bs4/__init__.py:336: MarkupResemblesLocatorWarning: \"..\" looks like a filename, not markup. You should probably open this file and pass the filehandle into Beautiful Soup.\n",
      "  MarkupResemblesLocatorWarning\n",
      "/opt/conda/lib/python3.7/site-packages/bs4/__init__.py:424: MarkupResemblesLocatorWarning: \"http://www.youtube.com/watch?v=a0KSqelmgN8\"\" looks like a URL. Beautiful Soup is not an HTTP client. You should probably use an HTTP client like requests to get the document behind the URL, and feed that document to Beautiful Soup.\n",
      "  MarkupResemblesLocatorWarning\n",
      "/opt/conda/lib/python3.7/site-packages/bs4/__init__.py:424: MarkupResemblesLocatorWarning: \"http://jake-weird.blogspot.com/2007/08/beneath.html\"\" looks like a URL. Beautiful Soup is not an HTTP client. You should probably use an HTTP client like requests to get the document behind the URL, and feed that document to Beautiful Soup.\n",
      "  MarkupResemblesLocatorWarning\n"
     ]
    },
    {
     "name": "stdout",
     "output_type": "stream",
     "text": [
      "795538\n"
     ]
    }
   ],
   "source": [
    "sentences = []\n",
    "\n",
    "for review in train_df['review']:\n",
    "    sentences += get_tokenized_sentences(review)\n",
    "    \n",
    "for review in untrain_df['review']:\n",
    "    sentences += get_tokenized_sentences(review)\n",
    "    \n",
    "print(len(sentences))"
   ]
  },
  {
   "cell_type": "code",
   "execution_count": 14,
   "metadata": {
    "execution": {
     "iopub.execute_input": "2021-03-04T15:24:41.784465Z",
     "iopub.status.busy": "2021-03-04T15:24:41.783851Z",
     "iopub.status.idle": "2021-03-04T15:26:02.604095Z",
     "shell.execute_reply": "2021-03-04T15:26:02.604586Z"
    },
    "papermill": {
     "duration": 80.844252,
     "end_time": "2021-03-04T15:26:02.604793",
     "exception": false,
     "start_time": "2021-03-04T15:24:41.760541",
     "status": "completed"
    },
    "tags": []
   },
   "outputs": [],
   "source": [
    "from gensim.models import word2vec\n",
    "\n",
    "model = word2vec.Word2Vec(sentences, size=300, min_count=40, window=10, sample=1e-3)\n",
    "model.init_sims(replace=True)"
   ]
  },
  {
   "cell_type": "code",
   "execution_count": 15,
   "metadata": {
    "execution": {
     "iopub.execute_input": "2021-03-04T15:26:02.647223Z",
     "iopub.status.busy": "2021-03-04T15:26:02.646252Z",
     "iopub.status.idle": "2021-03-04T15:26:02.658040Z",
     "shell.execute_reply": "2021-03-04T15:26:02.658751Z"
    },
    "papermill": {
     "duration": 0.035174,
     "end_time": "2021-03-04T15:26:02.658998",
     "exception": false,
     "start_time": "2021-03-04T15:26:02.623824",
     "status": "completed"
    },
    "tags": []
   },
   "outputs": [
    {
     "name": "stderr",
     "output_type": "stream",
     "text": [
      "/opt/conda/lib/python3.7/site-packages/ipykernel_launcher.py:1: DeprecationWarning: Call to deprecated `doesnt_match` (Method will be removed in 4.0.0, use self.wv.doesnt_match() instead).\n",
      "  \"\"\"Entry point for launching an IPython kernel.\n",
      "/opt/conda/lib/python3.7/site-packages/gensim/models/keyedvectors.py:877: FutureWarning: arrays to stack must be passed as a \"sequence\" type such as list or tuple. Support for non-sequence iterables such as generators is deprecated as of NumPy 1.16 and will raise an error in the future.\n",
      "  vectors = vstack(self.word_vec(word, use_norm=True) for word in used_words).astype(REAL)\n"
     ]
    },
    {
     "data": {
      "text/plain": [
       "'dog'"
      ]
     },
     "execution_count": 15,
     "metadata": {},
     "output_type": "execute_result"
    }
   ],
   "source": [
    "model.doesnt_match(['man', 'woman', 'dog', 'kid'])"
   ]
  },
  {
   "cell_type": "code",
   "execution_count": 16,
   "metadata": {
    "execution": {
     "iopub.execute_input": "2021-03-04T15:26:02.704396Z",
     "iopub.status.busy": "2021-03-04T15:26:02.703700Z",
     "iopub.status.idle": "2021-03-04T15:26:02.718098Z",
     "shell.execute_reply": "2021-03-04T15:26:02.717523Z"
    },
    "papermill": {
     "duration": 0.038719,
     "end_time": "2021-03-04T15:26:02.718259",
     "exception": false,
     "start_time": "2021-03-04T15:26:02.679540",
     "status": "completed"
    },
    "tags": []
   },
   "outputs": [
    {
     "name": "stderr",
     "output_type": "stream",
     "text": [
      "/opt/conda/lib/python3.7/site-packages/ipykernel_launcher.py:1: DeprecationWarning: Call to deprecated `most_similar` (Method will be removed in 4.0.0, use self.wv.most_similar() instead).\n",
      "  \"\"\"Entry point for launching an IPython kernel.\n"
     ]
    },
    {
     "data": {
      "text/plain": [
       "[('soviet', 0.862610399723053),\n",
       " ('europe', 0.8514181971549988),\n",
       " ('poland', 0.8375749588012695),\n",
       " ('russia', 0.8347918391227722),\n",
       " ('wwi', 0.8184590339660645),\n",
       " ('occupation', 0.8145135641098022),\n",
       " ('wwii', 0.8134337067604065),\n",
       " ('spain', 0.8059555888175964),\n",
       " ('revolution', 0.80049729347229),\n",
       " ('france', 0.7972924709320068)]"
      ]
     },
     "execution_count": 16,
     "metadata": {},
     "output_type": "execute_result"
    }
   ],
   "source": [
    "model.most_similar('germany')"
   ]
  },
  {
   "cell_type": "code",
   "execution_count": 17,
   "metadata": {
    "execution": {
     "iopub.execute_input": "2021-03-04T15:26:02.761893Z",
     "iopub.status.busy": "2021-03-04T15:26:02.761157Z",
     "iopub.status.idle": "2021-03-04T15:26:02.769736Z",
     "shell.execute_reply": "2021-03-04T15:26:02.770216Z"
    },
    "papermill": {
     "duration": 0.031836,
     "end_time": "2021-03-04T15:26:02.770411",
     "exception": false,
     "start_time": "2021-03-04T15:26:02.738575",
     "status": "completed"
    },
    "tags": []
   },
   "outputs": [
    {
     "name": "stderr",
     "output_type": "stream",
     "text": [
      "/opt/conda/lib/python3.7/site-packages/ipykernel_launcher.py:1: DeprecationWarning: Call to deprecated `__getitem__` (Method will be removed in 4.0.0, use self.wv.__getitem__() instead).\n",
      "  \"\"\"Entry point for launching an IPython kernel.\n"
     ]
    },
    {
     "data": {
      "text/plain": [
       "(300,)"
      ]
     },
     "execution_count": 17,
     "metadata": {},
     "output_type": "execute_result"
    }
   ],
   "source": [
    "model['king'].shape"
   ]
  },
  {
   "cell_type": "code",
   "execution_count": 18,
   "metadata": {
    "execution": {
     "iopub.execute_input": "2021-03-04T15:26:02.817758Z",
     "iopub.status.busy": "2021-03-04T15:26:02.817001Z",
     "iopub.status.idle": "2021-03-04T15:26:02.820123Z",
     "shell.execute_reply": "2021-03-04T15:26:02.819672Z"
    },
    "papermill": {
     "duration": 0.028368,
     "end_time": "2021-03-04T15:26:02.820284",
     "exception": false,
     "start_time": "2021-03-04T15:26:02.791916",
     "status": "completed"
    },
    "tags": []
   },
   "outputs": [],
   "source": [
    "import numpy as np"
   ]
  },
  {
   "cell_type": "code",
   "execution_count": 19,
   "metadata": {
    "execution": {
     "iopub.execute_input": "2021-03-04T15:26:02.867140Z",
     "iopub.status.busy": "2021-03-04T15:26:02.866154Z",
     "iopub.status.idle": "2021-03-04T15:26:02.875893Z",
     "shell.execute_reply": "2021-03-04T15:26:02.875328Z"
    },
    "papermill": {
     "duration": 0.034146,
     "end_time": "2021-03-04T15:26:02.876043",
     "exception": false,
     "start_time": "2021-03-04T15:26:02.841897",
     "status": "completed"
    },
    "tags": []
   },
   "outputs": [],
   "source": [
    "word_index_word2vecmodel = set(model.wv.index2word)"
   ]
  },
  {
   "cell_type": "code",
   "execution_count": 20,
   "metadata": {
    "execution": {
     "iopub.execute_input": "2021-03-04T15:26:02.921252Z",
     "iopub.status.busy": "2021-03-04T15:26:02.920596Z",
     "iopub.status.idle": "2021-03-04T15:26:02.925350Z",
     "shell.execute_reply": "2021-03-04T15:26:02.925841Z"
    },
    "papermill": {
     "duration": 0.029284,
     "end_time": "2021-03-04T15:26:02.926027",
     "exception": false,
     "start_time": "2021-03-04T15:26:02.896743",
     "status": "completed"
    },
    "tags": []
   },
   "outputs": [],
   "source": [
    "def makefeaturevector(words):\n",
    "    \n",
    "    feature_vector = np.zeros(300, dtype='float32')\n",
    "    nwords = 0\n",
    "    \n",
    "    for word in words:\n",
    "        if word in word_index_word2vecmodel:\n",
    "            nwords += 1\n",
    "            feature_vector = np.add(feature_vector, model[word])\n",
    "            \n",
    "    feature_vector = np.divide(feature_vector, nwords)\n",
    "    return feature_vector"
   ]
  },
  {
   "cell_type": "code",
   "execution_count": 21,
   "metadata": {
    "execution": {
     "iopub.execute_input": "2021-03-04T15:26:02.971097Z",
     "iopub.status.busy": "2021-03-04T15:26:02.970484Z",
     "iopub.status.idle": "2021-03-04T15:26:02.974860Z",
     "shell.execute_reply": "2021-03-04T15:26:02.975391Z"
    },
    "papermill": {
     "duration": 0.028769,
     "end_time": "2021-03-04T15:26:02.975585",
     "exception": false,
     "start_time": "2021-03-04T15:26:02.946816",
     "status": "completed"
    },
    "tags": []
   },
   "outputs": [],
   "source": [
    "def makefeaturevec_reviews(reviews):\n",
    "    \n",
    "    featurevec_reviews = np.zeros((len(reviews), 300), dtype='float32')\n",
    "    for idx, review in enumerate(reviews):\n",
    "\n",
    "        featurevec_reviews[idx] = makefeaturevector(review)\n",
    "        \n",
    "    return featurevec_reviews"
   ]
  },
  {
   "cell_type": "code",
   "execution_count": 22,
   "metadata": {
    "execution": {
     "iopub.execute_input": "2021-03-04T15:26:03.021724Z",
     "iopub.status.busy": "2021-03-04T15:26:03.021055Z",
     "iopub.status.idle": "2021-03-04T15:26:44.358225Z",
     "shell.execute_reply": "2021-03-04T15:26:44.357252Z"
    },
    "papermill": {
     "duration": 41.361273,
     "end_time": "2021-03-04T15:26:44.358383",
     "exception": false,
     "start_time": "2021-03-04T15:26:02.997110",
     "status": "completed"
    },
    "tags": []
   },
   "outputs": [],
   "source": [
    "preprocessed_traindata = list(map(lambda x:pre_process_textdata(x), train_df['review']))\n",
    "preprocessed_testdata = list(map(lambda x:pre_process_textdata(x), test_df['review']))"
   ]
  },
  {
   "cell_type": "code",
   "execution_count": 23,
   "metadata": {
    "execution": {
     "iopub.execute_input": "2021-03-04T15:26:44.438037Z",
     "iopub.status.busy": "2021-03-04T15:26:44.416450Z",
     "iopub.status.idle": "2021-03-04T15:27:15.863416Z",
     "shell.execute_reply": "2021-03-04T15:27:15.864003Z"
    },
    "papermill": {
     "duration": 31.484869,
     "end_time": "2021-03-04T15:27:15.864288",
     "exception": false,
     "start_time": "2021-03-04T15:26:44.379419",
     "status": "completed"
    },
    "tags": []
   },
   "outputs": [
    {
     "name": "stderr",
     "output_type": "stream",
     "text": [
      "/opt/conda/lib/python3.7/site-packages/ipykernel_launcher.py:9: DeprecationWarning: Call to deprecated `__getitem__` (Method will be removed in 4.0.0, use self.wv.__getitem__() instead).\n",
      "  if __name__ == '__main__':\n"
     ]
    }
   ],
   "source": [
    "traindata_features = makefeaturevec_reviews(preprocessed_traindata)\n",
    "testdata_features = makefeaturevec_reviews(preprocessed_testdata)"
   ]
  },
  {
   "cell_type": "code",
   "execution_count": 24,
   "metadata": {
    "execution": {
     "iopub.execute_input": "2021-03-04T15:27:15.920376Z",
     "iopub.status.busy": "2021-03-04T15:27:15.919581Z",
     "iopub.status.idle": "2021-03-04T15:28:08.794808Z",
     "shell.execute_reply": "2021-03-04T15:28:08.794115Z"
    },
    "papermill": {
     "duration": 52.905092,
     "end_time": "2021-03-04T15:28:08.795023",
     "exception": false,
     "start_time": "2021-03-04T15:27:15.889931",
     "status": "completed"
    },
    "tags": []
   },
   "outputs": [],
   "source": [
    "from sklearn.ensemble import RandomForestClassifier\n",
    "model = RandomForestClassifier(n_estimators=100).fit(traindata_features, train_df['sentiment'])"
   ]
  },
  {
   "cell_type": "code",
   "execution_count": 25,
   "metadata": {
    "execution": {
     "iopub.execute_input": "2021-03-04T15:28:08.846947Z",
     "iopub.status.busy": "2021-03-04T15:28:08.846221Z",
     "iopub.status.idle": "2021-03-04T15:28:09.618338Z",
     "shell.execute_reply": "2021-03-04T15:28:09.617698Z"
    },
    "papermill": {
     "duration": 0.799423,
     "end_time": "2021-03-04T15:28:09.618497",
     "exception": false,
     "start_time": "2021-03-04T15:28:08.819074",
     "status": "completed"
    },
    "tags": []
   },
   "outputs": [],
   "source": [
    "result = model.predict(testdata_features)\n",
    "\n",
    "# Write the test results \n",
    "output = pd.DataFrame( data={\"id\":test_df[\"id\"], \"sentiment\":result} )\n",
    "output.to_csv( \"submission.csv\", index=False, quoting=3 )"
   ]
  }
 ],
 "metadata": {
  "kernelspec": {
   "display_name": "Python 3",
   "language": "python",
   "name": "python3"
  },
  "language_info": {
   "codemirror_mode": {
    "name": "ipython",
    "version": 3
   },
   "file_extension": ".py",
   "mimetype": "text/x-python",
   "name": "python",
   "nbconvert_exporter": "python",
   "pygments_lexer": "ipython3",
   "version": "3.7.9"
  },
  "papermill": {
   "default_parameters": {},
   "duration": 508.398508,
   "end_time": "2021-03-04T15:28:12.160624",
   "environment_variables": {},
   "exception": null,
   "input_path": "__notebook__.ipynb",
   "output_path": "__notebook__.ipynb",
   "parameters": {},
   "start_time": "2021-03-04T15:19:43.762116",
   "version": "2.2.2"
  }
 },
 "nbformat": 4,
 "nbformat_minor": 4
}

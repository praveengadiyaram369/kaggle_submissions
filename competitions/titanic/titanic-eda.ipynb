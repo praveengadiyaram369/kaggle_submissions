{
 "cells": [
  {
   "cell_type": "markdown",
   "metadata": {
    "papermill": {
     "duration": 0.067432,
     "end_time": "2021-01-14T22:09:26.387835",
     "exception": false,
     "start_time": "2021-01-14T22:09:26.320403",
     "status": "completed"
    },
    "tags": []
   },
   "source": [
    "```\n",
    "Thanks and credits:\n",
    "1) https://www.kaggle.com/kenjee/titanic-project-example\n",
    "2) https://www.kaggle.com/startupsci/titanic-data-science-solutions\n",
    "3) https://www.kaggle.com/camole/titanic-top-9-with-extra-random-forest/comments\n",
    "4) https://www.kaggle.com/abdelrahmanzied/titanic-top-14-who-lives-and-who-dies\n",
    "```"
   ]
  },
  {
   "cell_type": "code",
   "execution_count": 1,
   "metadata": {
    "_cell_guid": "b1076dfc-b9ad-4769-8c92-a6c4dae69d19",
    "_uuid": "8f2839f25d086af736a60e9eeb907d3b93b6e0e5",
    "execution": {
     "iopub.execute_input": "2021-01-14T22:09:26.527818Z",
     "iopub.status.busy": "2021-01-14T22:09:26.527150Z",
     "iopub.status.idle": "2021-01-14T22:09:28.446966Z",
     "shell.execute_reply": "2021-01-14T22:09:28.445500Z"
    },
    "papermill": {
     "duration": 1.992808,
     "end_time": "2021-01-14T22:09:28.447223",
     "exception": false,
     "start_time": "2021-01-14T22:09:26.454415",
     "status": "completed"
    },
    "tags": []
   },
   "outputs": [
    {
     "name": "stdout",
     "output_type": "stream",
     "text": [
      "/kaggle/input/titanic/train.csv\n",
      "/kaggle/input/titanic/test.csv\n",
      "/kaggle/input/titanic/gender_submission.csv\n"
     ]
    }
   ],
   "source": [
    "# _import required libraries\n",
    "import numpy as np \n",
    "import pandas as pd \n",
    "import seaborn as sns \n",
    "import matplotlib.pyplot as plt\n",
    "%matplotlib inline\n",
    "\n",
    "import os\n",
    "for dirname, _, filenames in os.walk('/kaggle/input'):\n",
    "    for filename in filenames:\n",
    "        print(os.path.join(dirname, filename))"
   ]
  },
  {
   "cell_type": "code",
   "execution_count": 2,
   "metadata": {
    "_cell_guid": "79c7e3d0-c299-4dcb-8224-4455121ee9b0",
    "_uuid": "d629ff2d2480ee46fbb7e2d37f6b5fab8052498a",
    "execution": {
     "iopub.execute_input": "2021-01-14T22:09:28.544369Z",
     "iopub.status.busy": "2021-01-14T22:09:28.543674Z",
     "iopub.status.idle": "2021-01-14T22:09:28.601156Z",
     "shell.execute_reply": "2021-01-14T22:09:28.600610Z"
    },
    "papermill": {
     "duration": 0.109157,
     "end_time": "2021-01-14T22:09:28.601285",
     "exception": false,
     "start_time": "2021-01-14T22:09:28.492128",
     "status": "completed"
    },
    "tags": []
   },
   "outputs": [
    {
     "data": {
      "text/html": [
       "<div>\n",
       "<style scoped>\n",
       "    .dataframe tbody tr th:only-of-type {\n",
       "        vertical-align: middle;\n",
       "    }\n",
       "\n",
       "    .dataframe tbody tr th {\n",
       "        vertical-align: top;\n",
       "    }\n",
       "\n",
       "    .dataframe thead th {\n",
       "        text-align: right;\n",
       "    }\n",
       "</style>\n",
       "<table border=\"1\" class=\"dataframe\">\n",
       "  <thead>\n",
       "    <tr style=\"text-align: right;\">\n",
       "      <th></th>\n",
       "      <th>PassengerId</th>\n",
       "      <th>Survived</th>\n",
       "      <th>Pclass</th>\n",
       "      <th>Name</th>\n",
       "      <th>Sex</th>\n",
       "      <th>Age</th>\n",
       "      <th>SibSp</th>\n",
       "      <th>Parch</th>\n",
       "      <th>Ticket</th>\n",
       "      <th>Fare</th>\n",
       "      <th>Cabin</th>\n",
       "      <th>Embarked</th>\n",
       "    </tr>\n",
       "  </thead>\n",
       "  <tbody>\n",
       "    <tr>\n",
       "      <th>0</th>\n",
       "      <td>1</td>\n",
       "      <td>0</td>\n",
       "      <td>3</td>\n",
       "      <td>Braund, Mr. Owen Harris</td>\n",
       "      <td>male</td>\n",
       "      <td>22.0</td>\n",
       "      <td>1</td>\n",
       "      <td>0</td>\n",
       "      <td>A/5 21171</td>\n",
       "      <td>7.2500</td>\n",
       "      <td>NaN</td>\n",
       "      <td>S</td>\n",
       "    </tr>\n",
       "    <tr>\n",
       "      <th>1</th>\n",
       "      <td>2</td>\n",
       "      <td>1</td>\n",
       "      <td>1</td>\n",
       "      <td>Cumings, Mrs. John Bradley (Florence Briggs Th...</td>\n",
       "      <td>female</td>\n",
       "      <td>38.0</td>\n",
       "      <td>1</td>\n",
       "      <td>0</td>\n",
       "      <td>PC 17599</td>\n",
       "      <td>71.2833</td>\n",
       "      <td>C85</td>\n",
       "      <td>C</td>\n",
       "    </tr>\n",
       "    <tr>\n",
       "      <th>2</th>\n",
       "      <td>3</td>\n",
       "      <td>1</td>\n",
       "      <td>3</td>\n",
       "      <td>Heikkinen, Miss. Laina</td>\n",
       "      <td>female</td>\n",
       "      <td>26.0</td>\n",
       "      <td>0</td>\n",
       "      <td>0</td>\n",
       "      <td>STON/O2. 3101282</td>\n",
       "      <td>7.9250</td>\n",
       "      <td>NaN</td>\n",
       "      <td>S</td>\n",
       "    </tr>\n",
       "    <tr>\n",
       "      <th>3</th>\n",
       "      <td>4</td>\n",
       "      <td>1</td>\n",
       "      <td>1</td>\n",
       "      <td>Futrelle, Mrs. Jacques Heath (Lily May Peel)</td>\n",
       "      <td>female</td>\n",
       "      <td>35.0</td>\n",
       "      <td>1</td>\n",
       "      <td>0</td>\n",
       "      <td>113803</td>\n",
       "      <td>53.1000</td>\n",
       "      <td>C123</td>\n",
       "      <td>S</td>\n",
       "    </tr>\n",
       "    <tr>\n",
       "      <th>4</th>\n",
       "      <td>5</td>\n",
       "      <td>0</td>\n",
       "      <td>3</td>\n",
       "      <td>Allen, Mr. William Henry</td>\n",
       "      <td>male</td>\n",
       "      <td>35.0</td>\n",
       "      <td>0</td>\n",
       "      <td>0</td>\n",
       "      <td>373450</td>\n",
       "      <td>8.0500</td>\n",
       "      <td>NaN</td>\n",
       "      <td>S</td>\n",
       "    </tr>\n",
       "  </tbody>\n",
       "</table>\n",
       "</div>"
      ],
      "text/plain": [
       "   PassengerId  Survived  Pclass  \\\n",
       "0            1         0       3   \n",
       "1            2         1       1   \n",
       "2            3         1       3   \n",
       "3            4         1       1   \n",
       "4            5         0       3   \n",
       "\n",
       "                                                Name     Sex   Age  SibSp  \\\n",
       "0                            Braund, Mr. Owen Harris    male  22.0      1   \n",
       "1  Cumings, Mrs. John Bradley (Florence Briggs Th...  female  38.0      1   \n",
       "2                             Heikkinen, Miss. Laina  female  26.0      0   \n",
       "3       Futrelle, Mrs. Jacques Heath (Lily May Peel)  female  35.0      1   \n",
       "4                           Allen, Mr. William Henry    male  35.0      0   \n",
       "\n",
       "   Parch            Ticket     Fare Cabin Embarked  \n",
       "0      0         A/5 21171   7.2500   NaN        S  \n",
       "1      0          PC 17599  71.2833   C85        C  \n",
       "2      0  STON/O2. 3101282   7.9250   NaN        S  \n",
       "3      0            113803  53.1000  C123        S  \n",
       "4      0            373450   8.0500   NaN        S  "
      ]
     },
     "execution_count": 2,
     "metadata": {},
     "output_type": "execute_result"
    }
   ],
   "source": [
    "# _load training data to a dataframe\n",
    "train_df = pd.read_csv('../input/titanic/train.csv')\n",
    "train_df.head()"
   ]
  },
  {
   "cell_type": "code",
   "execution_count": 3,
   "metadata": {
    "execution": {
     "iopub.execute_input": "2021-01-14T22:09:28.699577Z",
     "iopub.status.busy": "2021-01-14T22:09:28.698815Z",
     "iopub.status.idle": "2021-01-14T22:09:28.730835Z",
     "shell.execute_reply": "2021-01-14T22:09:28.730189Z"
    },
    "papermill": {
     "duration": 0.084332,
     "end_time": "2021-01-14T22:09:28.730970",
     "exception": false,
     "start_time": "2021-01-14T22:09:28.646638",
     "status": "completed"
    },
    "tags": []
   },
   "outputs": [
    {
     "data": {
      "text/html": [
       "<div>\n",
       "<style scoped>\n",
       "    .dataframe tbody tr th:only-of-type {\n",
       "        vertical-align: middle;\n",
       "    }\n",
       "\n",
       "    .dataframe tbody tr th {\n",
       "        vertical-align: top;\n",
       "    }\n",
       "\n",
       "    .dataframe thead th {\n",
       "        text-align: right;\n",
       "    }\n",
       "</style>\n",
       "<table border=\"1\" class=\"dataframe\">\n",
       "  <thead>\n",
       "    <tr style=\"text-align: right;\">\n",
       "      <th></th>\n",
       "      <th>PassengerId</th>\n",
       "      <th>Pclass</th>\n",
       "      <th>Name</th>\n",
       "      <th>Sex</th>\n",
       "      <th>Age</th>\n",
       "      <th>SibSp</th>\n",
       "      <th>Parch</th>\n",
       "      <th>Ticket</th>\n",
       "      <th>Fare</th>\n",
       "      <th>Cabin</th>\n",
       "      <th>Embarked</th>\n",
       "    </tr>\n",
       "  </thead>\n",
       "  <tbody>\n",
       "    <tr>\n",
       "      <th>0</th>\n",
       "      <td>892</td>\n",
       "      <td>3</td>\n",
       "      <td>Kelly, Mr. James</td>\n",
       "      <td>male</td>\n",
       "      <td>34.5</td>\n",
       "      <td>0</td>\n",
       "      <td>0</td>\n",
       "      <td>330911</td>\n",
       "      <td>7.8292</td>\n",
       "      <td>NaN</td>\n",
       "      <td>Q</td>\n",
       "    </tr>\n",
       "    <tr>\n",
       "      <th>1</th>\n",
       "      <td>893</td>\n",
       "      <td>3</td>\n",
       "      <td>Wilkes, Mrs. James (Ellen Needs)</td>\n",
       "      <td>female</td>\n",
       "      <td>47.0</td>\n",
       "      <td>1</td>\n",
       "      <td>0</td>\n",
       "      <td>363272</td>\n",
       "      <td>7.0000</td>\n",
       "      <td>NaN</td>\n",
       "      <td>S</td>\n",
       "    </tr>\n",
       "    <tr>\n",
       "      <th>2</th>\n",
       "      <td>894</td>\n",
       "      <td>2</td>\n",
       "      <td>Myles, Mr. Thomas Francis</td>\n",
       "      <td>male</td>\n",
       "      <td>62.0</td>\n",
       "      <td>0</td>\n",
       "      <td>0</td>\n",
       "      <td>240276</td>\n",
       "      <td>9.6875</td>\n",
       "      <td>NaN</td>\n",
       "      <td>Q</td>\n",
       "    </tr>\n",
       "    <tr>\n",
       "      <th>3</th>\n",
       "      <td>895</td>\n",
       "      <td>3</td>\n",
       "      <td>Wirz, Mr. Albert</td>\n",
       "      <td>male</td>\n",
       "      <td>27.0</td>\n",
       "      <td>0</td>\n",
       "      <td>0</td>\n",
       "      <td>315154</td>\n",
       "      <td>8.6625</td>\n",
       "      <td>NaN</td>\n",
       "      <td>S</td>\n",
       "    </tr>\n",
       "    <tr>\n",
       "      <th>4</th>\n",
       "      <td>896</td>\n",
       "      <td>3</td>\n",
       "      <td>Hirvonen, Mrs. Alexander (Helga E Lindqvist)</td>\n",
       "      <td>female</td>\n",
       "      <td>22.0</td>\n",
       "      <td>1</td>\n",
       "      <td>1</td>\n",
       "      <td>3101298</td>\n",
       "      <td>12.2875</td>\n",
       "      <td>NaN</td>\n",
       "      <td>S</td>\n",
       "    </tr>\n",
       "  </tbody>\n",
       "</table>\n",
       "</div>"
      ],
      "text/plain": [
       "   PassengerId  Pclass                                          Name     Sex  \\\n",
       "0          892       3                              Kelly, Mr. James    male   \n",
       "1          893       3              Wilkes, Mrs. James (Ellen Needs)  female   \n",
       "2          894       2                     Myles, Mr. Thomas Francis    male   \n",
       "3          895       3                              Wirz, Mr. Albert    male   \n",
       "4          896       3  Hirvonen, Mrs. Alexander (Helga E Lindqvist)  female   \n",
       "\n",
       "    Age  SibSp  Parch   Ticket     Fare Cabin Embarked  \n",
       "0  34.5      0      0   330911   7.8292   NaN        Q  \n",
       "1  47.0      1      0   363272   7.0000   NaN        S  \n",
       "2  62.0      0      0   240276   9.6875   NaN        Q  \n",
       "3  27.0      0      0   315154   8.6625   NaN        S  \n",
       "4  22.0      1      1  3101298  12.2875   NaN        S  "
      ]
     },
     "execution_count": 3,
     "metadata": {},
     "output_type": "execute_result"
    }
   ],
   "source": [
    "# _load testing data to a dataframe\n",
    "test_df = pd.read_csv('../input/titanic/test.csv')\n",
    "test_df.head()"
   ]
  },
  {
   "cell_type": "code",
   "execution_count": 4,
   "metadata": {
    "execution": {
     "iopub.execute_input": "2021-01-14T22:09:28.820309Z",
     "iopub.status.busy": "2021-01-14T22:09:28.819670Z",
     "iopub.status.idle": "2021-01-14T22:09:28.844157Z",
     "shell.execute_reply": "2021-01-14T22:09:28.845009Z"
    },
    "papermill": {
     "duration": 0.071415,
     "end_time": "2021-01-14T22:09:28.845584",
     "exception": false,
     "start_time": "2021-01-14T22:09:28.774169",
     "status": "completed"
    },
    "tags": []
   },
   "outputs": [
    {
     "name": "stdout",
     "output_type": "stream",
     "text": [
      "Training dataframe shape: (891, 12)\n",
      "\n",
      "<class 'pandas.core.frame.DataFrame'>\n",
      "RangeIndex: 891 entries, 0 to 890\n",
      "Data columns (total 12 columns):\n",
      " #   Column       Non-Null Count  Dtype  \n",
      "---  ------       --------------  -----  \n",
      " 0   PassengerId  891 non-null    int64  \n",
      " 1   Survived     891 non-null    int64  \n",
      " 2   Pclass       891 non-null    int64  \n",
      " 3   Name         891 non-null    object \n",
      " 4   Sex          891 non-null    object \n",
      " 5   Age          714 non-null    float64\n",
      " 6   SibSp        891 non-null    int64  \n",
      " 7   Parch        891 non-null    int64  \n",
      " 8   Ticket       891 non-null    object \n",
      " 9   Fare         891 non-null    float64\n",
      " 10  Cabin        204 non-null    object \n",
      " 11  Embarked     889 non-null    object \n",
      "dtypes: float64(2), int64(5), object(5)\n",
      "memory usage: 83.7+ KB\n"
     ]
    }
   ],
   "source": [
    "print(f'Training dataframe shape: {train_df.shape}\\n')\n",
    "\n",
    "# _observe the result of info() method - check for Dtype, Non-null count columns\n",
    "train_df.info()"
   ]
  },
  {
   "cell_type": "code",
   "execution_count": 5,
   "metadata": {
    "execution": {
     "iopub.execute_input": "2021-01-14T22:09:28.947467Z",
     "iopub.status.busy": "2021-01-14T22:09:28.946706Z",
     "iopub.status.idle": "2021-01-14T22:09:28.952772Z",
     "shell.execute_reply": "2021-01-14T22:09:28.953389Z"
    },
    "papermill": {
     "duration": 0.062914,
     "end_time": "2021-01-14T22:09:28.953565",
     "exception": false,
     "start_time": "2021-01-14T22:09:28.890651",
     "status": "completed"
    },
    "tags": []
   },
   "outputs": [
    {
     "name": "stdout",
     "output_type": "stream",
     "text": [
      "Training dataframe shape: (418, 11)\n",
      "\n",
      "<class 'pandas.core.frame.DataFrame'>\n",
      "RangeIndex: 418 entries, 0 to 417\n",
      "Data columns (total 11 columns):\n",
      " #   Column       Non-Null Count  Dtype  \n",
      "---  ------       --------------  -----  \n",
      " 0   PassengerId  418 non-null    int64  \n",
      " 1   Pclass       418 non-null    int64  \n",
      " 2   Name         418 non-null    object \n",
      " 3   Sex          418 non-null    object \n",
      " 4   Age          332 non-null    float64\n",
      " 5   SibSp        418 non-null    int64  \n",
      " 6   Parch        418 non-null    int64  \n",
      " 7   Ticket       418 non-null    object \n",
      " 8   Fare         417 non-null    float64\n",
      " 9   Cabin        91 non-null     object \n",
      " 10  Embarked     418 non-null    object \n",
      "dtypes: float64(2), int64(4), object(5)\n",
      "memory usage: 36.0+ KB\n"
     ]
    }
   ],
   "source": [
    "print(f'Training dataframe shape: {test_df.shape}\\n')\n",
    "\n",
    "# _observe the result of info() method - check for Dtype, Non-null count columns\n",
    "test_df.info()"
   ]
  },
  {
   "cell_type": "code",
   "execution_count": 6,
   "metadata": {
    "execution": {
     "iopub.execute_input": "2021-01-14T22:09:29.055242Z",
     "iopub.status.busy": "2021-01-14T22:09:29.054460Z",
     "iopub.status.idle": "2021-01-14T22:09:29.100240Z",
     "shell.execute_reply": "2021-01-14T22:09:29.100956Z"
    },
    "papermill": {
     "duration": 0.100959,
     "end_time": "2021-01-14T22:09:29.101127",
     "exception": false,
     "start_time": "2021-01-14T22:09:29.000168",
     "status": "completed"
    },
    "tags": []
   },
   "outputs": [
    {
     "name": "stdout",
     "output_type": "stream",
     "text": [
      "Age         177\n",
      "Cabin       687\n",
      "Embarked      2\n",
      "dtype: int64\n",
      "------------------------------------------------------------\n",
      "Age       86\n",
      "Fare       1\n",
      "Cabin    327\n",
      "dtype: int64\n"
     ]
    }
   ],
   "source": [
    "# Number of missing values in each column of training data\n",
    "missing_val_count_by_column = (train_df.isnull().sum())\n",
    "print(missing_val_count_by_column[missing_val_count_by_column > 0])\n",
    "\n",
    "print('---'*20)\n",
    "\n",
    "# Number of missing values in each column of test data\n",
    "missing_val_count_by_column = (test_df.isnull().sum())\n",
    "print(missing_val_count_by_column[missing_val_count_by_column > 0])"
   ]
  },
  {
   "cell_type": "code",
   "execution_count": 7,
   "metadata": {
    "execution": {
     "iopub.execute_input": "2021-01-14T22:09:29.210325Z",
     "iopub.status.busy": "2021-01-14T22:09:29.209574Z",
     "iopub.status.idle": "2021-01-14T22:09:29.256567Z",
     "shell.execute_reply": "2021-01-14T22:09:29.255514Z"
    },
    "papermill": {
     "duration": 0.105445,
     "end_time": "2021-01-14T22:09:29.256718",
     "exception": false,
     "start_time": "2021-01-14T22:09:29.151273",
     "status": "completed"
    },
    "tags": []
   },
   "outputs": [
    {
     "data": {
      "text/html": [
       "<div>\n",
       "<style scoped>\n",
       "    .dataframe tbody tr th:only-of-type {\n",
       "        vertical-align: middle;\n",
       "    }\n",
       "\n",
       "    .dataframe tbody tr th {\n",
       "        vertical-align: top;\n",
       "    }\n",
       "\n",
       "    .dataframe thead th {\n",
       "        text-align: right;\n",
       "    }\n",
       "</style>\n",
       "<table border=\"1\" class=\"dataframe\">\n",
       "  <thead>\n",
       "    <tr style=\"text-align: right;\">\n",
       "      <th></th>\n",
       "      <th>PassengerId</th>\n",
       "      <th>Survived</th>\n",
       "      <th>Pclass</th>\n",
       "      <th>Age</th>\n",
       "      <th>SibSp</th>\n",
       "      <th>Parch</th>\n",
       "      <th>Fare</th>\n",
       "    </tr>\n",
       "  </thead>\n",
       "  <tbody>\n",
       "    <tr>\n",
       "      <th>count</th>\n",
       "      <td>891.000000</td>\n",
       "      <td>891.000000</td>\n",
       "      <td>891.000000</td>\n",
       "      <td>714.000000</td>\n",
       "      <td>891.000000</td>\n",
       "      <td>891.000000</td>\n",
       "      <td>891.000000</td>\n",
       "    </tr>\n",
       "    <tr>\n",
       "      <th>mean</th>\n",
       "      <td>446.000000</td>\n",
       "      <td>0.383838</td>\n",
       "      <td>2.308642</td>\n",
       "      <td>29.699118</td>\n",
       "      <td>0.523008</td>\n",
       "      <td>0.381594</td>\n",
       "      <td>32.204208</td>\n",
       "    </tr>\n",
       "    <tr>\n",
       "      <th>std</th>\n",
       "      <td>257.353842</td>\n",
       "      <td>0.486592</td>\n",
       "      <td>0.836071</td>\n",
       "      <td>14.526497</td>\n",
       "      <td>1.102743</td>\n",
       "      <td>0.806057</td>\n",
       "      <td>49.693429</td>\n",
       "    </tr>\n",
       "    <tr>\n",
       "      <th>min</th>\n",
       "      <td>1.000000</td>\n",
       "      <td>0.000000</td>\n",
       "      <td>1.000000</td>\n",
       "      <td>0.420000</td>\n",
       "      <td>0.000000</td>\n",
       "      <td>0.000000</td>\n",
       "      <td>0.000000</td>\n",
       "    </tr>\n",
       "    <tr>\n",
       "      <th>25%</th>\n",
       "      <td>223.500000</td>\n",
       "      <td>0.000000</td>\n",
       "      <td>2.000000</td>\n",
       "      <td>20.125000</td>\n",
       "      <td>0.000000</td>\n",
       "      <td>0.000000</td>\n",
       "      <td>7.910400</td>\n",
       "    </tr>\n",
       "    <tr>\n",
       "      <th>50%</th>\n",
       "      <td>446.000000</td>\n",
       "      <td>0.000000</td>\n",
       "      <td>3.000000</td>\n",
       "      <td>28.000000</td>\n",
       "      <td>0.000000</td>\n",
       "      <td>0.000000</td>\n",
       "      <td>14.454200</td>\n",
       "    </tr>\n",
       "    <tr>\n",
       "      <th>75%</th>\n",
       "      <td>668.500000</td>\n",
       "      <td>1.000000</td>\n",
       "      <td>3.000000</td>\n",
       "      <td>38.000000</td>\n",
       "      <td>1.000000</td>\n",
       "      <td>0.000000</td>\n",
       "      <td>31.000000</td>\n",
       "    </tr>\n",
       "    <tr>\n",
       "      <th>max</th>\n",
       "      <td>891.000000</td>\n",
       "      <td>1.000000</td>\n",
       "      <td>3.000000</td>\n",
       "      <td>80.000000</td>\n",
       "      <td>8.000000</td>\n",
       "      <td>6.000000</td>\n",
       "      <td>512.329200</td>\n",
       "    </tr>\n",
       "  </tbody>\n",
       "</table>\n",
       "</div>"
      ],
      "text/plain": [
       "       PassengerId    Survived      Pclass         Age       SibSp  \\\n",
       "count   891.000000  891.000000  891.000000  714.000000  891.000000   \n",
       "mean    446.000000    0.383838    2.308642   29.699118    0.523008   \n",
       "std     257.353842    0.486592    0.836071   14.526497    1.102743   \n",
       "min       1.000000    0.000000    1.000000    0.420000    0.000000   \n",
       "25%     223.500000    0.000000    2.000000   20.125000    0.000000   \n",
       "50%     446.000000    0.000000    3.000000   28.000000    0.000000   \n",
       "75%     668.500000    1.000000    3.000000   38.000000    1.000000   \n",
       "max     891.000000    1.000000    3.000000   80.000000    8.000000   \n",
       "\n",
       "            Parch        Fare  \n",
       "count  891.000000  891.000000  \n",
       "mean     0.381594   32.204208  \n",
       "std      0.806057   49.693429  \n",
       "min      0.000000    0.000000  \n",
       "25%      0.000000    7.910400  \n",
       "50%      0.000000   14.454200  \n",
       "75%      0.000000   31.000000  \n",
       "max      6.000000  512.329200  "
      ]
     },
     "execution_count": 7,
     "metadata": {},
     "output_type": "execute_result"
    }
   ],
   "source": [
    "# _observe the result of describe() method for numerical values -- check all values\n",
    "train_df.describe()"
   ]
  },
  {
   "cell_type": "code",
   "execution_count": 8,
   "metadata": {
    "execution": {
     "iopub.execute_input": "2021-01-14T22:09:29.442249Z",
     "iopub.status.busy": "2021-01-14T22:09:29.414467Z",
     "iopub.status.idle": "2021-01-14T22:09:29.450581Z",
     "shell.execute_reply": "2021-01-14T22:09:29.449663Z"
    },
    "papermill": {
     "duration": 0.125346,
     "end_time": "2021-01-14T22:09:29.450739",
     "exception": false,
     "start_time": "2021-01-14T22:09:29.325393",
     "status": "completed"
    },
    "tags": []
   },
   "outputs": [
    {
     "data": {
      "text/html": [
       "<div>\n",
       "<style scoped>\n",
       "    .dataframe tbody tr th:only-of-type {\n",
       "        vertical-align: middle;\n",
       "    }\n",
       "\n",
       "    .dataframe tbody tr th {\n",
       "        vertical-align: top;\n",
       "    }\n",
       "\n",
       "    .dataframe thead th {\n",
       "        text-align: right;\n",
       "    }\n",
       "</style>\n",
       "<table border=\"1\" class=\"dataframe\">\n",
       "  <thead>\n",
       "    <tr style=\"text-align: right;\">\n",
       "      <th></th>\n",
       "      <th>Name</th>\n",
       "      <th>Sex</th>\n",
       "      <th>Ticket</th>\n",
       "      <th>Cabin</th>\n",
       "      <th>Embarked</th>\n",
       "    </tr>\n",
       "  </thead>\n",
       "  <tbody>\n",
       "    <tr>\n",
       "      <th>count</th>\n",
       "      <td>891</td>\n",
       "      <td>891</td>\n",
       "      <td>891</td>\n",
       "      <td>204</td>\n",
       "      <td>889</td>\n",
       "    </tr>\n",
       "    <tr>\n",
       "      <th>unique</th>\n",
       "      <td>891</td>\n",
       "      <td>2</td>\n",
       "      <td>681</td>\n",
       "      <td>147</td>\n",
       "      <td>3</td>\n",
       "    </tr>\n",
       "    <tr>\n",
       "      <th>top</th>\n",
       "      <td>Odahl, Mr. Nils Martin</td>\n",
       "      <td>male</td>\n",
       "      <td>1601</td>\n",
       "      <td>B96 B98</td>\n",
       "      <td>S</td>\n",
       "    </tr>\n",
       "    <tr>\n",
       "      <th>freq</th>\n",
       "      <td>1</td>\n",
       "      <td>577</td>\n",
       "      <td>7</td>\n",
       "      <td>4</td>\n",
       "      <td>644</td>\n",
       "    </tr>\n",
       "  </tbody>\n",
       "</table>\n",
       "</div>"
      ],
      "text/plain": [
       "                          Name   Sex Ticket    Cabin Embarked\n",
       "count                      891   891    891      204      889\n",
       "unique                     891     2    681      147        3\n",
       "top     Odahl, Mr. Nils Martin  male   1601  B96 B98        S\n",
       "freq                         1   577      7        4      644"
      ]
     },
     "execution_count": 8,
     "metadata": {},
     "output_type": "execute_result"
    }
   ],
   "source": [
    "# _observe the result of describe() method for categorical values -- check all values\n",
    "train_df.describe(include=['O'])"
   ]
  },
  {
   "cell_type": "code",
   "execution_count": 9,
   "metadata": {
    "execution": {
     "iopub.execute_input": "2021-01-14T22:09:29.606301Z",
     "iopub.status.busy": "2021-01-14T22:09:29.604389Z",
     "iopub.status.idle": "2021-01-14T22:09:29.609681Z",
     "shell.execute_reply": "2021-01-14T22:09:29.608163Z"
    },
    "papermill": {
     "duration": 0.090319,
     "end_time": "2021-01-14T22:09:29.609904",
     "exception": false,
     "start_time": "2021-01-14T22:09:29.519585",
     "status": "completed"
    },
    "tags": []
   },
   "outputs": [],
   "source": [
    "# _by looking at the data, it is obvious that the columns PassengerID, Ticket are not useful for the classification purpose\n",
    "# _so we can drop those columns\n",
    "drop_cols = ['PassengerId', 'Ticket']\n",
    "train_df.drop(drop_cols, axis=1, inplace=True)\n",
    "test_df.drop(['Ticket'], axis=1, inplace=True)"
   ]
  },
  {
   "cell_type": "code",
   "execution_count": 10,
   "metadata": {
    "execution": {
     "iopub.execute_input": "2021-01-14T22:09:29.762030Z",
     "iopub.status.busy": "2021-01-14T22:09:29.761065Z",
     "iopub.status.idle": "2021-01-14T22:09:31.003637Z",
     "shell.execute_reply": "2021-01-14T22:09:31.004397Z"
    },
    "papermill": {
     "duration": 1.32133,
     "end_time": "2021-01-14T22:09:31.004624",
     "exception": false,
     "start_time": "2021-01-14T22:09:29.683294",
     "status": "completed"
    },
    "tags": []
   },
   "outputs": [
    {
     "data": {
      "text/plain": [
       "array([[<matplotlib.axes._subplots.AxesSubplot object at 0x7fe80d64e950>,\n",
       "        <matplotlib.axes._subplots.AxesSubplot object at 0x7fe80c40b250>],\n",
       "       [<matplotlib.axes._subplots.AxesSubplot object at 0x7fe80c3c28d0>,\n",
       "        <matplotlib.axes._subplots.AxesSubplot object at 0x7fe80c378f50>],\n",
       "       [<matplotlib.axes._subplots.AxesSubplot object at 0x7fe80c338610>,\n",
       "        <matplotlib.axes._subplots.AxesSubplot object at 0x7fe80c2eec90>]],\n",
       "      dtype=object)"
      ]
     },
     "execution_count": 10,
     "metadata": {},
     "output_type": "execute_result"
    },
    {
     "data": {
      "image/png": "[encoded data removed]",
      "text/plain": [
       "<Figure size 648x504 with 6 Axes>"
      ]
     },
     "metadata": {
      "needs_background": "light"
     },
     "output_type": "display_data"
    }
   ],
   "source": [
    "# _plot histograms on numerical data and observe if all the important data is having same x-axis range/scale.\n",
    "# _check whether the plots are following normal distribution\n",
    "train_df.hist(bins=10,figsize=(9,7),grid=False)"
   ]
  },
  {
   "cell_type": "code",
   "execution_count": 11,
   "metadata": {
    "execution": {
     "iopub.execute_input": "2021-01-14T22:09:31.164910Z",
     "iopub.status.busy": "2021-01-14T22:09:31.163723Z",
     "iopub.status.idle": "2021-01-14T22:09:31.168583Z",
     "shell.execute_reply": "2021-01-14T22:09:31.167593Z"
    },
    "papermill": {
     "duration": 0.088044,
     "end_time": "2021-01-14T22:09:31.168729",
     "exception": false,
     "start_time": "2021-01-14T22:09:31.080685",
     "status": "completed"
    },
    "tags": []
   },
   "outputs": [],
   "source": [
    "num_cols = ['Age', 'SibSp', 'Parch', 'Fare']\n",
    "cat_cols = ['Survived', 'Pclass', 'Sex', 'Cabin', 'Embarked']"
   ]
  },
  {
   "cell_type": "code",
   "execution_count": 12,
   "metadata": {
    "execution": {
     "iopub.execute_input": "2021-01-14T22:09:31.319958Z",
     "iopub.status.busy": "2021-01-14T22:09:31.318986Z",
     "iopub.status.idle": "2021-01-14T22:09:31.325103Z",
     "shell.execute_reply": "2021-01-14T22:09:31.324260Z"
    },
    "papermill": {
     "duration": 0.085519,
     "end_time": "2021-01-14T22:09:31.325246",
     "exception": false,
     "start_time": "2021-01-14T22:09:31.239727",
     "status": "completed"
    },
    "tags": []
   },
   "outputs": [],
   "source": [
    "# _separate the numerical and categorical columns for data exploration\n",
    "df_num = train_df[num_cols]\n",
    "df_cat = train_df[cat_cols]"
   ]
  },
  {
   "cell_type": "code",
   "execution_count": 13,
   "metadata": {
    "execution": {
     "iopub.execute_input": "2021-01-14T22:09:31.481976Z",
     "iopub.status.busy": "2021-01-14T22:09:31.480816Z",
     "iopub.status.idle": "2021-01-14T22:09:31.783964Z",
     "shell.execute_reply": "2021-01-14T22:09:31.784612Z"
    },
    "papermill": {
     "duration": 0.387698,
     "end_time": "2021-01-14T22:09:31.784806",
     "exception": false,
     "start_time": "2021-01-14T22:09:31.397108",
     "status": "completed"
    },
    "tags": []
   },
   "outputs": [
    {
     "name": "stdout",
     "output_type": "stream",
     "text": [
      "          Survived    Pclass       Age     SibSp     Parch      Fare\n",
      "Survived  1.000000 -0.338481 -0.077221 -0.035322  0.081629  0.257307\n",
      "Pclass   -0.338481  1.000000 -0.369226  0.083081  0.018443 -0.549500\n",
      "Age      -0.077221 -0.369226  1.000000 -0.308247 -0.189119  0.096067\n",
      "SibSp    -0.035322  0.083081 -0.308247  1.000000  0.414838  0.159651\n",
      "Parch     0.081629  0.018443 -0.189119  0.414838  1.000000  0.216225\n",
      "Fare      0.257307 -0.549500  0.096067  0.159651  0.216225  1.000000\n"
     ]
    },
    {
     "data": {
      "text/plain": [
       "<matplotlib.axes._subplots.AxesSubplot at 0x7fe80c141f50>"
      ]
     },
     "execution_count": 13,
     "metadata": {},
     "output_type": "execute_result"
    },
    {
     "data": {
      "image/png": "[encoded data removed]",
      "text/plain": [
       "<Figure size 432x288 with 2 Axes>"
      ]
     },
     "metadata": {
      "needs_background": "light"
     },
     "output_type": "display_data"
    }
   ],
   "source": [
    "# _observe the correlation analysis\n",
    "print(train_df.corr())\n",
    "sns.heatmap(train_df.corr())"
   ]
  },
  {
   "cell_type": "code",
   "execution_count": 14,
   "metadata": {
    "execution": {
     "iopub.execute_input": "2021-01-14T22:09:31.940996Z",
     "iopub.status.busy": "2021-01-14T22:09:31.939840Z",
     "iopub.status.idle": "2021-01-14T22:09:31.967149Z",
     "shell.execute_reply": "2021-01-14T22:09:31.966248Z"
    },
    "papermill": {
     "duration": 0.107973,
     "end_time": "2021-01-14T22:09:31.967295",
     "exception": false,
     "start_time": "2021-01-14T22:09:31.859322",
     "status": "completed"
    },
    "tags": []
   },
   "outputs": [
    {
     "data": {
      "text/html": [
       "<div>\n",
       "<style scoped>\n",
       "    .dataframe tbody tr th:only-of-type {\n",
       "        vertical-align: middle;\n",
       "    }\n",
       "\n",
       "    .dataframe tbody tr th {\n",
       "        vertical-align: top;\n",
       "    }\n",
       "\n",
       "    .dataframe thead th {\n",
       "        text-align: right;\n",
       "    }\n",
       "</style>\n",
       "<table border=\"1\" class=\"dataframe\">\n",
       "  <thead>\n",
       "    <tr style=\"text-align: right;\">\n",
       "      <th></th>\n",
       "      <th>Survived</th>\n",
       "      <th>Pclass</th>\n",
       "      <th>Name</th>\n",
       "      <th>Sex</th>\n",
       "      <th>Age</th>\n",
       "      <th>SibSp</th>\n",
       "      <th>Parch</th>\n",
       "      <th>Fare</th>\n",
       "      <th>Cabin</th>\n",
       "      <th>Embarked</th>\n",
       "      <th>FamMembers</th>\n",
       "    </tr>\n",
       "  </thead>\n",
       "  <tbody>\n",
       "    <tr>\n",
       "      <th>0</th>\n",
       "      <td>0</td>\n",
       "      <td>3</td>\n",
       "      <td>Braund, Mr. Owen Harris</td>\n",
       "      <td>male</td>\n",
       "      <td>22.0</td>\n",
       "      <td>1</td>\n",
       "      <td>0</td>\n",
       "      <td>7.2500</td>\n",
       "      <td>NaN</td>\n",
       "      <td>S</td>\n",
       "      <td>2</td>\n",
       "    </tr>\n",
       "    <tr>\n",
       "      <th>1</th>\n",
       "      <td>1</td>\n",
       "      <td>1</td>\n",
       "      <td>Cumings, Mrs. John Bradley (Florence Briggs Th...</td>\n",
       "      <td>female</td>\n",
       "      <td>38.0</td>\n",
       "      <td>1</td>\n",
       "      <td>0</td>\n",
       "      <td>71.2833</td>\n",
       "      <td>C85</td>\n",
       "      <td>C</td>\n",
       "      <td>2</td>\n",
       "    </tr>\n",
       "    <tr>\n",
       "      <th>2</th>\n",
       "      <td>1</td>\n",
       "      <td>3</td>\n",
       "      <td>Heikkinen, Miss. Laina</td>\n",
       "      <td>female</td>\n",
       "      <td>26.0</td>\n",
       "      <td>0</td>\n",
       "      <td>0</td>\n",
       "      <td>7.9250</td>\n",
       "      <td>NaN</td>\n",
       "      <td>S</td>\n",
       "      <td>1</td>\n",
       "    </tr>\n",
       "    <tr>\n",
       "      <th>3</th>\n",
       "      <td>1</td>\n",
       "      <td>1</td>\n",
       "      <td>Futrelle, Mrs. Jacques Heath (Lily May Peel)</td>\n",
       "      <td>female</td>\n",
       "      <td>35.0</td>\n",
       "      <td>1</td>\n",
       "      <td>0</td>\n",
       "      <td>53.1000</td>\n",
       "      <td>C123</td>\n",
       "      <td>S</td>\n",
       "      <td>2</td>\n",
       "    </tr>\n",
       "    <tr>\n",
       "      <th>4</th>\n",
       "      <td>0</td>\n",
       "      <td>3</td>\n",
       "      <td>Allen, Mr. William Henry</td>\n",
       "      <td>male</td>\n",
       "      <td>35.0</td>\n",
       "      <td>0</td>\n",
       "      <td>0</td>\n",
       "      <td>8.0500</td>\n",
       "      <td>NaN</td>\n",
       "      <td>S</td>\n",
       "      <td>1</td>\n",
       "    </tr>\n",
       "  </tbody>\n",
       "</table>\n",
       "</div>"
      ],
      "text/plain": [
       "   Survived  Pclass                                               Name  \\\n",
       "0         0       3                            Braund, Mr. Owen Harris   \n",
       "1         1       1  Cumings, Mrs. John Bradley (Florence Briggs Th...   \n",
       "2         1       3                             Heikkinen, Miss. Laina   \n",
       "3         1       1       Futrelle, Mrs. Jacques Heath (Lily May Peel)   \n",
       "4         0       3                           Allen, Mr. William Henry   \n",
       "\n",
       "      Sex   Age  SibSp  Parch     Fare Cabin Embarked  FamMembers  \n",
       "0    male  22.0      1      0   7.2500   NaN        S           2  \n",
       "1  female  38.0      1      0  71.2833   C85        C           2  \n",
       "2  female  26.0      0      0   7.9250   NaN        S           1  \n",
       "3  female  35.0      1      0  53.1000  C123        S           2  \n",
       "4    male  35.0      0      0   8.0500   NaN        S           1  "
      ]
     },
     "execution_count": 14,
     "metadata": {},
     "output_type": "execute_result"
    }
   ],
   "source": [
    "# _we can see Parch and SibSp are strongly correlated. so we can add new column which combines both the columns\n",
    "# _we will see the effect of this combined column on Survival later \n",
    "train_df['FamMembers'] = train_df['Parch'] + train_df['SibSp'] + 1\n",
    "train_df.head()"
   ]
  },
  {
   "cell_type": "code",
   "execution_count": 15,
   "metadata": {
    "execution": {
     "iopub.execute_input": "2021-01-14T22:09:32.238704Z",
     "iopub.status.busy": "2021-01-14T22:09:32.237179Z",
     "iopub.status.idle": "2021-01-14T22:09:34.391864Z",
     "shell.execute_reply": "2021-01-14T22:09:34.391029Z"
    },
    "papermill": {
     "duration": 2.346657,
     "end_time": "2021-01-14T22:09:34.392024",
     "exception": false,
     "start_time": "2021-01-14T22:09:32.045367",
     "status": "completed"
    },
    "tags": []
   },
   "outputs": [
    {
     "data": {
      "image/png": "[encoded data removed]",
      "text/plain": [
       "<Figure size 432x288 with 1 Axes>"
      ]
     },
     "metadata": {
      "needs_background": "light"
     },
     "output_type": "display_data"
    },
    {
     "data": {
      "image/png": "[encoded data removed]",
      "text/plain": [
       "<Figure size 432x288 with 1 Axes>"
      ]
     },
     "metadata": {
      "needs_background": "light"
     },
     "output_type": "display_data"
    },
    {
     "data": {
      "image/png": "[encoded data removed]",
      "text/plain": [
       "<Figure size 432x288 with 1 Axes>"
      ]
     },
     "metadata": {
      "needs_background": "light"
     },
     "output_type": "display_data"
    },
    {
     "data": {
      "image/png": "[encoded data removed]",
      "text/plain": [
       "<Figure size 432x288 with 1 Axes>"
      ]
     },
     "metadata": {
      "needs_background": "light"
     },
     "output_type": "display_data"
    },
    {
     "data": {
      "image/png": "[encoded data removed]",
      "text/plain": [
       "<Figure size 432x288 with 1 Axes>"
      ]
     },
     "metadata": {
      "needs_background": "light"
     },
     "output_type": "display_data"
    }
   ],
   "source": [
    "# _ below are the barplots used for checking the proportion of unique values in each categorical column\n",
    "for col in df_cat.columns:\n",
    "    sns.barplot(df_cat[col].value_counts().index, df_cat[col].value_counts()).set_title(col)\n",
    "    plt.show()"
   ]
  },
  {
   "cell_type": "code",
   "execution_count": 16,
   "metadata": {
    "execution": {
     "iopub.execute_input": "2021-01-14T22:09:34.517961Z",
     "iopub.status.busy": "2021-01-14T22:09:34.517014Z",
     "iopub.status.idle": "2021-01-14T22:09:34.523092Z",
     "shell.execute_reply": "2021-01-14T22:09:34.522093Z"
    },
    "papermill": {
     "duration": 0.074849,
     "end_time": "2021-01-14T22:09:34.523280",
     "exception": false,
     "start_time": "2021-01-14T22:09:34.448431",
     "status": "completed"
    },
    "tags": []
   },
   "outputs": [],
   "source": [
    "# _cabin has lot of unique values and also few people have multiple cabins and each cabin data is alphanumeric\n",
    "# _for now I'm dropping the Cabin, Name column as well, we'll get back to it later\n",
    "drop_cols = ['Name', 'Cabin']\n",
    "train_df.drop(drop_cols, axis=1, inplace=True)\n",
    "test_df.drop(drop_cols, axis=1, inplace=True)"
   ]
  },
  {
   "cell_type": "code",
   "execution_count": 17,
   "metadata": {
    "execution": {
     "iopub.execute_input": "2021-01-14T22:09:34.707842Z",
     "iopub.status.busy": "2021-01-14T22:09:34.707139Z",
     "iopub.status.idle": "2021-01-14T22:09:34.713178Z",
     "shell.execute_reply": "2021-01-14T22:09:34.712556Z"
    },
    "papermill": {
     "duration": 0.106711,
     "end_time": "2021-01-14T22:09:34.713299",
     "exception": false,
     "start_time": "2021-01-14T22:09:34.606588",
     "status": "completed"
    },
    "tags": []
   },
   "outputs": [
    {
     "data": {
      "text/html": [
       "<div>\n",
       "<style scoped>\n",
       "    .dataframe tbody tr th:only-of-type {\n",
       "        vertical-align: middle;\n",
       "    }\n",
       "\n",
       "    .dataframe tbody tr th {\n",
       "        vertical-align: top;\n",
       "    }\n",
       "\n",
       "    .dataframe thead th {\n",
       "        text-align: right;\n",
       "    }\n",
       "</style>\n",
       "<table border=\"1\" class=\"dataframe\">\n",
       "  <thead>\n",
       "    <tr style=\"text-align: right;\">\n",
       "      <th></th>\n",
       "      <th>Survived</th>\n",
       "      <th>Pclass</th>\n",
       "      <th>Sex</th>\n",
       "      <th>Age</th>\n",
       "      <th>SibSp</th>\n",
       "      <th>Parch</th>\n",
       "      <th>Fare</th>\n",
       "      <th>Embarked</th>\n",
       "      <th>FamMembers</th>\n",
       "    </tr>\n",
       "  </thead>\n",
       "  <tbody>\n",
       "    <tr>\n",
       "      <th>0</th>\n",
       "      <td>0</td>\n",
       "      <td>3</td>\n",
       "      <td>male</td>\n",
       "      <td>22.0</td>\n",
       "      <td>1</td>\n",
       "      <td>0</td>\n",
       "      <td>7.2500</td>\n",
       "      <td>S</td>\n",
       "      <td>2</td>\n",
       "    </tr>\n",
       "    <tr>\n",
       "      <th>1</th>\n",
       "      <td>1</td>\n",
       "      <td>1</td>\n",
       "      <td>female</td>\n",
       "      <td>38.0</td>\n",
       "      <td>1</td>\n",
       "      <td>0</td>\n",
       "      <td>71.2833</td>\n",
       "      <td>C</td>\n",
       "      <td>2</td>\n",
       "    </tr>\n",
       "    <tr>\n",
       "      <th>2</th>\n",
       "      <td>1</td>\n",
       "      <td>3</td>\n",
       "      <td>female</td>\n",
       "      <td>26.0</td>\n",
       "      <td>0</td>\n",
       "      <td>0</td>\n",
       "      <td>7.9250</td>\n",
       "      <td>S</td>\n",
       "      <td>1</td>\n",
       "    </tr>\n",
       "    <tr>\n",
       "      <th>3</th>\n",
       "      <td>1</td>\n",
       "      <td>1</td>\n",
       "      <td>female</td>\n",
       "      <td>35.0</td>\n",
       "      <td>1</td>\n",
       "      <td>0</td>\n",
       "      <td>53.1000</td>\n",
       "      <td>S</td>\n",
       "      <td>2</td>\n",
       "    </tr>\n",
       "    <tr>\n",
       "      <th>4</th>\n",
       "      <td>0</td>\n",
       "      <td>3</td>\n",
       "      <td>male</td>\n",
       "      <td>35.0</td>\n",
       "      <td>0</td>\n",
       "      <td>0</td>\n",
       "      <td>8.0500</td>\n",
       "      <td>S</td>\n",
       "      <td>1</td>\n",
       "    </tr>\n",
       "  </tbody>\n",
       "</table>\n",
       "</div>"
      ],
      "text/plain": [
       "   Survived  Pclass     Sex   Age  SibSp  Parch     Fare Embarked  FamMembers\n",
       "0         0       3    male  22.0      1      0   7.2500        S           2\n",
       "1         1       1  female  38.0      1      0  71.2833        C           2\n",
       "2         1       3  female  26.0      0      0   7.9250        S           1\n",
       "3         1       1  female  35.0      1      0  53.1000        S           2\n",
       "4         0       3    male  35.0      0      0   8.0500        S           1"
      ]
     },
     "execution_count": 17,
     "metadata": {},
     "output_type": "execute_result"
    }
   ],
   "source": [
    "train_df.head()"
   ]
  },
  {
   "cell_type": "code",
   "execution_count": 18,
   "metadata": {
    "execution": {
     "iopub.execute_input": "2021-01-14T22:09:34.840091Z",
     "iopub.status.busy": "2021-01-14T22:09:34.839374Z",
     "iopub.status.idle": "2021-01-14T22:09:34.844800Z",
     "shell.execute_reply": "2021-01-14T22:09:34.844170Z"
    },
    "papermill": {
     "duration": 0.070753,
     "end_time": "2021-01-14T22:09:34.844950",
     "exception": false,
     "start_time": "2021-01-14T22:09:34.774197",
     "status": "completed"
    },
    "tags": []
   },
   "outputs": [],
   "source": [
    "# _correlation analysis between survival and other features\n",
    "# _we can use either pivot or groupby methods for this task\n",
    "\n",
    "# _Survived vs (Pclass, Sex, Embarked, SibSp, Parch, FamMembers, Age, Fare)\n",
    "# _we cannot perform pivoting on continuous numerical values such as Age and Fare"
   ]
  },
  {
   "cell_type": "code",
   "execution_count": 19,
   "metadata": {
    "execution": {
     "iopub.execute_input": "2021-01-14T22:09:34.985641Z",
     "iopub.status.busy": "2021-01-14T22:09:34.984478Z",
     "iopub.status.idle": "2021-01-14T22:09:34.990350Z",
     "shell.execute_reply": "2021-01-14T22:09:34.989702Z"
    },
    "papermill": {
     "duration": 0.087119,
     "end_time": "2021-01-14T22:09:34.990462",
     "exception": false,
     "start_time": "2021-01-14T22:09:34.903343",
     "status": "completed"
    },
    "tags": []
   },
   "outputs": [
    {
     "data": {
      "text/html": [
       "<div>\n",
       "<style scoped>\n",
       "    .dataframe tbody tr th:only-of-type {\n",
       "        vertical-align: middle;\n",
       "    }\n",
       "\n",
       "    .dataframe tbody tr th {\n",
       "        vertical-align: top;\n",
       "    }\n",
       "\n",
       "    .dataframe thead th {\n",
       "        text-align: right;\n",
       "    }\n",
       "</style>\n",
       "<table border=\"1\" class=\"dataframe\">\n",
       "  <thead>\n",
       "    <tr style=\"text-align: right;\">\n",
       "      <th></th>\n",
       "      <th>Pclass</th>\n",
       "      <th>Survived</th>\n",
       "    </tr>\n",
       "  </thead>\n",
       "  <tbody>\n",
       "    <tr>\n",
       "      <th>0</th>\n",
       "      <td>1</td>\n",
       "      <td>0.629630</td>\n",
       "    </tr>\n",
       "    <tr>\n",
       "      <th>1</th>\n",
       "      <td>2</td>\n",
       "      <td>0.472826</td>\n",
       "    </tr>\n",
       "    <tr>\n",
       "      <th>2</th>\n",
       "      <td>3</td>\n",
       "      <td>0.242363</td>\n",
       "    </tr>\n",
       "  </tbody>\n",
       "</table>\n",
       "</div>"
      ],
      "text/plain": [
       "   Pclass  Survived\n",
       "0       1  0.629630\n",
       "1       2  0.472826\n",
       "2       3  0.242363"
      ]
     },
     "execution_count": 19,
     "metadata": {},
     "output_type": "execute_result"
    }
   ],
   "source": [
    "# _Survived vs Pclass\n",
    "train_df[['Pclass', 'Survived']].groupby(['Pclass'], as_index=False).mean().sort_values(by='Survived', ascending=False)"
   ]
  },
  {
   "cell_type": "code",
   "execution_count": 20,
   "metadata": {
    "execution": {
     "iopub.execute_input": "2021-01-14T22:09:35.156376Z",
     "iopub.status.busy": "2021-01-14T22:09:35.155434Z",
     "iopub.status.idle": "2021-01-14T22:09:35.166159Z",
     "shell.execute_reply": "2021-01-14T22:09:35.165014Z"
    },
    "papermill": {
     "duration": 0.101926,
     "end_time": "2021-01-14T22:09:35.166320",
     "exception": false,
     "start_time": "2021-01-14T22:09:35.064394",
     "status": "completed"
    },
    "tags": []
   },
   "outputs": [
    {
     "data": {
      "text/html": [
       "<div>\n",
       "<style scoped>\n",
       "    .dataframe tbody tr th:only-of-type {\n",
       "        vertical-align: middle;\n",
       "    }\n",
       "\n",
       "    .dataframe tbody tr th {\n",
       "        vertical-align: top;\n",
       "    }\n",
       "\n",
       "    .dataframe thead th {\n",
       "        text-align: right;\n",
       "    }\n",
       "</style>\n",
       "<table border=\"1\" class=\"dataframe\">\n",
       "  <thead>\n",
       "    <tr style=\"text-align: right;\">\n",
       "      <th></th>\n",
       "      <th>Sex</th>\n",
       "      <th>Survived</th>\n",
       "    </tr>\n",
       "  </thead>\n",
       "  <tbody>\n",
       "    <tr>\n",
       "      <th>0</th>\n",
       "      <td>female</td>\n",
       "      <td>0.742038</td>\n",
       "    </tr>\n",
       "    <tr>\n",
       "      <th>1</th>\n",
       "      <td>male</td>\n",
       "      <td>0.188908</td>\n",
       "    </tr>\n",
       "  </tbody>\n",
       "</table>\n",
       "</div>"
      ],
      "text/plain": [
       "      Sex  Survived\n",
       "0  female  0.742038\n",
       "1    male  0.188908"
      ]
     },
     "execution_count": 20,
     "metadata": {},
     "output_type": "execute_result"
    }
   ],
   "source": [
    "# _Survived vs Sex\n",
    "train_df[['Sex', 'Survived']].groupby(['Sex'], as_index=False).mean().sort_values(by='Survived', ascending=False)"
   ]
  },
  {
   "cell_type": "code",
   "execution_count": 21,
   "metadata": {
    "execution": {
     "iopub.execute_input": "2021-01-14T22:09:35.362125Z",
     "iopub.status.busy": "2021-01-14T22:09:35.360225Z",
     "iopub.status.idle": "2021-01-14T22:09:35.367647Z",
     "shell.execute_reply": "2021-01-14T22:09:35.366574Z"
    },
    "papermill": {
     "duration": 0.114105,
     "end_time": "2021-01-14T22:09:35.367808",
     "exception": false,
     "start_time": "2021-01-14T22:09:35.253703",
     "status": "completed"
    },
    "tags": []
   },
   "outputs": [
    {
     "data": {
      "text/html": [
       "<div>\n",
       "<style scoped>\n",
       "    .dataframe tbody tr th:only-of-type {\n",
       "        vertical-align: middle;\n",
       "    }\n",
       "\n",
       "    .dataframe tbody tr th {\n",
       "        vertical-align: top;\n",
       "    }\n",
       "\n",
       "    .dataframe thead th {\n",
       "        text-align: right;\n",
       "    }\n",
       "</style>\n",
       "<table border=\"1\" class=\"dataframe\">\n",
       "  <thead>\n",
       "    <tr style=\"text-align: right;\">\n",
       "      <th></th>\n",
       "      <th>Embarked</th>\n",
       "      <th>Survived</th>\n",
       "    </tr>\n",
       "  </thead>\n",
       "  <tbody>\n",
       "    <tr>\n",
       "      <th>0</th>\n",
       "      <td>C</td>\n",
       "      <td>0.553571</td>\n",
       "    </tr>\n",
       "    <tr>\n",
       "      <th>1</th>\n",
       "      <td>Q</td>\n",
       "      <td>0.389610</td>\n",
       "    </tr>\n",
       "    <tr>\n",
       "      <th>2</th>\n",
       "      <td>S</td>\n",
       "      <td>0.336957</td>\n",
       "    </tr>\n",
       "  </tbody>\n",
       "</table>\n",
       "</div>"
      ],
      "text/plain": [
       "  Embarked  Survived\n",
       "0        C  0.553571\n",
       "1        Q  0.389610\n",
       "2        S  0.336957"
      ]
     },
     "execution_count": 21,
     "metadata": {},
     "output_type": "execute_result"
    }
   ],
   "source": [
    "# _Survived vs Embarked\n",
    "train_df[['Embarked', 'Survived']].groupby(['Embarked'], as_index=False).mean().sort_values(by='Survived', ascending=False)"
   ]
  },
  {
   "cell_type": "code",
   "execution_count": 22,
   "metadata": {
    "execution": {
     "iopub.execute_input": "2021-01-14T22:09:35.558068Z",
     "iopub.status.busy": "2021-01-14T22:09:35.557192Z",
     "iopub.status.idle": "2021-01-14T22:09:35.576128Z",
     "shell.execute_reply": "2021-01-14T22:09:35.575116Z"
    },
    "papermill": {
     "duration": 0.11499,
     "end_time": "2021-01-14T22:09:35.576280",
     "exception": false,
     "start_time": "2021-01-14T22:09:35.461290",
     "status": "completed"
    },
    "tags": []
   },
   "outputs": [
    {
     "data": {
      "text/html": [
       "<div>\n",
       "<style scoped>\n",
       "    .dataframe tbody tr th:only-of-type {\n",
       "        vertical-align: middle;\n",
       "    }\n",
       "\n",
       "    .dataframe tbody tr th {\n",
       "        vertical-align: top;\n",
       "    }\n",
       "\n",
       "    .dataframe thead th {\n",
       "        text-align: right;\n",
       "    }\n",
       "</style>\n",
       "<table border=\"1\" class=\"dataframe\">\n",
       "  <thead>\n",
       "    <tr style=\"text-align: right;\">\n",
       "      <th></th>\n",
       "      <th>SibSp</th>\n",
       "      <th>Survived</th>\n",
       "    </tr>\n",
       "  </thead>\n",
       "  <tbody>\n",
       "    <tr>\n",
       "      <th>1</th>\n",
       "      <td>1</td>\n",
       "      <td>0.535885</td>\n",
       "    </tr>\n",
       "    <tr>\n",
       "      <th>2</th>\n",
       "      <td>2</td>\n",
       "      <td>0.464286</td>\n",
       "    </tr>\n",
       "    <tr>\n",
       "      <th>0</th>\n",
       "      <td>0</td>\n",
       "      <td>0.345395</td>\n",
       "    </tr>\n",
       "    <tr>\n",
       "      <th>3</th>\n",
       "      <td>3</td>\n",
       "      <td>0.250000</td>\n",
       "    </tr>\n",
       "    <tr>\n",
       "      <th>4</th>\n",
       "      <td>4</td>\n",
       "      <td>0.166667</td>\n",
       "    </tr>\n",
       "    <tr>\n",
       "      <th>5</th>\n",
       "      <td>5</td>\n",
       "      <td>0.000000</td>\n",
       "    </tr>\n",
       "    <tr>\n",
       "      <th>6</th>\n",
       "      <td>8</td>\n",
       "      <td>0.000000</td>\n",
       "    </tr>\n",
       "  </tbody>\n",
       "</table>\n",
       "</div>"
      ],
      "text/plain": [
       "   SibSp  Survived\n",
       "1      1  0.535885\n",
       "2      2  0.464286\n",
       "0      0  0.345395\n",
       "3      3  0.250000\n",
       "4      4  0.166667\n",
       "5      5  0.000000\n",
       "6      8  0.000000"
      ]
     },
     "execution_count": 22,
     "metadata": {},
     "output_type": "execute_result"
    }
   ],
   "source": [
    "# _Survived vs SibSp\n",
    "train_df[['SibSp', 'Survived']].groupby(['SibSp'], as_index=False).mean().sort_values(by='Survived', ascending=False)"
   ]
  },
  {
   "cell_type": "code",
   "execution_count": 23,
   "metadata": {
    "execution": {
     "iopub.execute_input": "2021-01-14T22:09:35.781791Z",
     "iopub.status.busy": "2021-01-14T22:09:35.780767Z",
     "iopub.status.idle": "2021-01-14T22:09:35.789974Z",
     "shell.execute_reply": "2021-01-14T22:09:35.789209Z"
    },
    "papermill": {
     "duration": 0.122541,
     "end_time": "2021-01-14T22:09:35.790128",
     "exception": false,
     "start_time": "2021-01-14T22:09:35.667587",
     "status": "completed"
    },
    "tags": []
   },
   "outputs": [
    {
     "data": {
      "text/html": [
       "<div>\n",
       "<style scoped>\n",
       "    .dataframe tbody tr th:only-of-type {\n",
       "        vertical-align: middle;\n",
       "    }\n",
       "\n",
       "    .dataframe tbody tr th {\n",
       "        vertical-align: top;\n",
       "    }\n",
       "\n",
       "    .dataframe thead th {\n",
       "        text-align: right;\n",
       "    }\n",
       "</style>\n",
       "<table border=\"1\" class=\"dataframe\">\n",
       "  <thead>\n",
       "    <tr style=\"text-align: right;\">\n",
       "      <th></th>\n",
       "      <th>Parch</th>\n",
       "      <th>Survived</th>\n",
       "    </tr>\n",
       "  </thead>\n",
       "  <tbody>\n",
       "    <tr>\n",
       "      <th>3</th>\n",
       "      <td>3</td>\n",
       "      <td>0.600000</td>\n",
       "    </tr>\n",
       "    <tr>\n",
       "      <th>1</th>\n",
       "      <td>1</td>\n",
       "      <td>0.550847</td>\n",
       "    </tr>\n",
       "    <tr>\n",
       "      <th>2</th>\n",
       "      <td>2</td>\n",
       "      <td>0.500000</td>\n",
       "    </tr>\n",
       "    <tr>\n",
       "      <th>0</th>\n",
       "      <td>0</td>\n",
       "      <td>0.343658</td>\n",
       "    </tr>\n",
       "    <tr>\n",
       "      <th>5</th>\n",
       "      <td>5</td>\n",
       "      <td>0.200000</td>\n",
       "    </tr>\n",
       "    <tr>\n",
       "      <th>4</th>\n",
       "      <td>4</td>\n",
       "      <td>0.000000</td>\n",
       "    </tr>\n",
       "    <tr>\n",
       "      <th>6</th>\n",
       "      <td>6</td>\n",
       "      <td>0.000000</td>\n",
       "    </tr>\n",
       "  </tbody>\n",
       "</table>\n",
       "</div>"
      ],
      "text/plain": [
       "   Parch  Survived\n",
       "3      3  0.600000\n",
       "1      1  0.550847\n",
       "2      2  0.500000\n",
       "0      0  0.343658\n",
       "5      5  0.200000\n",
       "4      4  0.000000\n",
       "6      6  0.000000"
      ]
     },
     "execution_count": 23,
     "metadata": {},
     "output_type": "execute_result"
    }
   ],
   "source": [
    "# _Survived vs Parch\n",
    "train_df[['Parch', 'Survived']].groupby(['Parch'], as_index=False).mean().sort_values(by='Survived', ascending=False)"
   ]
  },
  {
   "cell_type": "code",
   "execution_count": 24,
   "metadata": {
    "execution": {
     "iopub.execute_input": "2021-01-14T22:09:36.007374Z",
     "iopub.status.busy": "2021-01-14T22:09:36.005661Z",
     "iopub.status.idle": "2021-01-14T22:09:36.011859Z",
     "shell.execute_reply": "2021-01-14T22:09:36.010981Z"
    },
    "papermill": {
     "duration": 0.120457,
     "end_time": "2021-01-14T22:09:36.012072",
     "exception": false,
     "start_time": "2021-01-14T22:09:35.891615",
     "status": "completed"
    },
    "tags": []
   },
   "outputs": [
    {
     "data": {
      "text/html": [
       "<div>\n",
       "<style scoped>\n",
       "    .dataframe tbody tr th:only-of-type {\n",
       "        vertical-align: middle;\n",
       "    }\n",
       "\n",
       "    .dataframe tbody tr th {\n",
       "        vertical-align: top;\n",
       "    }\n",
       "\n",
       "    .dataframe thead th {\n",
       "        text-align: right;\n",
       "    }\n",
       "</style>\n",
       "<table border=\"1\" class=\"dataframe\">\n",
       "  <thead>\n",
       "    <tr style=\"text-align: right;\">\n",
       "      <th></th>\n",
       "      <th>FamMembers</th>\n",
       "      <th>Survived</th>\n",
       "    </tr>\n",
       "  </thead>\n",
       "  <tbody>\n",
       "    <tr>\n",
       "      <th>3</th>\n",
       "      <td>4</td>\n",
       "      <td>0.724138</td>\n",
       "    </tr>\n",
       "    <tr>\n",
       "      <th>2</th>\n",
       "      <td>3</td>\n",
       "      <td>0.578431</td>\n",
       "    </tr>\n",
       "    <tr>\n",
       "      <th>1</th>\n",
       "      <td>2</td>\n",
       "      <td>0.552795</td>\n",
       "    </tr>\n",
       "    <tr>\n",
       "      <th>6</th>\n",
       "      <td>7</td>\n",
       "      <td>0.333333</td>\n",
       "    </tr>\n",
       "    <tr>\n",
       "      <th>0</th>\n",
       "      <td>1</td>\n",
       "      <td>0.303538</td>\n",
       "    </tr>\n",
       "    <tr>\n",
       "      <th>4</th>\n",
       "      <td>5</td>\n",
       "      <td>0.200000</td>\n",
       "    </tr>\n",
       "    <tr>\n",
       "      <th>5</th>\n",
       "      <td>6</td>\n",
       "      <td>0.136364</td>\n",
       "    </tr>\n",
       "    <tr>\n",
       "      <th>7</th>\n",
       "      <td>8</td>\n",
       "      <td>0.000000</td>\n",
       "    </tr>\n",
       "    <tr>\n",
       "      <th>8</th>\n",
       "      <td>11</td>\n",
       "      <td>0.000000</td>\n",
       "    </tr>\n",
       "  </tbody>\n",
       "</table>\n",
       "</div>"
      ],
      "text/plain": [
       "   FamMembers  Survived\n",
       "3           4  0.724138\n",
       "2           3  0.578431\n",
       "1           2  0.552795\n",
       "6           7  0.333333\n",
       "0           1  0.303538\n",
       "4           5  0.200000\n",
       "5           6  0.136364\n",
       "7           8  0.000000\n",
       "8          11  0.000000"
      ]
     },
     "execution_count": 24,
     "metadata": {},
     "output_type": "execute_result"
    }
   ],
   "source": [
    "# _Survived vs FamMembers\n",
    "train_df[['FamMembers', 'Survived']].groupby(['FamMembers'], as_index=False).mean().sort_values(by='Survived', ascending=False)"
   ]
  },
  {
   "cell_type": "code",
   "execution_count": 25,
   "metadata": {
    "execution": {
     "iopub.execute_input": "2021-01-14T22:09:36.290972Z",
     "iopub.status.busy": "2021-01-14T22:09:36.287150Z",
     "iopub.status.idle": "2021-01-14T22:09:37.023560Z",
     "shell.execute_reply": "2021-01-14T22:09:37.024271Z"
    },
    "papermill": {
     "duration": 0.871464,
     "end_time": "2021-01-14T22:09:37.024461",
     "exception": false,
     "start_time": "2021-01-14T22:09:36.152997",
     "status": "completed"
    },
    "tags": []
   },
   "outputs": [
    {
     "data": {
      "text/plain": [
       "<seaborn.axisgrid.FacetGrid at 0x7fe80c14da50>"
      ]
     },
     "execution_count": 25,
     "metadata": {},
     "output_type": "execute_result"
    },
    {
     "data": {
      "image/png": "[encoded data removed]",
      "text/plain": [
       "<Figure size 432x216 with 2 Axes>"
      ]
     },
     "metadata": {
      "needs_background": "light"
     },
     "output_type": "display_data"
    }
   ],
   "source": [
    "# _we can observe the continuous numerical values with only histogram plots\n",
    "# _Survived vs Age\n",
    "fgrid = sns.FacetGrid(train_df, col='Survived')\n",
    "fgrid.map(plt.hist, 'Age', bins=10)"
   ]
  },
  {
   "cell_type": "code",
   "execution_count": 26,
   "metadata": {
    "execution": {
     "iopub.execute_input": "2021-01-14T22:09:37.212624Z",
     "iopub.status.busy": "2021-01-14T22:09:37.211544Z",
     "iopub.status.idle": "2021-01-14T22:09:37.745150Z",
     "shell.execute_reply": "2021-01-14T22:09:37.744228Z"
    },
    "papermill": {
     "duration": 0.629797,
     "end_time": "2021-01-14T22:09:37.745303",
     "exception": false,
     "start_time": "2021-01-14T22:09:37.115506",
     "status": "completed"
    },
    "tags": []
   },
   "outputs": [
    {
     "data": {
      "text/plain": [
       "<seaborn.axisgrid.FacetGrid at 0x7fe80677e190>"
      ]
     },
     "execution_count": 26,
     "metadata": {},
     "output_type": "execute_result"
    },
    {
     "data": {
      "image/png": "[encoded data removed]",
      "text/plain": [
       "<Figure size 432x216 with 2 Axes>"
      ]
     },
     "metadata": {
      "needs_background": "light"
     },
     "output_type": "display_data"
    }
   ],
   "source": [
    "# _we can observe the continuous numerical values with only histogram plots\n",
    "# _Survived vs Fare\n",
    "fgrid = sns.FacetGrid(train_df, col='Survived')\n",
    "fgrid.map(plt.hist, 'Fare', bins=10)"
   ]
  },
  {
   "cell_type": "markdown",
   "metadata": {
    "papermill": {
     "duration": 0.096563,
     "end_time": "2021-01-14T22:09:37.939380",
     "exception": false,
     "start_time": "2021-01-14T22:09:37.842817",
     "status": "completed"
    },
    "tags": []
   },
   "source": [
    "# Data Pre-processing"
   ]
  },
  {
   "cell_type": "code",
   "execution_count": 27,
   "metadata": {
    "execution": {
     "iopub.execute_input": "2021-01-14T22:09:38.145722Z",
     "iopub.status.busy": "2021-01-14T22:09:38.144255Z",
     "iopub.status.idle": "2021-01-14T22:09:38.150389Z",
     "shell.execute_reply": "2021-01-14T22:09:38.151190Z"
    },
    "papermill": {
     "duration": 0.112673,
     "end_time": "2021-01-14T22:09:38.151717",
     "exception": false,
     "start_time": "2021-01-14T22:09:38.039044",
     "status": "completed"
    },
    "tags": []
   },
   "outputs": [],
   "source": [
    "# _after analyzing Survived vs rest of the columns.\n",
    "# _I found that the Age, Pclass and Embarked columns are giving good classification difference\n",
    "# _rest of the columns are not greatly contributing for the classification purpose.\n",
    "# _but still we can consider these columns while classification."
   ]
  },
  {
   "cell_type": "code",
   "execution_count": 28,
   "metadata": {
    "execution": {
     "iopub.execute_input": "2021-01-14T22:09:38.345663Z",
     "iopub.status.busy": "2021-01-14T22:09:38.344567Z",
     "iopub.status.idle": "2021-01-14T22:09:38.354694Z",
     "shell.execute_reply": "2021-01-14T22:09:38.356033Z"
    },
    "papermill": {
     "duration": 0.109304,
     "end_time": "2021-01-14T22:09:38.356276",
     "exception": false,
     "start_time": "2021-01-14T22:09:38.246972",
     "status": "completed"
    },
    "tags": []
   },
   "outputs": [
    {
     "name": "stdout",
     "output_type": "stream",
     "text": [
      "(889, 9)\n"
     ]
    }
   ],
   "source": [
    "# _as there are only 2 null values in the Embarked column, I'm dropping that column\n",
    "train_df.dropna(subset=['Embarked'], axis=0, inplace=True)\n",
    "print(train_df.shape)"
   ]
  },
  {
   "cell_type": "code",
   "execution_count": 29,
   "metadata": {
    "execution": {
     "iopub.execute_input": "2021-01-14T22:09:38.504205Z",
     "iopub.status.busy": "2021-01-14T22:09:38.503447Z",
     "iopub.status.idle": "2021-01-14T22:09:38.509581Z",
     "shell.execute_reply": "2021-01-14T22:09:38.508976Z"
    },
    "papermill": {
     "duration": 0.086116,
     "end_time": "2021-01-14T22:09:38.509700",
     "exception": false,
     "start_time": "2021-01-14T22:09:38.423584",
     "status": "completed"
    },
    "tags": []
   },
   "outputs": [],
   "source": [
    "# _specify the X and y in terms of train and test\n",
    "y = train_df.Survived\n",
    "\n",
    "train_df.drop(['Survived'], axis=1, inplace=True)\n",
    "X = train_df.copy()"
   ]
  },
  {
   "cell_type": "code",
   "execution_count": 30,
   "metadata": {
    "execution": {
     "iopub.execute_input": "2021-01-14T22:09:38.647509Z",
     "iopub.status.busy": "2021-01-14T22:09:38.646600Z",
     "iopub.status.idle": "2021-01-14T22:09:38.655938Z",
     "shell.execute_reply": "2021-01-14T22:09:38.654797Z"
    },
    "papermill": {
     "duration": 0.078693,
     "end_time": "2021-01-14T22:09:38.656092",
     "exception": false,
     "start_time": "2021-01-14T22:09:38.577399",
     "status": "completed"
    },
    "tags": []
   },
   "outputs": [
    {
     "name": "stdout",
     "output_type": "stream",
     "text": [
      "Index(['Pclass', 'Sex', 'Age', 'SibSp', 'Parch', 'Fare', 'Embarked',\n",
      "       'FamMembers'],\n",
      "      dtype='object')\n"
     ]
    }
   ],
   "source": [
    "print(X.columns)"
   ]
  },
  {
   "cell_type": "code",
   "execution_count": 31,
   "metadata": {
    "execution": {
     "iopub.execute_input": "2021-01-14T22:09:38.856518Z",
     "iopub.status.busy": "2021-01-14T22:09:38.855623Z",
     "iopub.status.idle": "2021-01-14T22:09:38.861475Z",
     "shell.execute_reply": "2021-01-14T22:09:38.860496Z"
    },
    "papermill": {
     "duration": 0.108897,
     "end_time": "2021-01-14T22:09:38.861623",
     "exception": false,
     "start_time": "2021-01-14T22:09:38.752726",
     "status": "completed"
    },
    "tags": []
   },
   "outputs": [],
   "source": [
    "categorical_cols = ['Pclass', 'Sex', 'SibSp', 'Parch', 'Embarked', 'FamMembers']\n",
    "\n",
    "# Select numerical columns\n",
    "numerical_cols = ['Age', 'Fare']"
   ]
  },
  {
   "cell_type": "code",
   "execution_count": 32,
   "metadata": {
    "execution": {
     "iopub.execute_input": "2021-01-14T22:09:39.075190Z",
     "iopub.status.busy": "2021-01-14T22:09:39.074325Z",
     "iopub.status.idle": "2021-01-14T22:09:39.079085Z",
     "shell.execute_reply": "2021-01-14T22:09:39.078328Z"
    },
    "papermill": {
     "duration": 0.120442,
     "end_time": "2021-01-14T22:09:39.079240",
     "exception": false,
     "start_time": "2021-01-14T22:09:38.958798",
     "status": "completed"
    },
    "tags": []
   },
   "outputs": [],
   "source": [
    "test_df['FamMembers'] = test_df['Parch'] + test_df['SibSp'] + 1\n",
    "X_test = test_df[numerical_cols + categorical_cols]"
   ]
  },
  {
   "cell_type": "code",
   "execution_count": 33,
   "metadata": {
    "execution": {
     "iopub.execute_input": "2021-01-14T22:09:39.286158Z",
     "iopub.status.busy": "2021-01-14T22:09:39.284997Z",
     "iopub.status.idle": "2021-01-14T22:09:39.880784Z",
     "shell.execute_reply": "2021-01-14T22:09:39.880004Z"
    },
    "papermill": {
     "duration": 0.704859,
     "end_time": "2021-01-14T22:09:39.880962",
     "exception": false,
     "start_time": "2021-01-14T22:09:39.176103",
     "status": "completed"
    },
    "tags": []
   },
   "outputs": [],
   "source": [
    "# _transform numerical values to log values\n",
    "# _transform categorical values with one-hot encoding\n",
    "\n",
    "from sklearn.compose import ColumnTransformer\n",
    "from sklearn.pipeline import Pipeline\n",
    "from sklearn.impute import SimpleImputer\n",
    "from sklearn.preprocessing import OneHotEncoder\n",
    "from sklearn.preprocessing import StandardScaler\n",
    "from sklearn.preprocessing import PowerTransformer"
   ]
  },
  {
   "cell_type": "code",
   "execution_count": 34,
   "metadata": {
    "execution": {
     "iopub.execute_input": "2021-01-14T22:09:40.090165Z",
     "iopub.status.busy": "2021-01-14T22:09:40.089124Z",
     "iopub.status.idle": "2021-01-14T22:09:40.094128Z",
     "shell.execute_reply": "2021-01-14T22:09:40.094861Z"
    },
    "papermill": {
     "duration": 0.116691,
     "end_time": "2021-01-14T22:09:40.095082",
     "exception": false,
     "start_time": "2021-01-14T22:09:39.978391",
     "status": "completed"
    },
    "tags": []
   },
   "outputs": [],
   "source": [
    "# Preprocessing for numerical data\n",
    "numerical_transformer_mean = Pipeline(steps=[('imputer', SimpleImputer(strategy='mean')),\n",
    "                                             ('scale', StandardScaler()),\n",
    "                                             ('power', PowerTransformer(method='yeo-johnson', standardize=True))])\n",
    "\n",
    "# Preprocessing for categorical data\n",
    "one_hot_encoder = OneHotEncoder(handle_unknown='ignore')"
   ]
  },
  {
   "cell_type": "code",
   "execution_count": 35,
   "metadata": {
    "execution": {
     "iopub.execute_input": "2021-01-14T22:09:40.235089Z",
     "iopub.status.busy": "2021-01-14T22:09:40.233272Z",
     "iopub.status.idle": "2021-01-14T22:09:40.238309Z",
     "shell.execute_reply": "2021-01-14T22:09:40.237513Z"
    },
    "papermill": {
     "duration": 0.076955,
     "end_time": "2021-01-14T22:09:40.238475",
     "exception": false,
     "start_time": "2021-01-14T22:09:40.161520",
     "status": "completed"
    },
    "tags": []
   },
   "outputs": [],
   "source": [
    "# Bundle preprocessing for numerical and categorical data with mean\n",
    "preprocessor_mean = ColumnTransformer(\n",
    "    transformers=[\n",
    "        ('num', numerical_transformer_mean, numerical_cols),\n",
    "        ('cat', one_hot_encoder, categorical_cols)\n",
    "    ])"
   ]
  },
  {
   "cell_type": "markdown",
   "metadata": {
    "papermill": {
     "duration": 0.099178,
     "end_time": "2021-01-14T22:09:40.444945",
     "exception": false,
     "start_time": "2021-01-14T22:09:40.345767",
     "status": "completed"
    },
    "tags": []
   },
   "source": [
    "# Different model validation"
   ]
  },
  {
   "cell_type": "code",
   "execution_count": 36,
   "metadata": {
    "execution": {
     "iopub.execute_input": "2021-01-14T22:09:40.653162Z",
     "iopub.status.busy": "2021-01-14T22:09:40.652186Z",
     "iopub.status.idle": "2021-01-14T22:09:42.150555Z",
     "shell.execute_reply": "2021-01-14T22:09:42.151261Z"
    },
    "papermill": {
     "duration": 1.606592,
     "end_time": "2021-01-14T22:09:42.151451",
     "exception": false,
     "start_time": "2021-01-14T22:09:40.544859",
     "status": "completed"
    },
    "tags": []
   },
   "outputs": [],
   "source": [
    "from sklearn.linear_model import LogisticRegression\n",
    "from sklearn.tree import DecisionTreeClassifier\n",
    "from sklearn.neighbors import KNeighborsClassifier\n",
    "from sklearn.ensemble import RandomForestClassifier\n",
    "from sklearn.svm import SVC\n",
    "from xgboost import XGBClassifier\n",
    "from sklearn.ensemble import VotingClassifier\n",
    "\n",
    "from sklearn.model_selection import cross_val_score"
   ]
  },
  {
   "cell_type": "code",
   "execution_count": 37,
   "metadata": {
    "execution": {
     "iopub.execute_input": "2021-01-14T22:09:42.350306Z",
     "iopub.status.busy": "2021-01-14T22:09:42.349429Z",
     "iopub.status.idle": "2021-01-14T22:09:42.353374Z",
     "shell.execute_reply": "2021-01-14T22:09:42.352622Z"
    },
    "papermill": {
     "duration": 0.108943,
     "end_time": "2021-01-14T22:09:42.353512",
     "exception": false,
     "start_time": "2021-01-14T22:09:42.244569",
     "status": "completed"
    },
    "tags": []
   },
   "outputs": [],
   "source": [
    "lr = LogisticRegression(max_iter = 2000)\n",
    "dtc = DecisionTreeClassifier(random_state = 1)\n",
    "knn = KNeighborsClassifier()\n",
    "rfc = RandomForestClassifier(random_state = 1)\n",
    "svc = SVC(probability = True)\n",
    "xgb = XGBClassifier(random_state =1)\n",
    "\n",
    "# soft_voting_clf = VotingClassifier(estimators = [('lr',lr),('dtc',dtc),('knn',knn),('rfc',rfc),('svc',svc),('xgb',xgb)], voting = 'soft') \n",
    "# hard_voting_clf = VotingClassifier(estimators = [('lr',lr),('dtc',dtc),('knn',knn),('rfc',rfc),('svc',svc),('xgb',xgb)], voting = 'hard') \n",
    "soft_voting_clf = VotingClassifier(estimators = [('lr',lr),('rfc',rfc),('svc',svc),('xgb',xgb)], voting = 'soft') \n",
    "hard_voting_clf = VotingClassifier(estimators = [('lr',lr),('rfc',rfc),('svc',svc),('xgb',xgb)], voting = 'hard') "
   ]
  },
  {
   "cell_type": "code",
   "execution_count": 38,
   "metadata": {
    "execution": {
     "iopub.execute_input": "2021-01-14T22:09:42.554397Z",
     "iopub.status.busy": "2021-01-14T22:09:42.553496Z",
     "iopub.status.idle": "2021-01-14T22:09:42.557978Z",
     "shell.execute_reply": "2021-01-14T22:09:42.558661Z"
    },
    "papermill": {
     "duration": 0.109147,
     "end_time": "2021-01-14T22:09:42.558854",
     "exception": false,
     "start_time": "2021-01-14T22:09:42.449707",
     "status": "completed"
    },
    "tags": []
   },
   "outputs": [
    {
     "data": {
      "text/plain": [
       "{'objective': 'binary:logistic',\n",
       " 'base_score': None,\n",
       " 'booster': None,\n",
       " 'colsample_bylevel': None,\n",
       " 'colsample_bynode': None,\n",
       " 'colsample_bytree': None,\n",
       " 'gamma': None,\n",
       " 'gpu_id': None,\n",
       " 'importance_type': 'gain',\n",
       " 'interaction_constraints': None,\n",
       " 'learning_rate': None,\n",
       " 'max_delta_step': None,\n",
       " 'max_depth': None,\n",
       " 'min_child_weight': None,\n",
       " 'missing': nan,\n",
       " 'monotone_constraints': None,\n",
       " 'n_estimators': 100,\n",
       " 'n_jobs': None,\n",
       " 'num_parallel_tree': None,\n",
       " 'random_state': None,\n",
       " 'reg_alpha': None,\n",
       " 'reg_lambda': None,\n",
       " 'scale_pos_weight': None,\n",
       " 'subsample': None,\n",
       " 'tree_method': None,\n",
       " 'validate_parameters': None,\n",
       " 'verbosity': None}"
      ]
     },
     "execution_count": 38,
     "metadata": {},
     "output_type": "execute_result"
    }
   ],
   "source": [
    "XGBClassifier().get_params()"
   ]
  },
  {
   "cell_type": "code",
   "execution_count": 39,
   "metadata": {
    "execution": {
     "iopub.execute_input": "2021-01-14T22:09:42.758105Z",
     "iopub.status.busy": "2021-01-14T22:09:42.756443Z",
     "iopub.status.idle": "2021-01-14T22:09:42.759946Z",
     "shell.execute_reply": "2021-01-14T22:09:42.759132Z"
    },
    "papermill": {
     "duration": 0.10541,
     "end_time": "2021-01-14T22:09:42.760087",
     "exception": false,
     "start_time": "2021-01-14T22:09:42.654677",
     "status": "completed"
    },
    "tags": []
   },
   "outputs": [],
   "source": [
    "def test_the_model(model, model_name):\n",
    "    \n",
    "    scores = cross_val_score(model, X, y, cv=5)\n",
    "    print(f\"{model_name} CV mean: {scores.mean()}\")"
   ]
  },
  {
   "cell_type": "code",
   "execution_count": 40,
   "metadata": {
    "execution": {
     "iopub.execute_input": "2021-01-14T22:09:42.966384Z",
     "iopub.status.busy": "2021-01-14T22:09:42.965221Z",
     "iopub.status.idle": "2021-01-14T22:09:43.420355Z",
     "shell.execute_reply": "2021-01-14T22:09:43.419481Z"
    },
    "papermill": {
     "duration": 0.5599,
     "end_time": "2021-01-14T22:09:43.420494",
     "exception": false,
     "start_time": "2021-01-14T22:09:42.860594",
     "status": "completed"
    },
    "tags": []
   },
   "outputs": [
    {
     "name": "stdout",
     "output_type": "stream",
     "text": [
      "LogisticRegression CV mean: 0.8076683806259124\n"
     ]
    }
   ],
   "source": [
    "model_pipeline = Pipeline(steps=[('preprocessor', preprocessor_mean),\n",
    "                      ('model', lr)\n",
    "                     ])\n",
    "test_the_model(model_pipeline, \"LogisticRegression\")"
   ]
  },
  {
   "cell_type": "code",
   "execution_count": 41,
   "metadata": {
    "execution": {
     "iopub.execute_input": "2021-01-14T22:09:43.624837Z",
     "iopub.status.busy": "2021-01-14T22:09:43.623981Z",
     "iopub.status.idle": "2021-01-14T22:09:43.878202Z",
     "shell.execute_reply": "2021-01-14T22:09:43.877499Z"
    },
    "papermill": {
     "duration": 0.361628,
     "end_time": "2021-01-14T22:09:43.878340",
     "exception": false,
     "start_time": "2021-01-14T22:09:43.516712",
     "status": "completed"
    },
    "tags": []
   },
   "outputs": [
    {
     "name": "stdout",
     "output_type": "stream",
     "text": [
      "DecisionTreeClassifier CV mean: 0.7772868659937788\n"
     ]
    }
   ],
   "source": [
    "model_pipeline = Pipeline(steps=[('preprocessor', preprocessor_mean),\n",
    "                      ('model', dtc)\n",
    "                     ])\n",
    "test_the_model(model_pipeline, \"DecisionTreeClassifier\")"
   ]
  },
  {
   "cell_type": "code",
   "execution_count": 42,
   "metadata": {
    "execution": {
     "iopub.execute_input": "2021-01-14T22:09:44.092130Z",
     "iopub.status.busy": "2021-01-14T22:09:44.089664Z",
     "iopub.status.idle": "2021-01-14T22:09:44.402402Z",
     "shell.execute_reply": "2021-01-14T22:09:44.401466Z"
    },
    "papermill": {
     "duration": 0.421608,
     "end_time": "2021-01-14T22:09:44.402541",
     "exception": false,
     "start_time": "2021-01-14T22:09:43.980933",
     "status": "completed"
    },
    "tags": []
   },
   "outputs": [
    {
     "name": "stdout",
     "output_type": "stream",
     "text": [
      "KNeighborsClassifier CV mean: 0.8076556846314988\n"
     ]
    }
   ],
   "source": [
    "model_pipeline = Pipeline(steps=[('preprocessor', preprocessor_mean),\n",
    "                      ('model', knn)\n",
    "                     ])\n",
    "test_the_model(model_pipeline, \"KNeighborsClassifier\")"
   ]
  },
  {
   "cell_type": "code",
   "execution_count": 43,
   "metadata": {
    "execution": {
     "iopub.execute_input": "2021-01-14T22:09:44.611301Z",
     "iopub.status.busy": "2021-01-14T22:09:44.610626Z",
     "iopub.status.idle": "2021-01-14T22:09:47.341866Z",
     "shell.execute_reply": "2021-01-14T22:09:47.342435Z"
    },
    "papermill": {
     "duration": 2.83977,
     "end_time": "2021-01-14T22:09:47.342596",
     "exception": false,
     "start_time": "2021-01-14T22:09:44.502826",
     "status": "completed"
    },
    "tags": []
   },
   "outputs": [
    {
     "name": "stdout",
     "output_type": "stream",
     "text": [
      "RandomForestClassifier CV mean: 0.794172538564083\n"
     ]
    }
   ],
   "source": [
    "model_pipeline = Pipeline(steps=[('preprocessor', preprocessor_mean),\n",
    "                      ('model', rfc)\n",
    "                     ])\n",
    "test_the_model(model_pipeline, \"RandomForestClassifier\")"
   ]
  },
  {
   "cell_type": "code",
   "execution_count": 44,
   "metadata": {
    "execution": {
     "iopub.execute_input": "2021-01-14T22:09:47.498402Z",
     "iopub.status.busy": "2021-01-14T22:09:47.497416Z",
     "iopub.status.idle": "2021-01-14T22:09:48.307619Z",
     "shell.execute_reply": "2021-01-14T22:09:48.305146Z"
    },
    "papermill": {
     "duration": 0.892993,
     "end_time": "2021-01-14T22:09:48.307963",
     "exception": false,
     "start_time": "2021-01-14T22:09:47.414970",
     "status": "completed"
    },
    "tags": []
   },
   "outputs": [
    {
     "name": "stdout",
     "output_type": "stream",
     "text": [
      "SVC CV mean: 0.8200596711737447\n"
     ]
    }
   ],
   "source": [
    "model_pipeline = Pipeline(steps=[('preprocessor', preprocessor_mean),\n",
    "                      ('model', svc)\n",
    "                     ])\n",
    "test_the_model(model_pipeline, \"SVC\")"
   ]
  },
  {
   "cell_type": "code",
   "execution_count": 45,
   "metadata": {
    "execution": {
     "iopub.execute_input": "2021-01-14T22:09:48.532525Z",
     "iopub.status.busy": "2021-01-14T22:09:48.531643Z",
     "iopub.status.idle": "2021-01-14T22:09:49.208131Z",
     "shell.execute_reply": "2021-01-14T22:09:49.207271Z"
    },
    "papermill": {
     "duration": 0.791969,
     "end_time": "2021-01-14T22:09:49.208361",
     "exception": false,
     "start_time": "2021-01-14T22:09:48.416392",
     "status": "completed"
    },
    "tags": []
   },
   "outputs": [
    {
     "name": "stdout",
     "output_type": "stream",
     "text": [
      "XGBClassifier CV mean: 0.8076810766203263\n"
     ]
    }
   ],
   "source": [
    "model_pipeline = Pipeline(steps=[('preprocessor', preprocessor_mean),\n",
    "                      ('model', xgb)\n",
    "                     ])\n",
    "test_the_model(model_pipeline, \"XGBClassifier\")"
   ]
  },
  {
   "cell_type": "code",
   "execution_count": 46,
   "metadata": {
    "execution": {
     "iopub.execute_input": "2021-01-14T22:09:49.462098Z",
     "iopub.status.busy": "2021-01-14T22:09:49.460510Z",
     "iopub.status.idle": "2021-01-14T22:09:49.465736Z",
     "shell.execute_reply": "2021-01-14T22:09:49.466378Z"
    },
    "papermill": {
     "duration": 0.127035,
     "end_time": "2021-01-14T22:09:49.466543",
     "exception": false,
     "start_time": "2021-01-14T22:09:49.339508",
     "status": "completed"
    },
    "tags": []
   },
   "outputs": [],
   "source": [
    "# _from the above basic model analysis, I found out the SVClassifier, XGBClassifier and LogisticRegressionClassifier are performing,\n",
    "# _well on train data, but the model are not tuned. Out of above three, SVClassifier performed the best on test data\n",
    "# _In the next step, I'll use ensemble technique using VotingClassifier"
   ]
  },
  {
   "cell_type": "code",
   "execution_count": 47,
   "metadata": {
    "execution": {
     "iopub.execute_input": "2021-01-14T22:09:49.619470Z",
     "iopub.status.busy": "2021-01-14T22:09:49.618518Z",
     "iopub.status.idle": "2021-01-14T22:09:54.180683Z",
     "shell.execute_reply": "2021-01-14T22:09:54.182069Z"
    },
    "papermill": {
     "duration": 4.642605,
     "end_time": "2021-01-14T22:09:54.182263",
     "exception": false,
     "start_time": "2021-01-14T22:09:49.539658",
     "status": "completed"
    },
    "tags": []
   },
   "outputs": [
    {
     "name": "stdout",
     "output_type": "stream",
     "text": [
      "soft_voting_clf CV mean: 0.82790579572145\n"
     ]
    }
   ],
   "source": [
    "model_pipeline = Pipeline(steps=[('preprocessor', preprocessor_mean),\n",
    "                      ('model', soft_voting_clf)\n",
    "                     ])\n",
    "test_the_model(model_pipeline, \"soft_voting_clf\")"
   ]
  },
  {
   "cell_type": "code",
   "execution_count": 48,
   "metadata": {
    "execution": {
     "iopub.execute_input": "2021-01-14T22:09:54.421464Z",
     "iopub.status.busy": "2021-01-14T22:09:54.420592Z",
     "iopub.status.idle": "2021-01-14T22:09:58.515114Z",
     "shell.execute_reply": "2021-01-14T22:09:58.514286Z"
    },
    "papermill": {
     "duration": 4.213739,
     "end_time": "2021-01-14T22:09:58.515275",
     "exception": false,
     "start_time": "2021-01-14T22:09:54.301536",
     "status": "completed"
    },
    "tags": []
   },
   "outputs": [
    {
     "name": "stdout",
     "output_type": "stream",
     "text": [
      "hard_voting_clf CV mean: 0.8301529867326858\n"
     ]
    }
   ],
   "source": [
    "model_pipeline = Pipeline(steps=[('preprocessor', preprocessor_mean),\n",
    "                      ('model', hard_voting_clf)\n",
    "                     ])\n",
    "test_the_model(model_pipeline, \"hard_voting_clf\")"
   ]
  },
  {
   "cell_type": "code",
   "execution_count": 49,
   "metadata": {
    "execution": {
     "iopub.execute_input": "2021-01-14T22:09:58.766540Z",
     "iopub.status.busy": "2021-01-14T22:09:58.765149Z",
     "iopub.status.idle": "2021-01-14T22:09:58.768422Z",
     "shell.execute_reply": "2021-01-14T22:09:58.769603Z"
    },
    "papermill": {
     "duration": 0.132873,
     "end_time": "2021-01-14T22:09:58.769839",
     "exception": false,
     "start_time": "2021-01-14T22:09:58.636966",
     "status": "completed"
    },
    "tags": []
   },
   "outputs": [],
   "source": [
    "# _after evaluating basic models on test data, SVC performed the best out of all the classifiers along with voting classifiers\n",
    "# _Let's tune the models and test the results"
   ]
  },
  {
   "cell_type": "code",
   "execution_count": 50,
   "metadata": {
    "execution": {
     "iopub.execute_input": "2021-01-14T22:09:59.024830Z",
     "iopub.status.busy": "2021-01-14T22:09:59.023996Z",
     "iopub.status.idle": "2021-01-14T22:10:00.129701Z",
     "shell.execute_reply": "2021-01-14T22:10:00.129153Z"
    },
    "papermill": {
     "duration": 1.225552,
     "end_time": "2021-01-14T22:10:00.129823",
     "exception": false,
     "start_time": "2021-01-14T22:09:58.904271",
     "status": "completed"
    },
    "tags": []
   },
   "outputs": [],
   "source": [
    "from hyperopt import hp, fmin, tpe, Trials, STATUS_OK\n",
    "from hyperopt.pyll.base import scope"
   ]
  },
  {
   "cell_type": "code",
   "execution_count": 51,
   "metadata": {
    "execution": {
     "iopub.execute_input": "2021-01-14T22:10:00.293788Z",
     "iopub.status.busy": "2021-01-14T22:10:00.289058Z",
     "iopub.status.idle": "2021-01-14T22:10:00.298310Z",
     "shell.execute_reply": "2021-01-14T22:10:00.297739Z"
    },
    "papermill": {
     "duration": 0.096312,
     "end_time": "2021-01-14T22:10:00.298441",
     "exception": false,
     "start_time": "2021-01-14T22:10:00.202129",
     "status": "completed"
    },
    "tags": []
   },
   "outputs": [],
   "source": [
    "def printbest_model(param_space):\n",
    "    \n",
    "    hypopt_trials = Trials()\n",
    "    best_params = fmin(fn=objective, space=param_space, algo=tpe.suggest, max_evals=15, trials= hypopt_trials)\n",
    "    \n",
    "    print(best_params)\n",
    "    print(hypopt_trials.best_trial['result']['loss'])\n",
    "    \n",
    "    return hypopt_trials.results[np.argmin([r['loss'] for r in hypopt_trials.results])]['model']"
   ]
  },
  {
   "cell_type": "code",
   "execution_count": 52,
   "metadata": {
    "execution": {
     "iopub.execute_input": "2021-01-14T22:10:00.447251Z",
     "iopub.status.busy": "2021-01-14T22:10:00.446471Z",
     "iopub.status.idle": "2021-01-14T22:10:00.452371Z",
     "shell.execute_reply": "2021-01-14T22:10:00.452996Z"
    },
    "papermill": {
     "duration": 0.085131,
     "end_time": "2021-01-14T22:10:00.453219",
     "exception": false,
     "start_time": "2021-01-14T22:10:00.368088",
     "status": "completed"
    },
    "tags": []
   },
   "outputs": [],
   "source": [
    "def objective(params):\n",
    "    \n",
    "    model = XGBClassifier(**params, n_jobs=-1)\n",
    "    clf = Pipeline(steps=[('preprocessor', preprocessor_mean),\n",
    "                      ('model', model)\n",
    "                     ])\n",
    "    \n",
    "    acc = cross_val_score(clf, X, y, cv=5).mean()\n",
    "    return {'loss': -acc, 'status': STATUS_OK, 'model': model}"
   ]
  },
  {
   "cell_type": "code",
   "execution_count": 53,
   "metadata": {
    "execution": {
     "iopub.execute_input": "2021-01-14T22:10:00.608404Z",
     "iopub.status.busy": "2021-01-14T22:10:00.607674Z",
     "iopub.status.idle": "2021-01-14T22:10:00.615087Z",
     "shell.execute_reply": "2021-01-14T22:10:00.614202Z"
    },
    "papermill": {
     "duration": 0.09249,
     "end_time": "2021-01-14T22:10:00.615214",
     "exception": false,
     "start_time": "2021-01-14T22:10:00.522724",
     "status": "completed"
    },
    "tags": []
   },
   "outputs": [],
   "source": [
    "param_space_lr = {\n",
    "            'max_iter': hp.choice('max_iter', [100, 1000, 2000, 2500]),\n",
    "            'C': hp.choice('C', np.logspace(-4, 4, 20)),\n",
    "            'penalty': hp.choice('penalty', ['l1', 'l2']),\n",
    "            'solver': hp.choice('solver', ['liblinear'])\n",
    "        }\n",
    "#best_model_lr = printbest_model(param_space_lr)\n",
    "# _LogisticRegression"
   ]
  },
  {
   "cell_type": "code",
   "execution_count": 54,
   "metadata": {
    "execution": {
     "iopub.execute_input": "2021-01-14T22:10:00.767382Z",
     "iopub.status.busy": "2021-01-14T22:10:00.766298Z",
     "iopub.status.idle": "2021-01-14T22:10:00.774113Z",
     "shell.execute_reply": "2021-01-14T22:10:00.774662Z"
    },
    "papermill": {
     "duration": 0.083511,
     "end_time": "2021-01-14T22:10:00.774839",
     "exception": false,
     "start_time": "2021-01-14T22:10:00.691328",
     "status": "completed"
    },
    "tags": []
   },
   "outputs": [],
   "source": [
    "param_space_knn = {\n",
    "            'n_neighbors': hp.choice('n_neighbors', [3, 5, 7, 9]),\n",
    "            'weights': hp.choice('weights', ['uniform', 'distance']),\n",
    "            'p': hp.choice('p', [1, 2]),\n",
    "            'algorithm': hp.choice('algorithm', ['auto'])\n",
    "        }\n",
    "#best_model_knn = printbest_model(param_space_knn)\n",
    "# _KNeighborsClassifier"
   ]
  },
  {
   "cell_type": "code",
   "execution_count": 55,
   "metadata": {
    "execution": {
     "iopub.execute_input": "2021-01-14T22:10:00.923968Z",
     "iopub.status.busy": "2021-01-14T22:10:00.923113Z",
     "iopub.status.idle": "2021-01-14T22:10:00.928653Z",
     "shell.execute_reply": "2021-01-14T22:10:00.927852Z"
    },
    "papermill": {
     "duration": 0.0846,
     "end_time": "2021-01-14T22:10:00.929049",
     "exception": false,
     "start_time": "2021-01-14T22:10:00.844449",
     "status": "completed"
    },
    "tags": []
   },
   "outputs": [],
   "source": [
    "param_space_svc = {\n",
    "            'kernel': hp.choice('kernel', ['rbf']),\n",
    "            'C': hp.choice('C', [0.05, .1, 1, 10]),\n",
    "            'gamma': hp.choice('gamma', [0.05, .1,.5,1,2,])\n",
    "}\n",
    "#best_model_svc = printbest_model(param_space_svc)\n",
    "# _SVC"
   ]
  },
  {
   "cell_type": "code",
   "execution_count": 56,
   "metadata": {
    "execution": {
     "iopub.execute_input": "2021-01-14T22:10:01.107332Z",
     "iopub.status.busy": "2021-01-14T22:10:01.104056Z",
     "iopub.status.idle": "2021-01-14T22:10:01.114801Z",
     "shell.execute_reply": "2021-01-14T22:10:01.113400Z"
    },
    "papermill": {
     "duration": 0.110729,
     "end_time": "2021-01-14T22:10:01.115427",
     "exception": false,
     "start_time": "2021-01-14T22:10:01.004698",
     "status": "completed"
    },
    "tags": []
   },
   "outputs": [],
   "source": [
    "param_space_dtc = {\n",
    "            'criterion': hp.choice('criterion', ['gini', 'entropy']),\n",
    "            'max_depth': hp.choice('max_depth', [15, 20, 25]),\n",
    "            'min_samples_split': hp.choice('min_samples_split', [2, 3]),\n",
    "            'min_samples_leaf': hp.choice('min_samples_leaf', [2, 3]),\n",
    "            'max_features': hp.choice('max_features', ['auto','sqrt', 10, 'log2'])\n",
    "}\n",
    "#best_model_dtc = printbest_model(param_space_dtc)\n",
    "# _SVC"
   ]
  },
  {
   "cell_type": "code",
   "execution_count": 57,
   "metadata": {
    "execution": {
     "iopub.execute_input": "2021-01-14T22:10:01.336032Z",
     "iopub.status.busy": "2021-01-14T22:10:01.334629Z",
     "iopub.status.idle": "2021-01-14T22:10:01.341541Z",
     "shell.execute_reply": "2021-01-14T22:10:01.340571Z"
    },
    "papermill": {
     "duration": 0.119888,
     "end_time": "2021-01-14T22:10:01.341690",
     "exception": false,
     "start_time": "2021-01-14T22:10:01.221802",
     "status": "completed"
    },
    "tags": []
   },
   "outputs": [],
   "source": [
    "param_space_dtc = {\n",
    "            'criterion': hp.choice('criterion', ['gini', 'entropy']),\n",
    "            'max_depth': hp.choice('max_depth', [15, 20, 25]),\n",
    "            'min_samples_split': hp.choice('min_samples_split', [2, 3]),\n",
    "            'min_samples_leaf': hp.choice('min_samples_leaf', [2, 3]),\n",
    "            'max_features': hp.choice('max_features', ['auto','sqrt', 10, 'log2']),\n",
    "}\n",
    "# best_model_dtc = printbest_model(param_space_dtc)\n",
    "# _DTC"
   ]
  },
  {
   "cell_type": "code",
   "execution_count": 58,
   "metadata": {
    "execution": {
     "iopub.execute_input": "2021-01-14T22:10:01.565221Z",
     "iopub.status.busy": "2021-01-14T22:10:01.561138Z",
     "iopub.status.idle": "2021-01-14T22:10:01.570506Z",
     "shell.execute_reply": "2021-01-14T22:10:01.571154Z"
    },
    "papermill": {
     "duration": 0.125955,
     "end_time": "2021-01-14T22:10:01.571318",
     "exception": false,
     "start_time": "2021-01-14T22:10:01.445363",
     "status": "completed"
    },
    "tags": []
   },
   "outputs": [],
   "source": [
    "param_space_rfc = {\n",
    "            'criterion': hp.choice('criterion', ['gini', 'entropy']),\n",
    "            'max_depth': hp.choice('max_depth', [10, 15, 20, 25]),\n",
    "            'min_samples_split': hp.choice('min_samples_split', [2, 3, 4, 5]),\n",
    "            'min_samples_leaf': hp.choice('min_samples_leaf', [2, 3, 4, 5]),\n",
    "            'max_features': hp.choice('max_features', ['auto','sqrt', 10, 'log2']),\n",
    "            'bootstrap': hp.choice('bootstrap', ['True']),\n",
    "            'n_estimators': hp.choice('n_estimators', [400,450,500,550, 600])\n",
    "}\n",
    "#best_model_rfc = printbest_model(param_space_rfc)\n",
    "# _RFC"
   ]
  },
  {
   "cell_type": "code",
   "execution_count": 59,
   "metadata": {
    "execution": {
     "iopub.execute_input": "2021-01-14T22:10:01.736646Z",
     "iopub.status.busy": "2021-01-14T22:10:01.735971Z",
     "iopub.status.idle": "2021-01-14T22:10:26.020180Z",
     "shell.execute_reply": "2021-01-14T22:10:26.021289Z"
    },
    "papermill": {
     "duration": 24.378263,
     "end_time": "2021-01-14T22:10:26.021453",
     "exception": false,
     "start_time": "2021-01-14T22:10:01.643190",
     "status": "completed"
    },
    "tags": []
   },
   "outputs": [
    {
     "name": "stdout",
     "output_type": "stream",
     "text": [
      "100%|██████████| 15/15 [00:24<00:00,  1.60s/trial, best loss: -0.8324065257411286]\n",
      "{'gamma': 4, 'learning_rate': 2, 'max_depth': 5, 'max_features': 3, 'min_child_weight': 2, 'n_estimators': 1, 'reg_alpha': 2, 'reg_lambda': 0, 'subsample': 3}\n",
      "-0.8324065257411286\n"
     ]
    }
   ],
   "source": [
    "param_space_xgb = {\n",
    "            'gamma': hp.choice('gamma', [0,.01,.1,0.5,1,10,100]),\n",
    "            'max_depth': hp.choice('max_depth', [2, 4, 5, 8, 10, 12, None]),\n",
    "            'min_child_weight': hp.choice('min_child_weight', [0,.01,0.1,1,10,100]),\n",
    "            'subsample': hp.choice('subsample', [0.5,0.6,0.7, 0.8, 0.9]),\n",
    "            'colsample_bytree': hp.choice('max_features', [0.2, 0.5, 0.7, 0.8, 1]),\n",
    "            'learning_rate': hp.choice('learning_rate', [.01,0.1,0.2,0.3,0.5, 0.7, 0.9]),\n",
    "            'n_estimators': hp.choice('n_estimators', [20, 50, 100, 250, 500,1000]),\n",
    "            'reg_alpha': hp.choice('reg_alpha', [0, 0.5, 1]),\n",
    "            'reg_lambda': hp.choice('reg_lambda', [1, 1.5, 2])\n",
    "}\n",
    "best_model_xgb = printbest_model(param_space_xgb)\n",
    "# _XGB"
   ]
  },
  {
   "cell_type": "code",
   "execution_count": 60,
   "metadata": {
    "execution": {
     "iopub.execute_input": "2021-01-14T22:10:26.189170Z",
     "iopub.status.busy": "2021-01-14T22:10:26.188434Z",
     "iopub.status.idle": "2021-01-14T22:10:26.194116Z",
     "shell.execute_reply": "2021-01-14T22:10:26.193405Z"
    },
    "papermill": {
     "duration": 0.090522,
     "end_time": "2021-01-14T22:10:26.194380",
     "exception": false,
     "start_time": "2021-01-14T22:10:26.103858",
     "status": "completed"
    },
    "tags": []
   },
   "outputs": [],
   "source": [
    "# final_model = Pipeline(steps=[('preprocessor', preprocessor_mean),\n",
    "#                       ('model', best_model_rfc)\n",
    "#                      ])\n",
    "\n",
    "# final_model.fit(X, y)\n",
    "# print(final_model.steps)\n",
    "# feat_importances = pd.Series(final_model.steps[1][1].feature_importances_)\n",
    "# feat_importances.nlargest(20).plot(kind='barh')"
   ]
  },
  {
   "cell_type": "code",
   "execution_count": null,
   "metadata": {
    "papermill": {
     "duration": 0.081895,
     "end_time": "2021-01-14T22:10:26.357428",
     "exception": false,
     "start_time": "2021-01-14T22:10:26.275533",
     "status": "completed"
    },
    "tags": []
   },
   "outputs": [],
   "source": []
  },
  {
   "cell_type": "code",
   "execution_count": 61,
   "metadata": {
    "execution": {
     "iopub.execute_input": "2021-01-14T22:10:26.529981Z",
     "iopub.status.busy": "2021-01-14T22:10:26.529309Z",
     "iopub.status.idle": "2021-01-14T22:10:26.533520Z",
     "shell.execute_reply": "2021-01-14T22:10:26.532809Z"
    },
    "papermill": {
     "duration": 0.096522,
     "end_time": "2021-01-14T22:10:26.533637",
     "exception": false,
     "start_time": "2021-01-14T22:10:26.437115",
     "status": "completed"
    },
    "tags": []
   },
   "outputs": [],
   "source": [
    "param_space = {\n",
    "            'n_estimators': scope.int(hp.quniform('n_estimators', 100, 800, 1)),\n",
    "            'max_depth': hp.quniform('max_depth', 1, 50, 1),\n",
    "            'criterion': hp.choice('criterion', ['gini', 'entropy']),\n",
    "            'bootstrap': hp.choice('bootstrap', [True, False]),\n",
    "            'max_features': hp.choice('max_features', ['auto', 'sqrt']),\n",
    "            'min_samples_leaf': scope.int(hp.quniform('min_samples_leaf', 2, 5, 1)),\n",
    "            'min_samples_split': scope.int(hp.quniform('min_samples_split', 2, 5, 1))\n",
    "        }"
   ]
  },
  {
   "cell_type": "code",
   "execution_count": 62,
   "metadata": {
    "execution": {
     "iopub.execute_input": "2021-01-14T22:10:26.707550Z",
     "iopub.status.busy": "2021-01-14T22:10:26.698134Z",
     "iopub.status.idle": "2021-01-14T22:10:27.271718Z",
     "shell.execute_reply": "2021-01-14T22:10:27.272592Z"
    },
    "papermill": {
     "duration": 0.660976,
     "end_time": "2021-01-14T22:10:27.272832",
     "exception": false,
     "start_time": "2021-01-14T22:10:26.611856",
     "status": "completed"
    },
    "tags": []
   },
   "outputs": [
    {
     "name": "stderr",
     "output_type": "stream",
     "text": [
      "/opt/conda/lib/python3.7/site-packages/sklearn/compose/_column_transformer.py:440: FutureWarning: Given feature/column names or counts do not match the ones for the data given during fit. This will fail from v0.24.\n",
      "  FutureWarning)\n"
     ]
    },
    {
     "name": "stdout",
     "output_type": "stream",
     "text": [
      "Predictions are successfully saved in the file -- submission.csv\n"
     ]
    }
   ],
   "source": [
    "final_model = Pipeline(steps=[('preprocessor', preprocessor_mean),\n",
    "                      ('model', best_model_xgb)\n",
    "                     ])\n",
    "\n",
    "final_model.fit(X, y)\n",
    "\n",
    "preds_test = final_model.predict(X_test)\n",
    "\n",
    "# Save test predictions to file\n",
    "output = pd.DataFrame({'PassengerId': test_df.PassengerId,\n",
    "                       'Survived': preds_test})\n",
    "output.to_csv('submission.csv', index=False)\n",
    "\n",
    "print('Predictions are successfully saved in the file -- submission.csv')"
   ]
  }
 ],
 "metadata": {
  "kernelspec": {
   "display_name": "Python 3",
   "language": "python",
   "name": "python3"
  },
  "language_info": {
   "codemirror_mode": {
    "name": "ipython",
    "version": 3
   },
   "file_extension": ".py",
   "mimetype": "text/x-python",
   "name": "python",
   "nbconvert_exporter": "python",
   "pygments_lexer": "ipython3",
   "version": "3.7.6"
  },
  "papermill": {
   "duration": 69.182295,
   "end_time": "2021-01-14T22:10:27.503689",
   "environment_variables": {},
   "exception": null,
   "input_path": "__notebook__.ipynb",
   "output_path": "__notebook__.ipynb",
   "parameters": {},
   "start_time": "2021-01-14T22:09:18.321394",
   "version": "2.1.0"
  }
 },
 "nbformat": 4,
 "nbformat_minor": 4
}

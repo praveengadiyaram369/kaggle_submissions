{
 "cells": [
  {
   "cell_type": "code",
   "execution_count": 1,
   "metadata": {
    "_cell_guid": "b1076dfc-b9ad-4769-8c92-a6c4dae69d19",
    "_uuid": "8f2839f25d086af736a60e9eeb907d3b93b6e0e5",
    "execution": {
     "iopub.execute_input": "2021-01-28T21:15:45.326078Z",
     "iopub.status.busy": "2021-01-28T21:15:45.325110Z",
     "iopub.status.idle": "2021-01-28T21:15:45.330355Z",
     "shell.execute_reply": "2021-01-28T21:15:45.330841Z"
    },
    "papermill": {
     "duration": 0.027579,
     "end_time": "2021-01-28T21:15:45.331008",
     "exception": false,
     "start_time": "2021-01-28T21:15:45.303429",
     "status": "completed"
    },
    "tags": []
   },
   "outputs": [
    {
     "name": "stdout",
     "output_type": "stream",
     "text": [
      "/kaggle/input/digit-recognizer/sample_submission.csv\n",
      "/kaggle/input/digit-recognizer/train.csv\n",
      "/kaggle/input/digit-recognizer/test.csv\n"
     ]
    }
   ],
   "source": [
    "import numpy as np # linear algebra\n",
    "import pandas as pd # data processing, CSV file I/O (e.g. pd.read_csv)\n",
    "\n",
    "import os\n",
    "for dirname, _, filenames in os.walk('/kaggle/input'):\n",
    "    for filename in filenames:\n",
    "        print(os.path.join(dirname, filename))"
   ]
  },
  {
   "cell_type": "code",
   "execution_count": 2,
   "metadata": {
    "execution": {
     "iopub.execute_input": "2021-01-28T21:15:45.367704Z",
     "iopub.status.busy": "2021-01-28T21:15:45.367158Z",
     "iopub.status.idle": "2021-01-28T21:15:48.651251Z",
     "shell.execute_reply": "2021-01-28T21:15:48.650404Z"
    },
    "papermill": {
     "duration": 3.304898,
     "end_time": "2021-01-28T21:15:48.651438",
     "exception": false,
     "start_time": "2021-01-28T21:15:45.346540",
     "status": "completed"
    },
    "tags": []
   },
   "outputs": [
    {
     "data": {
      "text/html": [
       "<div>\n",
       "<style scoped>\n",
       "    .dataframe tbody tr th:only-of-type {\n",
       "        vertical-align: middle;\n",
       "    }\n",
       "\n",
       "    .dataframe tbody tr th {\n",
       "        vertical-align: top;\n",
       "    }\n",
       "\n",
       "    .dataframe thead th {\n",
       "        text-align: right;\n",
       "    }\n",
       "</style>\n",
       "<table border=\"1\" class=\"dataframe\">\n",
       "  <thead>\n",
       "    <tr style=\"text-align: right;\">\n",
       "      <th></th>\n",
       "      <th>label</th>\n",
       "      <th>pixel0</th>\n",
       "      <th>pixel1</th>\n",
       "      <th>pixel2</th>\n",
       "      <th>pixel3</th>\n",
       "      <th>pixel4</th>\n",
       "      <th>pixel5</th>\n",
       "      <th>pixel6</th>\n",
       "      <th>pixel7</th>\n",
       "      <th>pixel8</th>\n",
       "      <th>...</th>\n",
       "      <th>pixel774</th>\n",
       "      <th>pixel775</th>\n",
       "      <th>pixel776</th>\n",
       "      <th>pixel777</th>\n",
       "      <th>pixel778</th>\n",
       "      <th>pixel779</th>\n",
       "      <th>pixel780</th>\n",
       "      <th>pixel781</th>\n",
       "      <th>pixel782</th>\n",
       "      <th>pixel783</th>\n",
       "    </tr>\n",
       "  </thead>\n",
       "  <tbody>\n",
       "    <tr>\n",
       "      <th>0</th>\n",
       "      <td>1</td>\n",
       "      <td>0</td>\n",
       "      <td>0</td>\n",
       "      <td>0</td>\n",
       "      <td>0</td>\n",
       "      <td>0</td>\n",
       "      <td>0</td>\n",
       "      <td>0</td>\n",
       "      <td>0</td>\n",
       "      <td>0</td>\n",
       "      <td>...</td>\n",
       "      <td>0</td>\n",
       "      <td>0</td>\n",
       "      <td>0</td>\n",
       "      <td>0</td>\n",
       "      <td>0</td>\n",
       "      <td>0</td>\n",
       "      <td>0</td>\n",
       "      <td>0</td>\n",
       "      <td>0</td>\n",
       "      <td>0</td>\n",
       "    </tr>\n",
       "    <tr>\n",
       "      <th>1</th>\n",
       "      <td>0</td>\n",
       "      <td>0</td>\n",
       "      <td>0</td>\n",
       "      <td>0</td>\n",
       "      <td>0</td>\n",
       "      <td>0</td>\n",
       "      <td>0</td>\n",
       "      <td>0</td>\n",
       "      <td>0</td>\n",
       "      <td>0</td>\n",
       "      <td>...</td>\n",
       "      <td>0</td>\n",
       "      <td>0</td>\n",
       "      <td>0</td>\n",
       "      <td>0</td>\n",
       "      <td>0</td>\n",
       "      <td>0</td>\n",
       "      <td>0</td>\n",
       "      <td>0</td>\n",
       "      <td>0</td>\n",
       "      <td>0</td>\n",
       "    </tr>\n",
       "    <tr>\n",
       "      <th>2</th>\n",
       "      <td>1</td>\n",
       "      <td>0</td>\n",
       "      <td>0</td>\n",
       "      <td>0</td>\n",
       "      <td>0</td>\n",
       "      <td>0</td>\n",
       "      <td>0</td>\n",
       "      <td>0</td>\n",
       "      <td>0</td>\n",
       "      <td>0</td>\n",
       "      <td>...</td>\n",
       "      <td>0</td>\n",
       "      <td>0</td>\n",
       "      <td>0</td>\n",
       "      <td>0</td>\n",
       "      <td>0</td>\n",
       "      <td>0</td>\n",
       "      <td>0</td>\n",
       "      <td>0</td>\n",
       "      <td>0</td>\n",
       "      <td>0</td>\n",
       "    </tr>\n",
       "    <tr>\n",
       "      <th>3</th>\n",
       "      <td>4</td>\n",
       "      <td>0</td>\n",
       "      <td>0</td>\n",
       "      <td>0</td>\n",
       "      <td>0</td>\n",
       "      <td>0</td>\n",
       "      <td>0</td>\n",
       "      <td>0</td>\n",
       "      <td>0</td>\n",
       "      <td>0</td>\n",
       "      <td>...</td>\n",
       "      <td>0</td>\n",
       "      <td>0</td>\n",
       "      <td>0</td>\n",
       "      <td>0</td>\n",
       "      <td>0</td>\n",
       "      <td>0</td>\n",
       "      <td>0</td>\n",
       "      <td>0</td>\n",
       "      <td>0</td>\n",
       "      <td>0</td>\n",
       "    </tr>\n",
       "    <tr>\n",
       "      <th>4</th>\n",
       "      <td>0</td>\n",
       "      <td>0</td>\n",
       "      <td>0</td>\n",
       "      <td>0</td>\n",
       "      <td>0</td>\n",
       "      <td>0</td>\n",
       "      <td>0</td>\n",
       "      <td>0</td>\n",
       "      <td>0</td>\n",
       "      <td>0</td>\n",
       "      <td>...</td>\n",
       "      <td>0</td>\n",
       "      <td>0</td>\n",
       "      <td>0</td>\n",
       "      <td>0</td>\n",
       "      <td>0</td>\n",
       "      <td>0</td>\n",
       "      <td>0</td>\n",
       "      <td>0</td>\n",
       "      <td>0</td>\n",
       "      <td>0</td>\n",
       "    </tr>\n",
       "    <tr>\n",
       "      <th>...</th>\n",
       "      <td>...</td>\n",
       "      <td>...</td>\n",
       "      <td>...</td>\n",
       "      <td>...</td>\n",
       "      <td>...</td>\n",
       "      <td>...</td>\n",
       "      <td>...</td>\n",
       "      <td>...</td>\n",
       "      <td>...</td>\n",
       "      <td>...</td>\n",
       "      <td>...</td>\n",
       "      <td>...</td>\n",
       "      <td>...</td>\n",
       "      <td>...</td>\n",
       "      <td>...</td>\n",
       "      <td>...</td>\n",
       "      <td>...</td>\n",
       "      <td>...</td>\n",
       "      <td>...</td>\n",
       "      <td>...</td>\n",
       "      <td>...</td>\n",
       "    </tr>\n",
       "    <tr>\n",
       "      <th>41995</th>\n",
       "      <td>0</td>\n",
       "      <td>0</td>\n",
       "      <td>0</td>\n",
       "      <td>0</td>\n",
       "      <td>0</td>\n",
       "      <td>0</td>\n",
       "      <td>0</td>\n",
       "      <td>0</td>\n",
       "      <td>0</td>\n",
       "      <td>0</td>\n",
       "      <td>...</td>\n",
       "      <td>0</td>\n",
       "      <td>0</td>\n",
       "      <td>0</td>\n",
       "      <td>0</td>\n",
       "      <td>0</td>\n",
       "      <td>0</td>\n",
       "      <td>0</td>\n",
       "      <td>0</td>\n",
       "      <td>0</td>\n",
       "      <td>0</td>\n",
       "    </tr>\n",
       "    <tr>\n",
       "      <th>41996</th>\n",
       "      <td>1</td>\n",
       "      <td>0</td>\n",
       "      <td>0</td>\n",
       "      <td>0</td>\n",
       "      <td>0</td>\n",
       "      <td>0</td>\n",
       "      <td>0</td>\n",
       "      <td>0</td>\n",
       "      <td>0</td>\n",
       "      <td>0</td>\n",
       "      <td>...</td>\n",
       "      <td>0</td>\n",
       "      <td>0</td>\n",
       "      <td>0</td>\n",
       "      <td>0</td>\n",
       "      <td>0</td>\n",
       "      <td>0</td>\n",
       "      <td>0</td>\n",
       "      <td>0</td>\n",
       "      <td>0</td>\n",
       "      <td>0</td>\n",
       "    </tr>\n",
       "    <tr>\n",
       "      <th>41997</th>\n",
       "      <td>7</td>\n",
       "      <td>0</td>\n",
       "      <td>0</td>\n",
       "      <td>0</td>\n",
       "      <td>0</td>\n",
       "      <td>0</td>\n",
       "      <td>0</td>\n",
       "      <td>0</td>\n",
       "      <td>0</td>\n",
       "      <td>0</td>\n",
       "      <td>...</td>\n",
       "      <td>0</td>\n",
       "      <td>0</td>\n",
       "      <td>0</td>\n",
       "      <td>0</td>\n",
       "      <td>0</td>\n",
       "      <td>0</td>\n",
       "      <td>0</td>\n",
       "      <td>0</td>\n",
       "      <td>0</td>\n",
       "      <td>0</td>\n",
       "    </tr>\n",
       "    <tr>\n",
       "      <th>41998</th>\n",
       "      <td>6</td>\n",
       "      <td>0</td>\n",
       "      <td>0</td>\n",
       "      <td>0</td>\n",
       "      <td>0</td>\n",
       "      <td>0</td>\n",
       "      <td>0</td>\n",
       "      <td>0</td>\n",
       "      <td>0</td>\n",
       "      <td>0</td>\n",
       "      <td>...</td>\n",
       "      <td>0</td>\n",
       "      <td>0</td>\n",
       "      <td>0</td>\n",
       "      <td>0</td>\n",
       "      <td>0</td>\n",
       "      <td>0</td>\n",
       "      <td>0</td>\n",
       "      <td>0</td>\n",
       "      <td>0</td>\n",
       "      <td>0</td>\n",
       "    </tr>\n",
       "    <tr>\n",
       "      <th>41999</th>\n",
       "      <td>9</td>\n",
       "      <td>0</td>\n",
       "      <td>0</td>\n",
       "      <td>0</td>\n",
       "      <td>0</td>\n",
       "      <td>0</td>\n",
       "      <td>0</td>\n",
       "      <td>0</td>\n",
       "      <td>0</td>\n",
       "      <td>0</td>\n",
       "      <td>...</td>\n",
       "      <td>0</td>\n",
       "      <td>0</td>\n",
       "      <td>0</td>\n",
       "      <td>0</td>\n",
       "      <td>0</td>\n",
       "      <td>0</td>\n",
       "      <td>0</td>\n",
       "      <td>0</td>\n",
       "      <td>0</td>\n",
       "      <td>0</td>\n",
       "    </tr>\n",
       "  </tbody>\n",
       "</table>\n",
       "<p>42000 rows × 785 columns</p>\n",
       "</div>"
      ],
      "text/plain": [
       "       label  pixel0  pixel1  pixel2  pixel3  pixel4  pixel5  pixel6  pixel7  \\\n",
       "0          1       0       0       0       0       0       0       0       0   \n",
       "1          0       0       0       0       0       0       0       0       0   \n",
       "2          1       0       0       0       0       0       0       0       0   \n",
       "3          4       0       0       0       0       0       0       0       0   \n",
       "4          0       0       0       0       0       0       0       0       0   \n",
       "...      ...     ...     ...     ...     ...     ...     ...     ...     ...   \n",
       "41995      0       0       0       0       0       0       0       0       0   \n",
       "41996      1       0       0       0       0       0       0       0       0   \n",
       "41997      7       0       0       0       0       0       0       0       0   \n",
       "41998      6       0       0       0       0       0       0       0       0   \n",
       "41999      9       0       0       0       0       0       0       0       0   \n",
       "\n",
       "       pixel8  ...  pixel774  pixel775  pixel776  pixel777  pixel778  \\\n",
       "0           0  ...         0         0         0         0         0   \n",
       "1           0  ...         0         0         0         0         0   \n",
       "2           0  ...         0         0         0         0         0   \n",
       "3           0  ...         0         0         0         0         0   \n",
       "4           0  ...         0         0         0         0         0   \n",
       "...       ...  ...       ...       ...       ...       ...       ...   \n",
       "41995       0  ...         0         0         0         0         0   \n",
       "41996       0  ...         0         0         0         0         0   \n",
       "41997       0  ...         0         0         0         0         0   \n",
       "41998       0  ...         0         0         0         0         0   \n",
       "41999       0  ...         0         0         0         0         0   \n",
       "\n",
       "       pixel779  pixel780  pixel781  pixel782  pixel783  \n",
       "0             0         0         0         0         0  \n",
       "1             0         0         0         0         0  \n",
       "2             0         0         0         0         0  \n",
       "3             0         0         0         0         0  \n",
       "4             0         0         0         0         0  \n",
       "...         ...       ...       ...       ...       ...  \n",
       "41995         0         0         0         0         0  \n",
       "41996         0         0         0         0         0  \n",
       "41997         0         0         0         0         0  \n",
       "41998         0         0         0         0         0  \n",
       "41999         0         0         0         0         0  \n",
       "\n",
       "[42000 rows x 785 columns]"
      ]
     },
     "execution_count": 2,
     "metadata": {},
     "output_type": "execute_result"
    }
   ],
   "source": [
    "train_df = pd.read_csv('../input/digit-recognizer/train.csv')\n",
    "train_df"
   ]
  },
  {
   "cell_type": "code",
   "execution_count": 3,
   "metadata": {
    "execution": {
     "iopub.execute_input": "2021-01-28T21:15:48.688841Z",
     "iopub.status.busy": "2021-01-28T21:15:48.688307Z",
     "iopub.status.idle": "2021-01-28T21:15:50.667591Z",
     "shell.execute_reply": "2021-01-28T21:15:50.668008Z"
    },
    "papermill": {
     "duration": 2.000581,
     "end_time": "2021-01-28T21:15:50.668138",
     "exception": false,
     "start_time": "2021-01-28T21:15:48.667557",
     "status": "completed"
    },
    "tags": []
   },
   "outputs": [
    {
     "data": {
      "text/html": [
       "<div>\n",
       "<style scoped>\n",
       "    .dataframe tbody tr th:only-of-type {\n",
       "        vertical-align: middle;\n",
       "    }\n",
       "\n",
       "    .dataframe tbody tr th {\n",
       "        vertical-align: top;\n",
       "    }\n",
       "\n",
       "    .dataframe thead th {\n",
       "        text-align: right;\n",
       "    }\n",
       "</style>\n",
       "<table border=\"1\" class=\"dataframe\">\n",
       "  <thead>\n",
       "    <tr style=\"text-align: right;\">\n",
       "      <th></th>\n",
       "      <th>pixel0</th>\n",
       "      <th>pixel1</th>\n",
       "      <th>pixel2</th>\n",
       "      <th>pixel3</th>\n",
       "      <th>pixel4</th>\n",
       "      <th>pixel5</th>\n",
       "      <th>pixel6</th>\n",
       "      <th>pixel7</th>\n",
       "      <th>pixel8</th>\n",
       "      <th>pixel9</th>\n",
       "      <th>...</th>\n",
       "      <th>pixel774</th>\n",
       "      <th>pixel775</th>\n",
       "      <th>pixel776</th>\n",
       "      <th>pixel777</th>\n",
       "      <th>pixel778</th>\n",
       "      <th>pixel779</th>\n",
       "      <th>pixel780</th>\n",
       "      <th>pixel781</th>\n",
       "      <th>pixel782</th>\n",
       "      <th>pixel783</th>\n",
       "    </tr>\n",
       "  </thead>\n",
       "  <tbody>\n",
       "    <tr>\n",
       "      <th>0</th>\n",
       "      <td>0</td>\n",
       "      <td>0</td>\n",
       "      <td>0</td>\n",
       "      <td>0</td>\n",
       "      <td>0</td>\n",
       "      <td>0</td>\n",
       "      <td>0</td>\n",
       "      <td>0</td>\n",
       "      <td>0</td>\n",
       "      <td>0</td>\n",
       "      <td>...</td>\n",
       "      <td>0</td>\n",
       "      <td>0</td>\n",
       "      <td>0</td>\n",
       "      <td>0</td>\n",
       "      <td>0</td>\n",
       "      <td>0</td>\n",
       "      <td>0</td>\n",
       "      <td>0</td>\n",
       "      <td>0</td>\n",
       "      <td>0</td>\n",
       "    </tr>\n",
       "    <tr>\n",
       "      <th>1</th>\n",
       "      <td>0</td>\n",
       "      <td>0</td>\n",
       "      <td>0</td>\n",
       "      <td>0</td>\n",
       "      <td>0</td>\n",
       "      <td>0</td>\n",
       "      <td>0</td>\n",
       "      <td>0</td>\n",
       "      <td>0</td>\n",
       "      <td>0</td>\n",
       "      <td>...</td>\n",
       "      <td>0</td>\n",
       "      <td>0</td>\n",
       "      <td>0</td>\n",
       "      <td>0</td>\n",
       "      <td>0</td>\n",
       "      <td>0</td>\n",
       "      <td>0</td>\n",
       "      <td>0</td>\n",
       "      <td>0</td>\n",
       "      <td>0</td>\n",
       "    </tr>\n",
       "    <tr>\n",
       "      <th>2</th>\n",
       "      <td>0</td>\n",
       "      <td>0</td>\n",
       "      <td>0</td>\n",
       "      <td>0</td>\n",
       "      <td>0</td>\n",
       "      <td>0</td>\n",
       "      <td>0</td>\n",
       "      <td>0</td>\n",
       "      <td>0</td>\n",
       "      <td>0</td>\n",
       "      <td>...</td>\n",
       "      <td>0</td>\n",
       "      <td>0</td>\n",
       "      <td>0</td>\n",
       "      <td>0</td>\n",
       "      <td>0</td>\n",
       "      <td>0</td>\n",
       "      <td>0</td>\n",
       "      <td>0</td>\n",
       "      <td>0</td>\n",
       "      <td>0</td>\n",
       "    </tr>\n",
       "    <tr>\n",
       "      <th>3</th>\n",
       "      <td>0</td>\n",
       "      <td>0</td>\n",
       "      <td>0</td>\n",
       "      <td>0</td>\n",
       "      <td>0</td>\n",
       "      <td>0</td>\n",
       "      <td>0</td>\n",
       "      <td>0</td>\n",
       "      <td>0</td>\n",
       "      <td>0</td>\n",
       "      <td>...</td>\n",
       "      <td>0</td>\n",
       "      <td>0</td>\n",
       "      <td>0</td>\n",
       "      <td>0</td>\n",
       "      <td>0</td>\n",
       "      <td>0</td>\n",
       "      <td>0</td>\n",
       "      <td>0</td>\n",
       "      <td>0</td>\n",
       "      <td>0</td>\n",
       "    </tr>\n",
       "    <tr>\n",
       "      <th>4</th>\n",
       "      <td>0</td>\n",
       "      <td>0</td>\n",
       "      <td>0</td>\n",
       "      <td>0</td>\n",
       "      <td>0</td>\n",
       "      <td>0</td>\n",
       "      <td>0</td>\n",
       "      <td>0</td>\n",
       "      <td>0</td>\n",
       "      <td>0</td>\n",
       "      <td>...</td>\n",
       "      <td>0</td>\n",
       "      <td>0</td>\n",
       "      <td>0</td>\n",
       "      <td>0</td>\n",
       "      <td>0</td>\n",
       "      <td>0</td>\n",
       "      <td>0</td>\n",
       "      <td>0</td>\n",
       "      <td>0</td>\n",
       "      <td>0</td>\n",
       "    </tr>\n",
       "    <tr>\n",
       "      <th>...</th>\n",
       "      <td>...</td>\n",
       "      <td>...</td>\n",
       "      <td>...</td>\n",
       "      <td>...</td>\n",
       "      <td>...</td>\n",
       "      <td>...</td>\n",
       "      <td>...</td>\n",
       "      <td>...</td>\n",
       "      <td>...</td>\n",
       "      <td>...</td>\n",
       "      <td>...</td>\n",
       "      <td>...</td>\n",
       "      <td>...</td>\n",
       "      <td>...</td>\n",
       "      <td>...</td>\n",
       "      <td>...</td>\n",
       "      <td>...</td>\n",
       "      <td>...</td>\n",
       "      <td>...</td>\n",
       "      <td>...</td>\n",
       "      <td>...</td>\n",
       "    </tr>\n",
       "    <tr>\n",
       "      <th>27995</th>\n",
       "      <td>0</td>\n",
       "      <td>0</td>\n",
       "      <td>0</td>\n",
       "      <td>0</td>\n",
       "      <td>0</td>\n",
       "      <td>0</td>\n",
       "      <td>0</td>\n",
       "      <td>0</td>\n",
       "      <td>0</td>\n",
       "      <td>0</td>\n",
       "      <td>...</td>\n",
       "      <td>0</td>\n",
       "      <td>0</td>\n",
       "      <td>0</td>\n",
       "      <td>0</td>\n",
       "      <td>0</td>\n",
       "      <td>0</td>\n",
       "      <td>0</td>\n",
       "      <td>0</td>\n",
       "      <td>0</td>\n",
       "      <td>0</td>\n",
       "    </tr>\n",
       "    <tr>\n",
       "      <th>27996</th>\n",
       "      <td>0</td>\n",
       "      <td>0</td>\n",
       "      <td>0</td>\n",
       "      <td>0</td>\n",
       "      <td>0</td>\n",
       "      <td>0</td>\n",
       "      <td>0</td>\n",
       "      <td>0</td>\n",
       "      <td>0</td>\n",
       "      <td>0</td>\n",
       "      <td>...</td>\n",
       "      <td>0</td>\n",
       "      <td>0</td>\n",
       "      <td>0</td>\n",
       "      <td>0</td>\n",
       "      <td>0</td>\n",
       "      <td>0</td>\n",
       "      <td>0</td>\n",
       "      <td>0</td>\n",
       "      <td>0</td>\n",
       "      <td>0</td>\n",
       "    </tr>\n",
       "    <tr>\n",
       "      <th>27997</th>\n",
       "      <td>0</td>\n",
       "      <td>0</td>\n",
       "      <td>0</td>\n",
       "      <td>0</td>\n",
       "      <td>0</td>\n",
       "      <td>0</td>\n",
       "      <td>0</td>\n",
       "      <td>0</td>\n",
       "      <td>0</td>\n",
       "      <td>0</td>\n",
       "      <td>...</td>\n",
       "      <td>0</td>\n",
       "      <td>0</td>\n",
       "      <td>0</td>\n",
       "      <td>0</td>\n",
       "      <td>0</td>\n",
       "      <td>0</td>\n",
       "      <td>0</td>\n",
       "      <td>0</td>\n",
       "      <td>0</td>\n",
       "      <td>0</td>\n",
       "    </tr>\n",
       "    <tr>\n",
       "      <th>27998</th>\n",
       "      <td>0</td>\n",
       "      <td>0</td>\n",
       "      <td>0</td>\n",
       "      <td>0</td>\n",
       "      <td>0</td>\n",
       "      <td>0</td>\n",
       "      <td>0</td>\n",
       "      <td>0</td>\n",
       "      <td>0</td>\n",
       "      <td>0</td>\n",
       "      <td>...</td>\n",
       "      <td>0</td>\n",
       "      <td>0</td>\n",
       "      <td>0</td>\n",
       "      <td>0</td>\n",
       "      <td>0</td>\n",
       "      <td>0</td>\n",
       "      <td>0</td>\n",
       "      <td>0</td>\n",
       "      <td>0</td>\n",
       "      <td>0</td>\n",
       "    </tr>\n",
       "    <tr>\n",
       "      <th>27999</th>\n",
       "      <td>0</td>\n",
       "      <td>0</td>\n",
       "      <td>0</td>\n",
       "      <td>0</td>\n",
       "      <td>0</td>\n",
       "      <td>0</td>\n",
       "      <td>0</td>\n",
       "      <td>0</td>\n",
       "      <td>0</td>\n",
       "      <td>0</td>\n",
       "      <td>...</td>\n",
       "      <td>0</td>\n",
       "      <td>0</td>\n",
       "      <td>0</td>\n",
       "      <td>0</td>\n",
       "      <td>0</td>\n",
       "      <td>0</td>\n",
       "      <td>0</td>\n",
       "      <td>0</td>\n",
       "      <td>0</td>\n",
       "      <td>0</td>\n",
       "    </tr>\n",
       "  </tbody>\n",
       "</table>\n",
       "<p>28000 rows × 784 columns</p>\n",
       "</div>"
      ],
      "text/plain": [
       "       pixel0  pixel1  pixel2  pixel3  pixel4  pixel5  pixel6  pixel7  pixel8  \\\n",
       "0           0       0       0       0       0       0       0       0       0   \n",
       "1           0       0       0       0       0       0       0       0       0   \n",
       "2           0       0       0       0       0       0       0       0       0   \n",
       "3           0       0       0       0       0       0       0       0       0   \n",
       "4           0       0       0       0       0       0       0       0       0   \n",
       "...       ...     ...     ...     ...     ...     ...     ...     ...     ...   \n",
       "27995       0       0       0       0       0       0       0       0       0   \n",
       "27996       0       0       0       0       0       0       0       0       0   \n",
       "27997       0       0       0       0       0       0       0       0       0   \n",
       "27998       0       0       0       0       0       0       0       0       0   \n",
       "27999       0       0       0       0       0       0       0       0       0   \n",
       "\n",
       "       pixel9  ...  pixel774  pixel775  pixel776  pixel777  pixel778  \\\n",
       "0           0  ...         0         0         0         0         0   \n",
       "1           0  ...         0         0         0         0         0   \n",
       "2           0  ...         0         0         0         0         0   \n",
       "3           0  ...         0         0         0         0         0   \n",
       "4           0  ...         0         0         0         0         0   \n",
       "...       ...  ...       ...       ...       ...       ...       ...   \n",
       "27995       0  ...         0         0         0         0         0   \n",
       "27996       0  ...         0         0         0         0         0   \n",
       "27997       0  ...         0         0         0         0         0   \n",
       "27998       0  ...         0         0         0         0         0   \n",
       "27999       0  ...         0         0         0         0         0   \n",
       "\n",
       "       pixel779  pixel780  pixel781  pixel782  pixel783  \n",
       "0             0         0         0         0         0  \n",
       "1             0         0         0         0         0  \n",
       "2             0         0         0         0         0  \n",
       "3             0         0         0         0         0  \n",
       "4             0         0         0         0         0  \n",
       "...         ...       ...       ...       ...       ...  \n",
       "27995         0         0         0         0         0  \n",
       "27996         0         0         0         0         0  \n",
       "27997         0         0         0         0         0  \n",
       "27998         0         0         0         0         0  \n",
       "27999         0         0         0         0         0  \n",
       "\n",
       "[28000 rows x 784 columns]"
      ]
     },
     "execution_count": 3,
     "metadata": {},
     "output_type": "execute_result"
    }
   ],
   "source": [
    "test_df = pd.read_csv('../input/digit-recognizer/test.csv')\n",
    "test_df"
   ]
  },
  {
   "cell_type": "code",
   "execution_count": 4,
   "metadata": {
    "execution": {
     "iopub.execute_input": "2021-01-28T21:15:50.706238Z",
     "iopub.status.busy": "2021-01-28T21:15:50.705655Z",
     "iopub.status.idle": "2021-01-28T21:15:50.709786Z",
     "shell.execute_reply": "2021-01-28T21:15:50.709375Z"
    },
    "papermill": {
     "duration": 0.025019,
     "end_time": "2021-01-28T21:15:50.709875",
     "exception": false,
     "start_time": "2021-01-28T21:15:50.684856",
     "status": "completed"
    },
    "tags": []
   },
   "outputs": [],
   "source": [
    "X = train_df.iloc[:,1:].values\n",
    "y = train_df.label"
   ]
  },
  {
   "cell_type": "code",
   "execution_count": 5,
   "metadata": {
    "execution": {
     "iopub.execute_input": "2021-01-28T21:15:50.771044Z",
     "iopub.status.busy": "2021-01-28T21:15:50.769911Z",
     "iopub.status.idle": "2021-01-28T21:15:50.781303Z",
     "shell.execute_reply": "2021-01-28T21:15:50.780422Z"
    },
    "papermill": {
     "duration": 0.043296,
     "end_time": "2021-01-28T21:15:50.781455",
     "exception": false,
     "start_time": "2021-01-28T21:15:50.738159",
     "status": "completed"
    },
    "tags": []
   },
   "outputs": [
    {
     "name": "stdout",
     "output_type": "stream",
     "text": [
      "(42000, 784)\n",
      "(42000,)\n"
     ]
    }
   ],
   "source": [
    "print(X.shape)\n",
    "print(y.shape)"
   ]
  },
  {
   "cell_type": "code",
   "execution_count": 6,
   "metadata": {
    "execution": {
     "iopub.execute_input": "2021-01-28T21:15:50.862010Z",
     "iopub.status.busy": "2021-01-28T21:15:50.860329Z",
     "iopub.status.idle": "2021-01-28T21:15:50.862813Z",
     "shell.execute_reply": "2021-01-28T21:15:50.861138Z"
    },
    "papermill": {
     "duration": 0.049904,
     "end_time": "2021-01-28T21:15:50.862971",
     "exception": false,
     "start_time": "2021-01-28T21:15:50.813067",
     "status": "completed"
    },
    "tags": []
   },
   "outputs": [],
   "source": [
    "import matplotlib.pyplot as plt\n",
    "%matplotlib inline\n",
    "from random import randint"
   ]
  },
  {
   "cell_type": "code",
   "execution_count": 7,
   "metadata": {
    "execution": {
     "iopub.execute_input": "2021-01-28T21:15:50.933901Z",
     "iopub.status.busy": "2021-01-28T21:15:50.933118Z",
     "iopub.status.idle": "2021-01-28T21:15:50.941744Z",
     "shell.execute_reply": "2021-01-28T21:15:50.942627Z"
    },
    "papermill": {
     "duration": 0.044221,
     "end_time": "2021-01-28T21:15:50.942858",
     "exception": false,
     "start_time": "2021-01-28T21:15:50.898637",
     "status": "completed"
    },
    "tags": []
   },
   "outputs": [
    {
     "data": {
      "text/plain": [
       "array([  0,   0,   0,   0,   0,   0,   0,   0,   0,   0,   0,   0,   0,\n",
       "         0,   0,   0,   0,   0,   0,   0,   0,   0,   0,   0,   0,   0,\n",
       "         0,   0,   0,   0,   0,   0,   0,   0,   0,   0,   0,   0,   0,\n",
       "         0,   0,   0,   0,   0,   0,   0,   0,   0,   0,   0,   0,   0,\n",
       "         0,   0,   0,   0,   0,   0,   0,   0,   0,   0,   0,   0,   0,\n",
       "         0,   0,   0,   0,   0,   0,   0,   0,   0,   0,   0,   0,   0,\n",
       "         0,   0,   0,   0,   0,   0,   0,   0,   0,   0,   0,   0,   0,\n",
       "         0,   0,   0,  51, 133, 243, 196, 134, 133,  59,  13,  10,   0,\n",
       "         0,   0,   0,   0,   0,   0,   0,   0,   0,   0,   0,   0,   0,\n",
       "         0,   0,   0,   0,   0, 128, 238, 253, 253, 254, 253, 253, 253,\n",
       "       227, 145,  39,   0,   0,   0,   0,   0,   0,   0,   0,   0,   0,\n",
       "         0,   0,   0,   0,   0,   0,   0,   0,  37, 206, 217, 218, 220,\n",
       "       253, 253, 253, 253, 221,  98,   0,   0,   0,   0,   0,   0,   0,\n",
       "         0,   0,   0,   0,   0,   0,   0,   0,   0,   0,   0,   0,   0,\n",
       "         0,   9,  84, 108, 205, 242, 253, 221,  16,   0,   0,   0,   0,\n",
       "         0,   0,   0,   0,   0,   0,   0,   0,   0,   0,   0,   0,   0,\n",
       "         0,   0,   0,   0,   0,   0,   0, 194, 253, 253,  24,   0,   0,\n",
       "         0,   0,   0,   0,   0,   0,   0,   0,   0,   0,   0,   0,   0,\n",
       "         0,   0,   0,   0,   0,   0,   0,   0,   0, 194, 253, 253,  24,\n",
       "         0,   0,   0,   0,   0,   0,   0,   0,   0,   0,   0,   0,   0,\n",
       "         0,   0,   0,   0,   0,   0,   0,   0,   0,  17, 115, 242, 253,\n",
       "       221,  16,   0,   0,   0,   0,   0,   0,   0,   0,   0,   0,   0,\n",
       "         0,   0,   0,   0,   0,   0,   0,   0,   0,   0,   0,  49, 253,\n",
       "       253, 253,  53,   0,   0,   0,   0,   0,   0,   0,   0,   0,   0,\n",
       "         0,   0,   0,   0,   0,   0,   0,   0,   0,   0,   0,   0,  68,\n",
       "       195, 253, 253, 176,   4,   0,   0,   0,   0,   0,   0,   0,   0,\n",
       "         0,   0,   0,   0,   0,   0,   0,   0,   0,   0,   0,   0,   0,\n",
       "        12, 203, 253, 253, 126,   8,   0,   0,   0,   0,   0,   0,   0,\n",
       "         0,   0,   0,   0,   0,   0,   0,   0,   0,   0,   0,   0,   0,\n",
       "         6, 140, 255, 255, 252, 127,   0,   0,   0,   0,   0,   0,   0,\n",
       "         0,   0,   0,   0,   0,   0,   0,   0,   0,   0,   0,   0,   0,\n",
       "        10,  77, 197, 255, 253, 238, 128,   0,   0,   0,   0,   0,   0,\n",
       "         0,   0,   0,   0,   0,   0,   0,   0,   0,   0,   0,   0,   0,\n",
       "         0,  71, 194, 253, 253, 253, 205,  37,   0,   0,   0,   0,   0,\n",
       "         0,   0,   0,   0,   0,   0,   0,   0,   0,   0,   0,   0,   0,\n",
       "         0,  12, 141, 238, 253, 253, 230, 138,   0,   0,   0,   0,   0,\n",
       "         0,   0,   0,   0,   0,   0,   0,   0,   0,   0,   0,   0,   0,\n",
       "         0,   9,  84, 199, 253, 253, 253, 198,  43,   0,   0,   0,   0,\n",
       "         0,   0,   0,   0,   0,   0,   0,   0,   0,   0,   0,   0,   0,\n",
       "         0,   0,   7, 156, 253, 253, 253, 229,  77,   6,   0,   0,   0,\n",
       "         0,   0,   0,   0,   0,   0,   0,   0,   0,   0,   0,   0,   0,\n",
       "         0,   0,   0,   5, 159, 253, 253, 253, 153,  32,   0,   0,   0,\n",
       "         0,   0,   0,   0,   0,   0,   0,   0,   0,   0,   0,   0,   0,\n",
       "         0,   0,   0,   0,   0,  13, 253, 253, 253, 253, 226, 218, 218,\n",
       "       218, 218, 219, 218, 218, 218, 218, 218, 218, 172,   9,   0,   0,\n",
       "         0,   0,   0,   0,   0,   0,   0,   7, 207, 253, 253, 253, 253,\n",
       "       253, 253, 253, 253, 254, 253, 253, 253, 253, 253, 253, 253,  82,\n",
       "         0,   0,   0,   0,   0,   0,   0,   0,   0,   0,  18, 132, 213,\n",
       "       253, 253, 253, 253, 195, 253, 249, 143, 253, 172, 132, 132,  92,\n",
       "        11,   1,   0,   0,   0,   0,   0,   0,   0,   0,   0,   0,   0,\n",
       "         0,   0,   0,   0,   0,   0,   0,   0,   0,   0,   0,   0,   0,\n",
       "         0,   0,   0,   0,   0,   0,   0,   0,   0,   0,   0,   0,   0,\n",
       "         0,   0,   0,   0,   0,   0,   0,   0,   0,   0,   0,   0,   0,\n",
       "         0,   0,   0,   0,   0,   0,   0,   0,   0,   0,   0,   0,   0,\n",
       "         0,   0,   0,   0,   0,   0,   0,   0,   0,   0,   0,   0,   0,\n",
       "         0,   0,   0,   0,   0,   0,   0,   0,   0,   0,   0,   0,   0,\n",
       "         0,   0,   0,   0,   0,   0,   0,   0,   0,   0,   0,   0,   0,\n",
       "         0,   0,   0,   0,   0,   0,   0,   0,   0,   0,   0,   0,   0,\n",
       "         0,   0,   0,   0,   0,   0,   0,   0,   0,   0,   0,   0,   0,\n",
       "         0,   0,   0,   0,   0,   0,   0,   0,   0,   0,   0,   0,   0,\n",
       "         0,   0,   0,   0])"
      ]
     },
     "execution_count": 7,
     "metadata": {},
     "output_type": "execute_result"
    }
   ],
   "source": [
    "X[324]"
   ]
  },
  {
   "cell_type": "code",
   "execution_count": 8,
   "metadata": {
    "execution": {
     "iopub.execute_input": "2021-01-28T21:15:51.020580Z",
     "iopub.status.busy": "2021-01-28T21:15:51.019572Z",
     "iopub.status.idle": "2021-01-28T21:15:51.370081Z",
     "shell.execute_reply": "2021-01-28T21:15:51.371100Z"
    },
    "papermill": {
     "duration": 0.391537,
     "end_time": "2021-01-28T21:15:51.371263",
     "exception": false,
     "start_time": "2021-01-28T21:15:50.979726",
     "status": "completed"
    },
    "tags": []
   },
   "outputs": [
    {
     "data": {
      "text/plain": [
       "<matplotlib.image.AxesImage at 0x7feb92b50710>"
      ]
     },
     "execution_count": 8,
     "metadata": {},
     "output_type": "execute_result"
    },
    {
     "data": {
      "image/png": "[encoded data removed]",
      "text/plain": [
       "<Figure size 432x288 with 1 Axes>"
      ]
     },
     "metadata": {
      "needs_background": "light"
     },
     "output_type": "display_data"
    }
   ],
   "source": [
    "plt.imshow(X[324].reshape(28, 28), cmap='gray_r')"
   ]
  },
  {
   "cell_type": "code",
   "execution_count": 9,
   "metadata": {
    "execution": {
     "iopub.execute_input": "2021-01-28T21:15:51.440844Z",
     "iopub.status.busy": "2021-01-28T21:15:51.440133Z",
     "iopub.status.idle": "2021-01-28T21:15:51.529063Z",
     "shell.execute_reply": "2021-01-28T21:15:51.530208Z"
    },
    "papermill": {
     "duration": 0.129756,
     "end_time": "2021-01-28T21:15:51.530382",
     "exception": false,
     "start_time": "2021-01-28T21:15:51.400626",
     "status": "completed"
    },
    "tags": []
   },
   "outputs": [],
   "source": [
    "X = X.astype('float32')\n",
    "y = y.values.reshape(y.shape[0], 1).astype('int32')\n",
    "\n",
    "X /= 255"
   ]
  },
  {
   "cell_type": "code",
   "execution_count": 10,
   "metadata": {
    "execution": {
     "iopub.execute_input": "2021-01-28T21:15:51.594119Z",
     "iopub.status.busy": "2021-01-28T21:15:51.592438Z",
     "iopub.status.idle": "2021-01-28T21:15:51.595982Z",
     "shell.execute_reply": "2021-01-28T21:15:51.595503Z"
    },
    "papermill": {
     "duration": 0.031438,
     "end_time": "2021-01-28T21:15:51.596067",
     "exception": false,
     "start_time": "2021-01-28T21:15:51.564629",
     "status": "completed"
    },
    "tags": []
   },
   "outputs": [
    {
     "data": {
      "text/plain": [
       "array([[1],\n",
       "       [0],\n",
       "       [1],\n",
       "       ...,\n",
       "       [7],\n",
       "       [6],\n",
       "       [9]], dtype=int32)"
      ]
     },
     "execution_count": 10,
     "metadata": {},
     "output_type": "execute_result"
    }
   ],
   "source": [
    "y"
   ]
  },
  {
   "cell_type": "code",
   "execution_count": 11,
   "metadata": {
    "execution": {
     "iopub.execute_input": "2021-01-28T21:15:51.646159Z",
     "iopub.status.busy": "2021-01-28T21:15:51.645564Z",
     "iopub.status.idle": "2021-01-28T21:15:56.659461Z",
     "shell.execute_reply": "2021-01-28T21:15:56.658451Z"
    },
    "papermill": {
     "duration": 5.044647,
     "end_time": "2021-01-28T21:15:56.659574",
     "exception": false,
     "start_time": "2021-01-28T21:15:51.614927",
     "status": "completed"
    },
    "tags": []
   },
   "outputs": [],
   "source": [
    "import tensorflow as tf\n",
    "\n",
    "y = tf.keras.utils.to_categorical(y, 10)"
   ]
  },
  {
   "cell_type": "code",
   "execution_count": 12,
   "metadata": {
    "execution": {
     "iopub.execute_input": "2021-01-28T21:15:56.703122Z",
     "iopub.status.busy": "2021-01-28T21:15:56.702463Z",
     "iopub.status.idle": "2021-01-28T21:15:56.705458Z",
     "shell.execute_reply": "2021-01-28T21:15:56.705874Z"
    },
    "papermill": {
     "duration": 0.026705,
     "end_time": "2021-01-28T21:15:56.706002",
     "exception": false,
     "start_time": "2021-01-28T21:15:56.679297",
     "status": "completed"
    },
    "tags": []
   },
   "outputs": [
    {
     "name": "stdout",
     "output_type": "stream",
     "text": [
      "[0. 1. 0. 0. 0. 0. 0. 0. 0. 0.]\n"
     ]
    }
   ],
   "source": [
    "print(y[2])"
   ]
  },
  {
   "cell_type": "code",
   "execution_count": 13,
   "metadata": {
    "execution": {
     "iopub.execute_input": "2021-01-28T21:15:56.750967Z",
     "iopub.status.busy": "2021-01-28T21:15:56.750447Z",
     "iopub.status.idle": "2021-01-28T21:15:59.313852Z",
     "shell.execute_reply": "2021-01-28T21:15:59.312658Z"
    },
    "papermill": {
     "duration": 2.588418,
     "end_time": "2021-01-28T21:15:59.314005",
     "exception": false,
     "start_time": "2021-01-28T21:15:56.725587",
     "status": "completed"
    },
    "tags": []
   },
   "outputs": [],
   "source": [
    "ann = tf.keras.models.Sequential([\n",
    "    tf.keras.layers.Dense(units=512, input_shape=[784], activation='relu'),\n",
    "    tf.keras.layers.Dense(units=512, activation='sigmoid'),\n",
    "    tf.keras.layers.Dense(units=10, activation='softmax'),\n",
    "])"
   ]
  },
  {
   "cell_type": "code",
   "execution_count": 14,
   "metadata": {
    "execution": {
     "iopub.execute_input": "2021-01-28T21:15:59.362629Z",
     "iopub.status.busy": "2021-01-28T21:15:59.360203Z",
     "iopub.status.idle": "2021-01-28T21:15:59.365498Z",
     "shell.execute_reply": "2021-01-28T21:15:59.364861Z"
    },
    "papermill": {
     "duration": 0.032017,
     "end_time": "2021-01-28T21:15:59.365597",
     "exception": false,
     "start_time": "2021-01-28T21:15:59.333580",
     "status": "completed"
    },
    "tags": []
   },
   "outputs": [
    {
     "name": "stdout",
     "output_type": "stream",
     "text": [
      "Model: \"sequential\"\n",
      "_________________________________________________________________\n",
      "Layer (type)                 Output Shape              Param #   \n",
      "=================================================================\n",
      "dense (Dense)                (None, 512)               401920    \n",
      "_________________________________________________________________\n",
      "dense_1 (Dense)              (None, 512)               262656    \n",
      "_________________________________________________________________\n",
      "dense_2 (Dense)              (None, 10)                5130      \n",
      "=================================================================\n",
      "Total params: 669,706\n",
      "Trainable params: 669,706\n",
      "Non-trainable params: 0\n",
      "_________________________________________________________________\n"
     ]
    }
   ],
   "source": [
    "ann.summary()"
   ]
  },
  {
   "cell_type": "code",
   "execution_count": 15,
   "metadata": {
    "execution": {
     "iopub.execute_input": "2021-01-28T21:15:59.415163Z",
     "iopub.status.busy": "2021-01-28T21:15:59.414544Z",
     "iopub.status.idle": "2021-01-28T21:15:59.422137Z",
     "shell.execute_reply": "2021-01-28T21:15:59.421594Z"
    },
    "papermill": {
     "duration": 0.037062,
     "end_time": "2021-01-28T21:15:59.422275",
     "exception": false,
     "start_time": "2021-01-28T21:15:59.385213",
     "status": "completed"
    },
    "tags": []
   },
   "outputs": [],
   "source": [
    "ann.compile(optimizer='adam', loss='categorical_crossentropy', metrics=['accuracy'])"
   ]
  },
  {
   "cell_type": "code",
   "execution_count": 16,
   "metadata": {
    "execution": {
     "iopub.execute_input": "2021-01-28T21:15:59.468853Z",
     "iopub.status.busy": "2021-01-28T21:15:59.468310Z",
     "iopub.status.idle": "2021-01-28T21:16:12.826380Z",
     "shell.execute_reply": "2021-01-28T21:16:12.825714Z"
    },
    "papermill": {
     "duration": 13.384091,
     "end_time": "2021-01-28T21:16:12.826556",
     "exception": false,
     "start_time": "2021-01-28T21:15:59.442465",
     "status": "completed"
    },
    "tags": []
   },
   "outputs": [
    {
     "name": "stdout",
     "output_type": "stream",
     "text": [
      "Epoch 1/8\n",
      "504/504 [==============================] - 2s 4ms/step - loss: 0.3316 - accuracy: 0.8997 - val_loss: 0.1912 - val_accuracy: 0.9396\n",
      "Epoch 2/8\n",
      "504/504 [==============================] - 1s 3ms/step - loss: 0.1240 - accuracy: 0.9625 - val_loss: 0.1200 - val_accuracy: 0.9629\n",
      "Epoch 3/8\n",
      "504/504 [==============================] - 1s 3ms/step - loss: 0.0775 - accuracy: 0.9760 - val_loss: 0.0980 - val_accuracy: 0.9698\n",
      "Epoch 4/8\n",
      "504/504 [==============================] - 1s 3ms/step - loss: 0.0511 - accuracy: 0.9848 - val_loss: 0.1119 - val_accuracy: 0.9660\n",
      "Epoch 5/8\n",
      "504/504 [==============================] - 2s 4ms/step - loss: 0.0396 - accuracy: 0.9877 - val_loss: 0.0909 - val_accuracy: 0.9715\n",
      "Epoch 6/8\n",
      "504/504 [==============================] - 1s 3ms/step - loss: 0.0279 - accuracy: 0.9912 - val_loss: 0.1001 - val_accuracy: 0.9720\n",
      "Epoch 7/8\n",
      "504/504 [==============================] - 1s 3ms/step - loss: 0.0180 - accuracy: 0.9944 - val_loss: 0.1089 - val_accuracy: 0.9707\n",
      "Epoch 8/8\n",
      "504/504 [==============================] - 1s 3ms/step - loss: 0.0127 - accuracy: 0.9965 - val_loss: 0.1137 - val_accuracy: 0.9698\n"
     ]
    }
   ],
   "source": [
    "history = ann.fit(X, y, epochs=8, validation_split=0.4, batch_size=50)"
   ]
  },
  {
   "cell_type": "code",
   "execution_count": 17,
   "metadata": {
    "execution": {
     "iopub.execute_input": "2021-01-28T21:16:13.113378Z",
     "iopub.status.busy": "2021-01-28T21:16:13.110285Z",
     "iopub.status.idle": "2021-01-28T21:16:13.310547Z",
     "shell.execute_reply": "2021-01-28T21:16:13.311286Z"
    },
    "papermill": {
     "duration": 0.321625,
     "end_time": "2021-01-28T21:16:13.311469",
     "exception": false,
     "start_time": "2021-01-28T21:16:12.989844",
     "status": "completed"
    },
    "tags": []
   },
   "outputs": [
    {
     "data": {
      "image/png": "[encoded data removed]",
      "text/plain": [
       "<Figure size 432x288 with 1 Axes>"
      ]
     },
     "metadata": {
      "needs_background": "light"
     },
     "output_type": "display_data"
    }
   ],
   "source": [
    "import matplotlib.pyplot as plt\n",
    "%matplotlib inline\n",
    "\n",
    "plt.plot(history.history['loss'])\n",
    "plt.show()"
   ]
  },
  {
   "cell_type": "code",
   "execution_count": 18,
   "metadata": {
    "execution": {
     "iopub.execute_input": "2021-01-28T21:16:13.468618Z",
     "iopub.status.busy": "2021-01-28T21:16:13.467735Z",
     "iopub.status.idle": "2021-01-28T21:16:13.469923Z",
     "shell.execute_reply": "2021-01-28T21:16:13.470334Z"
    },
    "papermill": {
     "duration": 0.076936,
     "end_time": "2021-01-28T21:16:13.470447",
     "exception": false,
     "start_time": "2021-01-28T21:16:13.393511",
     "status": "completed"
    },
    "tags": []
   },
   "outputs": [],
   "source": [
    "# test_input = test_df.values.astype('float32')\n",
    "# test_input /= 255\n",
    "# results = ann.predict_classes(test_input)"
   ]
  },
  {
   "cell_type": "code",
   "execution_count": 19,
   "metadata": {
    "execution": {
     "iopub.execute_input": "2021-01-28T21:16:13.603882Z",
     "iopub.status.busy": "2021-01-28T21:16:13.603353Z",
     "iopub.status.idle": "2021-01-28T21:16:13.606748Z",
     "shell.execute_reply": "2021-01-28T21:16:13.607515Z"
    },
    "papermill": {
     "duration": 0.072337,
     "end_time": "2021-01-28T21:16:13.607641",
     "exception": false,
     "start_time": "2021-01-28T21:16:13.535304",
     "status": "completed"
    },
    "tags": []
   },
   "outputs": [],
   "source": [
    "# submissions=pd.DataFrame({\"ImageId\": list(range(1,len(results)+1)),\n",
    "#                          \"Label\": results})\n",
    "# submissions.to_csv(\"submission.csv\", index=False, header=True)"
   ]
  },
  {
   "cell_type": "markdown",
   "metadata": {
    "papermill": {
     "duration": 0.06469,
     "end_time": "2021-01-28T21:16:13.737556",
     "exception": false,
     "start_time": "2021-01-28T21:16:13.672866",
     "status": "completed"
    },
    "tags": []
   },
   "source": [
    "# using cnn"
   ]
  },
  {
   "cell_type": "code",
   "execution_count": 20,
   "metadata": {
    "execution": {
     "iopub.execute_input": "2021-01-28T21:16:13.873739Z",
     "iopub.status.busy": "2021-01-28T21:16:13.872744Z",
     "iopub.status.idle": "2021-01-28T21:16:13.875505Z",
     "shell.execute_reply": "2021-01-28T21:16:13.875093Z"
    },
    "papermill": {
     "duration": 0.072926,
     "end_time": "2021-01-28T21:16:13.875593",
     "exception": false,
     "start_time": "2021-01-28T21:16:13.802667",
     "status": "completed"
    },
    "tags": []
   },
   "outputs": [],
   "source": [
    "X = X.reshape(X.shape[0], 28, 28, 1)"
   ]
  },
  {
   "cell_type": "code",
   "execution_count": 21,
   "metadata": {
    "execution": {
     "iopub.execute_input": "2021-01-28T21:16:14.027708Z",
     "iopub.status.busy": "2021-01-28T21:16:14.026804Z",
     "iopub.status.idle": "2021-01-28T21:16:14.092606Z",
     "shell.execute_reply": "2021-01-28T21:16:14.092159Z"
    },
    "papermill": {
     "duration": 0.150771,
     "end_time": "2021-01-28T21:16:14.092717",
     "exception": false,
     "start_time": "2021-01-28T21:16:13.941946",
     "status": "completed"
    },
    "tags": []
   },
   "outputs": [
    {
     "name": "stdout",
     "output_type": "stream",
     "text": [
      "Model: \"sequential_1\"\n",
      "_________________________________________________________________\n",
      "Layer (type)                 Output Shape              Param #   \n",
      "=================================================================\n",
      "conv2d (Conv2D)              (None, 24, 24, 6)         156       \n",
      "_________________________________________________________________\n",
      "max_pooling2d (MaxPooling2D) (None, 12, 12, 6)         0         \n",
      "_________________________________________________________________\n",
      "dropout (Dropout)            (None, 12, 12, 6)         0         \n",
      "_________________________________________________________________\n",
      "conv2d_1 (Conv2D)            (None, 8, 8, 16)          2416      \n",
      "_________________________________________________________________\n",
      "max_pooling2d_1 (MaxPooling2 (None, 4, 4, 16)          0         \n",
      "_________________________________________________________________\n",
      "dropout_1 (Dropout)          (None, 4, 4, 16)          0         \n",
      "_________________________________________________________________\n",
      "flatten (Flatten)            (None, 256)               0         \n",
      "_________________________________________________________________\n",
      "dense_3 (Dense)              (None, 128)               32896     \n",
      "_________________________________________________________________\n",
      "dropout_2 (Dropout)          (None, 128)               0         \n",
      "_________________________________________________________________\n",
      "dense_4 (Dense)              (None, 10)                1290      \n",
      "=================================================================\n",
      "Total params: 36,758\n",
      "Trainable params: 36,758\n",
      "Non-trainable params: 0\n",
      "_________________________________________________________________\n"
     ]
    }
   ],
   "source": [
    "cnn = tf.keras.models.Sequential([\n",
    "    tf.keras.layers.Conv2D(filters=6, kernel_size=5, activation='relu', input_shape=[28, 28, 1]),\n",
    "    tf.keras.layers.MaxPooling2D(pool_size=2),\n",
    "    tf.keras.layers.Dropout(0.25),\n",
    "    \n",
    "    tf.keras.layers.Conv2D(filters=16, kernel_size=5, activation='relu'),\n",
    "    tf.keras.layers.MaxPooling2D(pool_size=2),\n",
    "    tf.keras.layers.Dropout(0.25), \n",
    "    \n",
    "    tf.keras.layers.Flatten(),\n",
    "    tf.keras.layers.Dense(units=128, activation='relu'),\n",
    "    tf.keras.layers.Dropout(0.5),\n",
    "    tf.keras.layers.Dense(units=10, activation='softmax'),\n",
    "])\n",
    "cnn.summary()"
   ]
  },
  {
   "cell_type": "code",
   "execution_count": 22,
   "metadata": {
    "execution": {
     "iopub.execute_input": "2021-01-28T21:16:14.237062Z",
     "iopub.status.busy": "2021-01-28T21:16:14.236512Z",
     "iopub.status.idle": "2021-01-28T21:16:14.243625Z",
     "shell.execute_reply": "2021-01-28T21:16:14.243102Z"
    },
    "papermill": {
     "duration": 0.081715,
     "end_time": "2021-01-28T21:16:14.243722",
     "exception": false,
     "start_time": "2021-01-28T21:16:14.162007",
     "status": "completed"
    },
    "tags": []
   },
   "outputs": [],
   "source": [
    "cnn.compile(optimizer='adam', loss='categorical_crossentropy', metrics=['accuracy'])"
   ]
  },
  {
   "cell_type": "code",
   "execution_count": 23,
   "metadata": {
    "execution": {
     "iopub.execute_input": "2021-01-28T21:16:14.380523Z",
     "iopub.status.busy": "2021-01-28T21:16:14.379973Z",
     "iopub.status.idle": "2021-01-28T21:16:14.383813Z",
     "shell.execute_reply": "2021-01-28T21:16:14.383375Z"
    },
    "papermill": {
     "duration": 0.073961,
     "end_time": "2021-01-28T21:16:14.383899",
     "exception": false,
     "start_time": "2021-01-28T21:16:14.309938",
     "status": "completed"
    },
    "tags": []
   },
   "outputs": [],
   "source": [
    "early_stopping = tf.keras.callbacks.EarlyStopping(\n",
    "    min_delta=0.001, \n",
    "    patience=5, \n",
    "    restore_best_weights=True,\n",
    ")"
   ]
  },
  {
   "cell_type": "code",
   "execution_count": 24,
   "metadata": {
    "execution": {
     "iopub.execute_input": "2021-01-28T21:16:14.521371Z",
     "iopub.status.busy": "2021-01-28T21:16:14.520352Z",
     "iopub.status.idle": "2021-01-28T21:17:35.444291Z",
     "shell.execute_reply": "2021-01-28T21:17:35.443577Z"
    },
    "papermill": {
     "duration": 80.994805,
     "end_time": "2021-01-28T21:17:35.444420",
     "exception": false,
     "start_time": "2021-01-28T21:16:14.449615",
     "status": "completed"
    },
    "tags": []
   },
   "outputs": [
    {
     "name": "stdout",
     "output_type": "stream",
     "text": [
      "Epoch 1/50\n",
      "788/788 [==============================] - 3s 4ms/step - loss: 0.6034 - accuracy: 0.8011 - val_loss: 0.1578 - val_accuracy: 0.9528\n",
      "Epoch 2/50\n",
      "788/788 [==============================] - 3s 4ms/step - loss: 0.2484 - accuracy: 0.9248 - val_loss: 0.1066 - val_accuracy: 0.9680\n",
      "Epoch 3/50\n",
      "788/788 [==============================] - 3s 4ms/step - loss: 0.1907 - accuracy: 0.9418 - val_loss: 0.0927 - val_accuracy: 0.9717\n",
      "Epoch 4/50\n",
      "788/788 [==============================] - 3s 4ms/step - loss: 0.1647 - accuracy: 0.9493 - val_loss: 0.0724 - val_accuracy: 0.9775\n",
      "Epoch 5/50\n",
      "788/788 [==============================] - 3s 4ms/step - loss: 0.1464 - accuracy: 0.9560 - val_loss: 0.0661 - val_accuracy: 0.9795\n",
      "Epoch 6/50\n",
      "788/788 [==============================] - 3s 4ms/step - loss: 0.1368 - accuracy: 0.9576 - val_loss: 0.0591 - val_accuracy: 0.9818\n",
      "Epoch 7/50\n",
      "788/788 [==============================] - 3s 4ms/step - loss: 0.1205 - accuracy: 0.9626 - val_loss: 0.0551 - val_accuracy: 0.9832\n",
      "Epoch 8/50\n",
      "788/788 [==============================] - 3s 4ms/step - loss: 0.1176 - accuracy: 0.9636 - val_loss: 0.0531 - val_accuracy: 0.9835\n",
      "Epoch 9/50\n",
      "788/788 [==============================] - 3s 4ms/step - loss: 0.1125 - accuracy: 0.9647 - val_loss: 0.0516 - val_accuracy: 0.9846\n",
      "Epoch 10/50\n",
      "788/788 [==============================] - 3s 4ms/step - loss: 0.1089 - accuracy: 0.9667 - val_loss: 0.0510 - val_accuracy: 0.9843\n",
      "Epoch 11/50\n",
      "788/788 [==============================] - 3s 4ms/step - loss: 0.1039 - accuracy: 0.9677 - val_loss: 0.0458 - val_accuracy: 0.9857\n",
      "Epoch 12/50\n",
      "788/788 [==============================] - 3s 4ms/step - loss: 0.1004 - accuracy: 0.9698 - val_loss: 0.0434 - val_accuracy: 0.9867\n",
      "Epoch 13/50\n",
      "788/788 [==============================] - 3s 4ms/step - loss: 0.0984 - accuracy: 0.9700 - val_loss: 0.0427 - val_accuracy: 0.9866\n",
      "Epoch 14/50\n",
      "788/788 [==============================] - 3s 4ms/step - loss: 0.0907 - accuracy: 0.9713 - val_loss: 0.0464 - val_accuracy: 0.9859\n",
      "Epoch 15/50\n",
      "788/788 [==============================] - 3s 4ms/step - loss: 0.0919 - accuracy: 0.9723 - val_loss: 0.0421 - val_accuracy: 0.9874\n",
      "Epoch 16/50\n",
      "788/788 [==============================] - 3s 4ms/step - loss: 0.0899 - accuracy: 0.9737 - val_loss: 0.0420 - val_accuracy: 0.9873\n",
      "Epoch 17/50\n",
      "788/788 [==============================] - 3s 4ms/step - loss: 0.0850 - accuracy: 0.9731 - val_loss: 0.0414 - val_accuracy: 0.9864\n",
      "Epoch 18/50\n",
      "788/788 [==============================] - 3s 4ms/step - loss: 0.0873 - accuracy: 0.9732 - val_loss: 0.0402 - val_accuracy: 0.9879\n",
      "Epoch 19/50\n",
      "788/788 [==============================] - 3s 4ms/step - loss: 0.0875 - accuracy: 0.9721 - val_loss: 0.0412 - val_accuracy: 0.9879\n",
      "Epoch 20/50\n",
      "788/788 [==============================] - 3s 4ms/step - loss: 0.0801 - accuracy: 0.9749 - val_loss: 0.0415 - val_accuracy: 0.9875\n",
      "Epoch 21/50\n",
      "788/788 [==============================] - 3s 4ms/step - loss: 0.0848 - accuracy: 0.9736 - val_loss: 0.0389 - val_accuracy: 0.9879\n",
      "Epoch 22/50\n",
      "788/788 [==============================] - 3s 4ms/step - loss: 0.0828 - accuracy: 0.9748 - val_loss: 0.0381 - val_accuracy: 0.9887\n",
      "Epoch 23/50\n",
      "788/788 [==============================] - 3s 4ms/step - loss: 0.0795 - accuracy: 0.9752 - val_loss: 0.0387 - val_accuracy: 0.9878\n",
      "Epoch 24/50\n",
      "788/788 [==============================] - 3s 4ms/step - loss: 0.0811 - accuracy: 0.9746 - val_loss: 0.0382 - val_accuracy: 0.9886\n",
      "Epoch 25/50\n",
      "788/788 [==============================] - 3s 4ms/step - loss: 0.0797 - accuracy: 0.9755 - val_loss: 0.0429 - val_accuracy: 0.9870\n",
      "Epoch 26/50\n",
      "788/788 [==============================] - 3s 4ms/step - loss: 0.0759 - accuracy: 0.9762 - val_loss: 0.0406 - val_accuracy: 0.9873\n"
     ]
    }
   ],
   "source": [
    "history = cnn.fit(X, y, epochs=50, batch_size=32 ,validation_split=0.4, callbacks=[early_stopping])"
   ]
  },
  {
   "cell_type": "code",
   "execution_count": 25,
   "metadata": {
    "execution": {
     "iopub.execute_input": "2021-01-28T21:17:36.210888Z",
     "iopub.status.busy": "2021-01-28T21:17:36.210297Z",
     "iopub.status.idle": "2021-01-28T21:17:36.331784Z",
     "shell.execute_reply": "2021-01-28T21:17:36.330969Z"
    },
    "papermill": {
     "duration": 0.509047,
     "end_time": "2021-01-28T21:17:36.331949",
     "exception": false,
     "start_time": "2021-01-28T21:17:35.822902",
     "status": "completed"
    },
    "tags": []
   },
   "outputs": [
    {
     "data": {
      "image/png": "[encoded data removed]",
      "text/plain": [
       "<Figure size 432x288 with 1 Axes>"
      ]
     },
     "metadata": {
      "needs_background": "light"
     },
     "output_type": "display_data"
    }
   ],
   "source": [
    "plt.plot(history.history['loss'])\n",
    "plt.show()"
   ]
  },
  {
   "cell_type": "code",
   "execution_count": 26,
   "metadata": {
    "execution": {
     "iopub.execute_input": "2021-01-28T21:17:37.105375Z",
     "iopub.status.busy": "2021-01-28T21:17:37.104277Z",
     "iopub.status.idle": "2021-01-28T21:17:38.292899Z",
     "shell.execute_reply": "2021-01-28T21:17:38.291787Z"
    },
    "papermill": {
     "duration": 1.57576,
     "end_time": "2021-01-28T21:17:38.293056",
     "exception": false,
     "start_time": "2021-01-28T21:17:36.717296",
     "status": "completed"
    },
    "tags": []
   },
   "outputs": [],
   "source": [
    "test_input = test_df.values.astype('float32')\n",
    "test_input /= 255\n",
    "test_input = test_input.reshape(test_input.shape[0], 28, 28, 1)\n",
    "results = cnn.predict_classes(test_input)\n",
    "submissions=pd.DataFrame({\"ImageId\": list(range(1,len(results)+1)),\n",
    "                         \"Label\": results})\n",
    "submissions.to_csv(\"submission.csv\", index=False, header=True)"
   ]
  }
 ],
 "metadata": {
  "kernelspec": {
   "display_name": "Python 3",
   "language": "python",
   "name": "python3"
  },
  "language_info": {
   "codemirror_mode": {
    "name": "ipython",
    "version": 3
   },
   "file_extension": ".py",
   "mimetype": "text/x-python",
   "name": "python",
   "nbconvert_exporter": "python",
   "pygments_lexer": "ipython3",
   "version": "3.7.6"
  },
  "papermill": {
   "duration": 118.740432,
   "end_time": "2021-01-28T21:17:40.193511",
   "environment_variables": {},
   "exception": null,
   "input_path": "__notebook__.ipynb",
   "output_path": "__notebook__.ipynb",
   "parameters": {},
   "start_time": "2021-01-28T21:15:41.453079",
   "version": "2.1.0"
  }
 },
 "nbformat": 4,
 "nbformat_minor": 4
}
